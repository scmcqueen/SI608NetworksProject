{
 "cells": [
  {
   "cell_type": "markdown",
   "metadata": {},
   "source": [
    "# Functions to scrape the Spotify API\n",
    "These functions can be used to scrape the spotify API & generate the data needed from the Instagram Reels playlist."
   ]
  },
  {
   "cell_type": "code",
   "execution_count": 1,
   "metadata": {},
   "outputs": [],
   "source": [
    "import requests\n",
    "import regex as re\n",
    "import json"
   ]
  },
  {
   "cell_type": "code",
   "execution_count": 2,
   "metadata": {},
   "outputs": [],
   "source": [
    "def get_spotify_token(client_id,client_secret):\n",
    "        '''\n",
    "        Get the spotify api access token using client id and secret from post request. \n",
    "\n",
    "        PARAMETERS\n",
    "        ----------\n",
    "        client_id: str\n",
    "            client id for spotify developer account\n",
    "        client_secret: str\n",
    "            client secret for spotify developer account\n",
    "        RETURNS\n",
    "        -------\n",
    "        str\n",
    "            bearer access token for spotify api\n",
    "        '''\n",
    "        info = requests.post(url=\"https://accounts.spotify.com/api/token\",\n",
    "                        headers={\"Content-Type\":\"application/x-www-form-urlencoded\"},\n",
    "                        data=f\"grant_type=client_credentials&client_id={client_id}&client_secret={client_secret}\")\n",
    "        return(info.json()['access_token'])"
   ]
  },
  {
   "cell_type": "code",
   "execution_count": 3,
   "metadata": {},
   "outputs": [],
   "source": [
    "def parse_playlist_id(link='skyeler'):\n",
    "    '''\n",
    "    Get the spotify playlist id from a playlist link \n",
    "\n",
    "    PARAMETERS\n",
    "    ----------\n",
    "    link: str\n",
    "        the link to a playlist on spotify\n",
    "    \n",
    "    RETURNS\n",
    "    -------\n",
    "    str\n",
    "        the spotify playlist id\n",
    "    '''\n",
    "    regex_pattern = r'/playlist/([a-zA-Z0-9]+)'\n",
    "\n",
    "    regex_match = re.search(regex_pattern,link)\n",
    "\n",
    "    if regex_match:\n",
    "        id = regex_match.group(1)\n",
    "        return id\n",
    "    return None"
   ]
  },
  {
   "cell_type": "code",
   "execution_count": 4,
   "metadata": {},
   "outputs": [],
   "source": [
    "def get_title_info(headers,playlist_id):\n",
    "    '''\n",
    "    Makes a spotify api request to get the title and author of a playlist in a pretty string format.\n",
    "\n",
    "    PARAMETERS\n",
    "    ----------\n",
    "    headers: dict\n",
    "        api headers to use in the request, should be a dict with a bearer token.\n",
    "    playlist_id: str\n",
    "        the spotify unique id for a playlist\n",
    "\n",
    "    RETURNS\n",
    "    -------\n",
    "    str\n",
    "        the playlist name and ownner in the format \"<playlist name> by <playlist author>\"\n",
    "    '''\n",
    "    info = requests.get(f\"https://api.spotify.com/v1/playlists/{playlist_id}\",headers=headers).json()\n",
    "    return(f\"{info['name']} by {info['owner']['display_name']}\")"
   ]
  },
  {
   "cell_type": "code",
   "execution_count": 5,
   "metadata": {},
   "outputs": [],
   "source": [
    "def parse_playlist(api_output):\n",
    "    '''\n",
    "    Parses the api output of a spotify api playlist tracks call. \n",
    "    Finds each artist per each song on the playlist and adds the artist to a dictionary, \n",
    "    with their spotify id and their api_link. \n",
    "\n",
    "    PARAMETERS\n",
    "    ----------\n",
    "    api_output: requests response type\n",
    "        the output of an api get request\n",
    "\n",
    "    RETURNS\n",
    "    -------\n",
    "    dict\n",
    "        dictionary where the key is the name of an artist (str) and the value is a dictionary with info\n",
    "    '''\n",
    "    track_list = api_output.json()['items']\n",
    "    output = {}\n",
    "\n",
    "    for item in track_list:\n",
    "        artist_info = item['track']['artists']\n",
    "        for artist in artist_info:\n",
    "            id = artist['id']\n",
    "            name = artist['name']\n",
    "            api_link = artist['href']\n",
    "            output[name]={'id':id,\n",
    "                        'api_link':api_link}\n",
    "    return output"
   ]
  },
  {
   "cell_type": "code",
   "execution_count": 6,
   "metadata": {},
   "outputs": [],
   "source": [
    "\n",
    "def query_playlist(spotify_token,playlist_link:str):\n",
    "    headers={\"Authorization\": f\"Bearer {spotify_token}\"} #set the spotify headers\n",
    "    playlist_id = parse_playlist_id(playlist_link)\n",
    "    #title_info = get_title_info(headers,playlist_id)\n",
    "    playlist = requests.get(f\"https://api.spotify.com/v1/playlists/{playlist_id}/tracks\",headers=headers) #get the tracks\n",
    "    return playlist"
   ]
  },
  {
   "cell_type": "code",
   "execution_count": 7,
   "metadata": {},
   "outputs": [],
   "source": [
    "def get_artist_info(link,headers):\n",
    "   '''\n",
    "   Makes a request based on an artist's link and returns a dictionary with additional \n",
    "   info about that artist. \n",
    "\n",
    "   PARAMETERS\n",
    "   ----------\n",
    "   link: str\n",
    "        spotify api link to get information about an artist\n",
    "    headers: dict\n",
    "        api headers to use in the request, should be a dict with a bearer token.\n",
    "\n",
    "   RETURNS\n",
    "   -------\n",
    "   dict\n",
    "        a dictionary with the artist's genres, image information, and popularity\n",
    "   '''\n",
    "   info = requests.get(link,headers=headers).json()\n",
    "   try:\n",
    "     genres = info['genres']\n",
    "   except:\n",
    "      genres = []\n",
    "      print(info)\n",
    "   try:\n",
    "     followers = info['followers']['total']\n",
    "   except:\n",
    "      followers = None\n",
    "   try:\n",
    "     img_info = info['images']\n",
    "   except:\n",
    "      img_info = []\n",
    "   try:\n",
    "     popularity = info['popularity']\n",
    "   except:\n",
    "      popularity = None\n",
    "   return {'genres':genres,\n",
    "           'img_info':img_info,\n",
    "           'popularity':popularity,\n",
    "           'followers':followers}"
   ]
  },
  {
   "cell_type": "code",
   "execution_count": 8,
   "metadata": {},
   "outputs": [],
   "source": [
    "spotify_token = get_spotify_token()\n",
    "playlist_ex = query_playlist(spotify_token,'https://open.spotify.com/playlist/6dSz0AWxkgBfhlNBFyzqFf')"
   ]
  },
  {
   "cell_type": "code",
   "execution_count": 9,
   "metadata": {},
   "outputs": [],
   "source": [
    "playlist_dict = parse_playlist(playlist_ex)"
   ]
  },
  {
   "cell_type": "code",
   "execution_count": 10,
   "metadata": {},
   "outputs": [
    {
     "data": {
      "text/plain": [
       "{'id': '6qqNVTkY8uBg9cP3Jd7DAH',\n",
       " 'api_link': 'https://api.spotify.com/v1/artists/6qqNVTkY8uBg9cP3Jd7DAH'}"
      ]
     },
     "execution_count": 10,
     "metadata": {},
     "output_type": "execute_result"
    }
   ],
   "source": [
    "playlist_dict['Billie Eilish']"
   ]
  },
  {
   "cell_type": "code",
   "execution_count": 11,
   "metadata": {},
   "outputs": [],
   "source": [
    "def get_collaborators(albums:dict)->list:\n",
    "    collaborators = {''}\n",
    "    for al in albums['items']:\n",
    "        artist_list = al['artists']\n",
    "        for artist in artist_list:\n",
    "            collaborators.add((artist['name'],artist['uri']))\n",
    "    collaborators.remove('')\n",
    "    return(list(collaborators))"
   ]
  },
  {
   "cell_type": "code",
   "execution_count": 12,
   "metadata": {},
   "outputs": [
    {
     "ename": "JSONDecodeError",
     "evalue": "Expecting value: line 1 column 1 (char 0)",
     "output_type": "error",
     "traceback": [
      "\u001b[0;31m---------------------------------------------------------------------------\u001b[0m",
      "\u001b[0;31mJSONDecodeError\u001b[0m                           Traceback (most recent call last)",
      "File \u001b[0;32m~/anaconda3/envs/si649f23/lib/python3.11/site-packages/requests/models.py:960\u001b[0m, in \u001b[0;36mResponse.json\u001b[0;34m(self, **kwargs)\u001b[0m\n\u001b[1;32m    959\u001b[0m \u001b[38;5;28;01mtry\u001b[39;00m:\n\u001b[0;32m--> 960\u001b[0m     \u001b[38;5;28;01mreturn\u001b[39;00m complexjson\u001b[38;5;241m.\u001b[39mloads(\u001b[38;5;28mself\u001b[39m\u001b[38;5;241m.\u001b[39mcontent\u001b[38;5;241m.\u001b[39mdecode(encoding), \u001b[38;5;241m*\u001b[39m\u001b[38;5;241m*\u001b[39mkwargs)\n\u001b[1;32m    961\u001b[0m \u001b[38;5;28;01mexcept\u001b[39;00m \u001b[38;5;167;01mUnicodeDecodeError\u001b[39;00m:\n\u001b[1;32m    962\u001b[0m     \u001b[38;5;66;03m# Wrong UTF codec detected; usually because it's not UTF-8\u001b[39;00m\n\u001b[1;32m    963\u001b[0m     \u001b[38;5;66;03m# but some other 8-bit codec.  This is an RFC violation,\u001b[39;00m\n\u001b[1;32m    964\u001b[0m     \u001b[38;5;66;03m# and the server didn't bother to tell us what codec *was*\u001b[39;00m\n\u001b[1;32m    965\u001b[0m     \u001b[38;5;66;03m# used.\u001b[39;00m\n",
      "File \u001b[0;32m~/anaconda3/envs/si649f23/lib/python3.11/json/__init__.py:346\u001b[0m, in \u001b[0;36mloads\u001b[0;34m(s, cls, object_hook, parse_float, parse_int, parse_constant, object_pairs_hook, **kw)\u001b[0m\n\u001b[1;32m    343\u001b[0m \u001b[38;5;28;01mif\u001b[39;00m (\u001b[38;5;28mcls\u001b[39m \u001b[38;5;129;01mis\u001b[39;00m \u001b[38;5;28;01mNone\u001b[39;00m \u001b[38;5;129;01mand\u001b[39;00m object_hook \u001b[38;5;129;01mis\u001b[39;00m \u001b[38;5;28;01mNone\u001b[39;00m \u001b[38;5;129;01mand\u001b[39;00m\n\u001b[1;32m    344\u001b[0m         parse_int \u001b[38;5;129;01mis\u001b[39;00m \u001b[38;5;28;01mNone\u001b[39;00m \u001b[38;5;129;01mand\u001b[39;00m parse_float \u001b[38;5;129;01mis\u001b[39;00m \u001b[38;5;28;01mNone\u001b[39;00m \u001b[38;5;129;01mand\u001b[39;00m\n\u001b[1;32m    345\u001b[0m         parse_constant \u001b[38;5;129;01mis\u001b[39;00m \u001b[38;5;28;01mNone\u001b[39;00m \u001b[38;5;129;01mand\u001b[39;00m object_pairs_hook \u001b[38;5;129;01mis\u001b[39;00m \u001b[38;5;28;01mNone\u001b[39;00m \u001b[38;5;129;01mand\u001b[39;00m \u001b[38;5;129;01mnot\u001b[39;00m kw):\n\u001b[0;32m--> 346\u001b[0m     \u001b[38;5;28;01mreturn\u001b[39;00m _default_decoder\u001b[38;5;241m.\u001b[39mdecode(s)\n\u001b[1;32m    347\u001b[0m \u001b[38;5;28;01mif\u001b[39;00m \u001b[38;5;28mcls\u001b[39m \u001b[38;5;129;01mis\u001b[39;00m \u001b[38;5;28;01mNone\u001b[39;00m:\n",
      "File \u001b[0;32m~/anaconda3/envs/si649f23/lib/python3.11/json/decoder.py:337\u001b[0m, in \u001b[0;36mJSONDecoder.decode\u001b[0;34m(self, s, _w)\u001b[0m\n\u001b[1;32m    333\u001b[0m \u001b[38;5;250m\u001b[39m\u001b[38;5;124;03m\"\"\"Return the Python representation of ``s`` (a ``str`` instance\u001b[39;00m\n\u001b[1;32m    334\u001b[0m \u001b[38;5;124;03mcontaining a JSON document).\u001b[39;00m\n\u001b[1;32m    335\u001b[0m \n\u001b[1;32m    336\u001b[0m \u001b[38;5;124;03m\"\"\"\u001b[39;00m\n\u001b[0;32m--> 337\u001b[0m obj, end \u001b[38;5;241m=\u001b[39m \u001b[38;5;28mself\u001b[39m\u001b[38;5;241m.\u001b[39mraw_decode(s, idx\u001b[38;5;241m=\u001b[39m_w(s, \u001b[38;5;241m0\u001b[39m)\u001b[38;5;241m.\u001b[39mend())\n\u001b[1;32m    338\u001b[0m end \u001b[38;5;241m=\u001b[39m _w(s, end)\u001b[38;5;241m.\u001b[39mend()\n",
      "File \u001b[0;32m~/anaconda3/envs/si649f23/lib/python3.11/json/decoder.py:355\u001b[0m, in \u001b[0;36mJSONDecoder.raw_decode\u001b[0;34m(self, s, idx)\u001b[0m\n\u001b[1;32m    354\u001b[0m \u001b[38;5;28;01mexcept\u001b[39;00m \u001b[38;5;167;01mStopIteration\u001b[39;00m \u001b[38;5;28;01mas\u001b[39;00m err:\n\u001b[0;32m--> 355\u001b[0m     \u001b[38;5;28;01mraise\u001b[39;00m JSONDecodeError(\u001b[38;5;124m\"\u001b[39m\u001b[38;5;124mExpecting value\u001b[39m\u001b[38;5;124m\"\u001b[39m, s, err\u001b[38;5;241m.\u001b[39mvalue) \u001b[38;5;28;01mfrom\u001b[39;00m \u001b[38;5;28;01mNone\u001b[39;00m\n\u001b[1;32m    356\u001b[0m \u001b[38;5;28;01mreturn\u001b[39;00m obj, end\n",
      "\u001b[0;31mJSONDecodeError\u001b[0m: Expecting value: line 1 column 1 (char 0)",
      "\nDuring handling of the above exception, another exception occurred:\n",
      "\u001b[0;31mJSONDecodeError\u001b[0m                           Traceback (most recent call last)",
      "Cell \u001b[0;32mIn[12], line 5\u001b[0m\n\u001b[1;32m      3\u001b[0m \u001b[38;5;66;03m#  for output, get more info on them\u001b[39;00m\n\u001b[1;32m      4\u001b[0m \u001b[38;5;28;01mfor\u001b[39;00m celeb \u001b[38;5;129;01min\u001b[39;00m playlist_dict\u001b[38;5;241m.\u001b[39mkeys(): \u001b[38;5;66;03m# parse each artist in the list if it isn't in the cache\u001b[39;00m\n\u001b[0;32m----> 5\u001b[0m     artist_metadata \u001b[38;5;241m=\u001b[39m get_artist_info(playlist_dict[celeb][\u001b[38;5;124m'\u001b[39m\u001b[38;5;124mapi_link\u001b[39m\u001b[38;5;124m'\u001b[39m],headers)\n\u001b[1;32m      6\u001b[0m     \u001b[38;5;66;03m# want to get albums\u001b[39;00m\n\u001b[1;32m      7\u001b[0m     albums \u001b[38;5;241m=\u001b[39m requests\u001b[38;5;241m.\u001b[39mget(playlist_dict[celeb][\u001b[38;5;124m'\u001b[39m\u001b[38;5;124mapi_link\u001b[39m\u001b[38;5;124m'\u001b[39m]\u001b[38;5;241m+\u001b[39m\u001b[38;5;124m'\u001b[39m\u001b[38;5;124m/albums\u001b[39m\u001b[38;5;124m'\u001b[39m,headers\u001b[38;5;241m=\u001b[39mheaders)\u001b[38;5;241m.\u001b[39mjson()\n",
      "Cell \u001b[0;32mIn[7], line 18\u001b[0m, in \u001b[0;36mget_artist_info\u001b[0;34m(link, headers)\u001b[0m\n\u001b[1;32m      1\u001b[0m \u001b[38;5;28;01mdef\u001b[39;00m \u001b[38;5;21mget_artist_info\u001b[39m(link,headers):\n\u001b[1;32m      2\u001b[0m \u001b[38;5;250m   \u001b[39m\u001b[38;5;124;03m'''\u001b[39;00m\n\u001b[1;32m      3\u001b[0m \u001b[38;5;124;03m   Makes a request based on an artist's link and returns a dictionary with additional \u001b[39;00m\n\u001b[1;32m      4\u001b[0m \u001b[38;5;124;03m   info about that artist. \u001b[39;00m\n\u001b[0;32m   (...)\u001b[0m\n\u001b[1;32m     16\u001b[0m \u001b[38;5;124;03m        a dictionary with the artist's genres, image information, and popularity\u001b[39;00m\n\u001b[1;32m     17\u001b[0m \u001b[38;5;124;03m   '''\u001b[39;00m\n\u001b[0;32m---> 18\u001b[0m    info \u001b[38;5;241m=\u001b[39m requests\u001b[38;5;241m.\u001b[39mget(link,headers\u001b[38;5;241m=\u001b[39mheaders)\u001b[38;5;241m.\u001b[39mjson()\n\u001b[1;32m     19\u001b[0m    \u001b[38;5;28;01mtry\u001b[39;00m:\n\u001b[1;32m     20\u001b[0m      genres \u001b[38;5;241m=\u001b[39m info[\u001b[38;5;124m'\u001b[39m\u001b[38;5;124mgenres\u001b[39m\u001b[38;5;124m'\u001b[39m]\n",
      "File \u001b[0;32m~/anaconda3/envs/si649f23/lib/python3.11/site-packages/requests/models.py:968\u001b[0m, in \u001b[0;36mResponse.json\u001b[0;34m(self, **kwargs)\u001b[0m\n\u001b[1;32m    966\u001b[0m             \u001b[38;5;28;01mpass\u001b[39;00m\n\u001b[1;32m    967\u001b[0m         \u001b[38;5;28;01mexcept\u001b[39;00m JSONDecodeError \u001b[38;5;28;01mas\u001b[39;00m e:\n\u001b[0;32m--> 968\u001b[0m             \u001b[38;5;28;01mraise\u001b[39;00m RequestsJSONDecodeError(e\u001b[38;5;241m.\u001b[39mmsg, e\u001b[38;5;241m.\u001b[39mdoc, e\u001b[38;5;241m.\u001b[39mpos)\n\u001b[1;32m    970\u001b[0m \u001b[38;5;28;01mtry\u001b[39;00m:\n\u001b[1;32m    971\u001b[0m     \u001b[38;5;28;01mreturn\u001b[39;00m complexjson\u001b[38;5;241m.\u001b[39mloads(\u001b[38;5;28mself\u001b[39m\u001b[38;5;241m.\u001b[39mtext, \u001b[38;5;241m*\u001b[39m\u001b[38;5;241m*\u001b[39mkwargs)\n",
      "\u001b[0;31mJSONDecodeError\u001b[0m: Expecting value: line 1 column 1 (char 0)"
     ]
    }
   ],
   "source": [
    "headers={\"Authorization\": f\"Bearer {spotify_token}\"}\n",
    "artist_data = {}\n",
    "#  for output, get more info on them\n",
    "for celeb in playlist_dict.keys(): # parse each artist in the list if it isn't in the cache\n",
    "    artist_metadata = get_artist_info(playlist_dict[celeb]['api_link'],headers)\n",
    "    # want to get albums\n",
    "    albums = requests.get(playlist_dict[celeb]['api_link']+'/albums',headers=headers).json()\n",
    "    artist_metadata['collaborators']=get_collaborators(albums)\n",
    "    artist_metadata['in_playlist']=True\n",
    "    artist_data[celeb]=artist_metadata"
   ]
  },
  {
   "cell_type": "code",
   "execution_count": null,
   "metadata": {},
   "outputs": [],
   "source": [
    "dumped_json_cache = json.dumps(artist_data)\n",
    "fw = open('instagram_reels_data_9_30_24.json',\"w\")\n",
    "fw.write(dumped_json_cache)\n",
    "fw.close() "
   ]
  },
  {
   "cell_type": "code",
   "execution_count": null,
   "metadata": {},
   "outputs": [
    {
     "name": "stdout",
     "output_type": "stream",
     "text": [
      "1282\n"
     ]
    }
   ],
   "source": [
    "nodes = []\n",
    "for item in artist_data:\n",
    "    nodes.append(item)\n",
    "    for x in artist_data[item]['collaborators']:\n",
    "        nodes.append(x)\n",
    "print(len(set(nodes)))"
   ]
  },
  {
   "cell_type": "code",
   "execution_count": null,
   "metadata": {},
   "outputs": [],
   "source": [
    "spotify_token = get_spotify_token()\n",
    "headers={\"Authorization\": f\"Bearer {spotify_token}\"}"
   ]
  },
  {
   "cell_type": "code",
   "execution_count": null,
   "metadata": {},
   "outputs": [
    {
     "name": "stdout",
     "output_type": "stream",
     "text": [
      "1\n",
      "Charlie Puth\n"
     ]
    },
    {
     "ename": "JSONDecodeError",
     "evalue": "Expecting value: line 1 column 1 (char 0)",
     "output_type": "error",
     "traceback": [
      "\u001b[0;31m---------------------------------------------------------------------------\u001b[0m",
      "\u001b[0;31mJSONDecodeError\u001b[0m                           Traceback (most recent call last)",
      "File \u001b[0;32m~/anaconda3/envs/si649f23/lib/python3.11/site-packages/requests/models.py:960\u001b[0m, in \u001b[0;36mResponse.json\u001b[0;34m(self, **kwargs)\u001b[0m\n\u001b[1;32m    959\u001b[0m \u001b[38;5;28;01mtry\u001b[39;00m:\n\u001b[0;32m--> 960\u001b[0m     \u001b[38;5;28;01mreturn\u001b[39;00m complexjson\u001b[38;5;241m.\u001b[39mloads(\u001b[38;5;28mself\u001b[39m\u001b[38;5;241m.\u001b[39mcontent\u001b[38;5;241m.\u001b[39mdecode(encoding), \u001b[38;5;241m*\u001b[39m\u001b[38;5;241m*\u001b[39mkwargs)\n\u001b[1;32m    961\u001b[0m \u001b[38;5;28;01mexcept\u001b[39;00m \u001b[38;5;167;01mUnicodeDecodeError\u001b[39;00m:\n\u001b[1;32m    962\u001b[0m     \u001b[38;5;66;03m# Wrong UTF codec detected; usually because it's not UTF-8\u001b[39;00m\n\u001b[1;32m    963\u001b[0m     \u001b[38;5;66;03m# but some other 8-bit codec.  This is an RFC violation,\u001b[39;00m\n\u001b[1;32m    964\u001b[0m     \u001b[38;5;66;03m# and the server didn't bother to tell us what codec *was*\u001b[39;00m\n\u001b[1;32m    965\u001b[0m     \u001b[38;5;66;03m# used.\u001b[39;00m\n",
      "File \u001b[0;32m~/anaconda3/envs/si649f23/lib/python3.11/json/__init__.py:346\u001b[0m, in \u001b[0;36mloads\u001b[0;34m(s, cls, object_hook, parse_float, parse_int, parse_constant, object_pairs_hook, **kw)\u001b[0m\n\u001b[1;32m    343\u001b[0m \u001b[38;5;28;01mif\u001b[39;00m (\u001b[38;5;28mcls\u001b[39m \u001b[38;5;129;01mis\u001b[39;00m \u001b[38;5;28;01mNone\u001b[39;00m \u001b[38;5;129;01mand\u001b[39;00m object_hook \u001b[38;5;129;01mis\u001b[39;00m \u001b[38;5;28;01mNone\u001b[39;00m \u001b[38;5;129;01mand\u001b[39;00m\n\u001b[1;32m    344\u001b[0m         parse_int \u001b[38;5;129;01mis\u001b[39;00m \u001b[38;5;28;01mNone\u001b[39;00m \u001b[38;5;129;01mand\u001b[39;00m parse_float \u001b[38;5;129;01mis\u001b[39;00m \u001b[38;5;28;01mNone\u001b[39;00m \u001b[38;5;129;01mand\u001b[39;00m\n\u001b[1;32m    345\u001b[0m         parse_constant \u001b[38;5;129;01mis\u001b[39;00m \u001b[38;5;28;01mNone\u001b[39;00m \u001b[38;5;129;01mand\u001b[39;00m object_pairs_hook \u001b[38;5;129;01mis\u001b[39;00m \u001b[38;5;28;01mNone\u001b[39;00m \u001b[38;5;129;01mand\u001b[39;00m \u001b[38;5;129;01mnot\u001b[39;00m kw):\n\u001b[0;32m--> 346\u001b[0m     \u001b[38;5;28;01mreturn\u001b[39;00m _default_decoder\u001b[38;5;241m.\u001b[39mdecode(s)\n\u001b[1;32m    347\u001b[0m \u001b[38;5;28;01mif\u001b[39;00m \u001b[38;5;28mcls\u001b[39m \u001b[38;5;129;01mis\u001b[39;00m \u001b[38;5;28;01mNone\u001b[39;00m:\n",
      "File \u001b[0;32m~/anaconda3/envs/si649f23/lib/python3.11/json/decoder.py:337\u001b[0m, in \u001b[0;36mJSONDecoder.decode\u001b[0;34m(self, s, _w)\u001b[0m\n\u001b[1;32m    333\u001b[0m \u001b[38;5;250m\u001b[39m\u001b[38;5;124;03m\"\"\"Return the Python representation of ``s`` (a ``str`` instance\u001b[39;00m\n\u001b[1;32m    334\u001b[0m \u001b[38;5;124;03mcontaining a JSON document).\u001b[39;00m\n\u001b[1;32m    335\u001b[0m \n\u001b[1;32m    336\u001b[0m \u001b[38;5;124;03m\"\"\"\u001b[39;00m\n\u001b[0;32m--> 337\u001b[0m obj, end \u001b[38;5;241m=\u001b[39m \u001b[38;5;28mself\u001b[39m\u001b[38;5;241m.\u001b[39mraw_decode(s, idx\u001b[38;5;241m=\u001b[39m_w(s, \u001b[38;5;241m0\u001b[39m)\u001b[38;5;241m.\u001b[39mend())\n\u001b[1;32m    338\u001b[0m end \u001b[38;5;241m=\u001b[39m _w(s, end)\u001b[38;5;241m.\u001b[39mend()\n",
      "File \u001b[0;32m~/anaconda3/envs/si649f23/lib/python3.11/json/decoder.py:355\u001b[0m, in \u001b[0;36mJSONDecoder.raw_decode\u001b[0;34m(self, s, idx)\u001b[0m\n\u001b[1;32m    354\u001b[0m \u001b[38;5;28;01mexcept\u001b[39;00m \u001b[38;5;167;01mStopIteration\u001b[39;00m \u001b[38;5;28;01mas\u001b[39;00m err:\n\u001b[0;32m--> 355\u001b[0m     \u001b[38;5;28;01mraise\u001b[39;00m JSONDecodeError(\u001b[38;5;124m\"\u001b[39m\u001b[38;5;124mExpecting value\u001b[39m\u001b[38;5;124m\"\u001b[39m, s, err\u001b[38;5;241m.\u001b[39mvalue) \u001b[38;5;28;01mfrom\u001b[39;00m \u001b[38;5;28;01mNone\u001b[39;00m\n\u001b[1;32m    356\u001b[0m \u001b[38;5;28;01mreturn\u001b[39;00m obj, end\n",
      "\u001b[0;31mJSONDecodeError\u001b[0m: Expecting value: line 1 column 1 (char 0)",
      "\nDuring handling of the above exception, another exception occurred:\n",
      "\u001b[0;31mJSONDecodeError\u001b[0m                           Traceback (most recent call last)",
      "Cell \u001b[0;32mIn[137], line 14\u001b[0m\n\u001b[1;32m     12\u001b[0m artist_metadata \u001b[38;5;241m=\u001b[39m get_artist_info(\u001b[38;5;124mf\u001b[39m\u001b[38;5;124m'\u001b[39m\u001b[38;5;124mhttps://api.spotify.com/v1/artists/\u001b[39m\u001b[38;5;132;01m{\u001b[39;00muri\u001b[38;5;132;01m}\u001b[39;00m\u001b[38;5;124m'\u001b[39m,headers)\n\u001b[1;32m     13\u001b[0m \u001b[38;5;66;03m# want to get albums\u001b[39;00m\n\u001b[0;32m---> 14\u001b[0m albums \u001b[38;5;241m=\u001b[39m requests\u001b[38;5;241m.\u001b[39mget(\u001b[38;5;124mf\u001b[39m\u001b[38;5;124m'\u001b[39m\u001b[38;5;124mhttps://api.spotify.com/v1/artists/\u001b[39m\u001b[38;5;132;01m{\u001b[39;00muri\u001b[38;5;132;01m}\u001b[39;00m\u001b[38;5;124m'\u001b[39m\u001b[38;5;241m+\u001b[39m\u001b[38;5;124m'\u001b[39m\u001b[38;5;124m/albums\u001b[39m\u001b[38;5;124m'\u001b[39m,headers\u001b[38;5;241m=\u001b[39mheaders)\u001b[38;5;241m.\u001b[39mjson()\n\u001b[1;32m     15\u001b[0m artist_metadata[\u001b[38;5;124m'\u001b[39m\u001b[38;5;124mcollaborators\u001b[39m\u001b[38;5;124m'\u001b[39m]\u001b[38;5;241m=\u001b[39mget_collaborators(albums)\n\u001b[1;32m     16\u001b[0m artist_metadata[\u001b[38;5;124m'\u001b[39m\u001b[38;5;124min_playlist\u001b[39m\u001b[38;5;124m'\u001b[39m]\u001b[38;5;241m=\u001b[39m\u001b[38;5;28;01mFalse\u001b[39;00m \u001b[38;5;66;03m# this is false now\u001b[39;00m\n",
      "File \u001b[0;32m~/anaconda3/envs/si649f23/lib/python3.11/site-packages/requests/models.py:968\u001b[0m, in \u001b[0;36mResponse.json\u001b[0;34m(self, **kwargs)\u001b[0m\n\u001b[1;32m    966\u001b[0m             \u001b[38;5;28;01mpass\u001b[39;00m\n\u001b[1;32m    967\u001b[0m         \u001b[38;5;28;01mexcept\u001b[39;00m JSONDecodeError \u001b[38;5;28;01mas\u001b[39;00m e:\n\u001b[0;32m--> 968\u001b[0m             \u001b[38;5;28;01mraise\u001b[39;00m RequestsJSONDecodeError(e\u001b[38;5;241m.\u001b[39mmsg, e\u001b[38;5;241m.\u001b[39mdoc, e\u001b[38;5;241m.\u001b[39mpos)\n\u001b[1;32m    970\u001b[0m \u001b[38;5;28;01mtry\u001b[39;00m:\n\u001b[1;32m    971\u001b[0m     \u001b[38;5;28;01mreturn\u001b[39;00m complexjson\u001b[38;5;241m.\u001b[39mloads(\u001b[38;5;28mself\u001b[39m\u001b[38;5;241m.\u001b[39mtext, \u001b[38;5;241m*\u001b[39m\u001b[38;5;241m*\u001b[39mkwargs)\n",
      "\u001b[0;31mJSONDecodeError\u001b[0m: Expecting value: line 1 column 1 (char 0)"
     ]
    }
   ],
   "source": [
    "# want to meta data on the people NOT in the playlist\n",
    "non_playlist_copy = artist_data.copy()\n",
    "counter = 0\n",
    "for item in non_playlist_copy.keys():\n",
    "    for x in non_playlist_copy[item]['collaborators']:\n",
    "        counter +=1\n",
    "        print(counter)\n",
    "        name = x[0]\n",
    "        if name not in artist_data.keys() and name not in non_playlist_copy.keys():\n",
    "            print(name)\n",
    "            uri = x[1].split(':')[2]\n",
    "            artist_metadata = get_artist_info(f'https://api.spotify.com/v1/artists/{uri}',headers)\n",
    "            # want to get albums\n",
    "            albums = requests.get(f'https://api.spotify.com/v1/artists/{uri}'+'/albums',headers=headers).json()\n",
    "            artist_metadata['collaborators']=get_collaborators(albums)\n",
    "            artist_metadata['in_playlist']=False # this is false now\n",
    "            non_playlist_copy[celeb]=artist_metadata"
   ]
  }
 ],
 "metadata": {
  "kernelspec": {
   "display_name": "si649f23",
   "language": "python",
   "name": "python3"
  },
  "language_info": {
   "codemirror_mode": {
    "name": "ipython",
    "version": 3
   },
   "file_extension": ".py",
   "mimetype": "text/x-python",
   "name": "python",
   "nbconvert_exporter": "python",
   "pygments_lexer": "ipython3",
   "version": "3.11.4"
  }
 },
 "nbformat": 4,
 "nbformat_minor": 2
}
