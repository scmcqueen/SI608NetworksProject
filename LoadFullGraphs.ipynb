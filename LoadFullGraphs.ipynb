{
 "cells": [
  {
   "cell_type": "code",
   "execution_count": 2,
   "metadata": {},
   "outputs": [],
   "source": [
    "import requests\n",
    "import regex as re\n",
    "import json\n",
    "import time\n",
    "import random\n",
    "import networkx as nx"
   ]
  },
  {
   "cell_type": "code",
   "execution_count": 3,
   "metadata": {},
   "outputs": [],
   "source": [
    "def open_file(filepath:str='cache.json')->dict:\n",
    "    '''Opens a file'''\n",
    "    cache_file = open(filepath, 'r')\n",
    "    cache_contents = cache_file.read()\n",
    "    artist_data = json.loads(cache_contents)\n",
    "    cache_file.close()\n",
    "    return artist_data"
   ]
  },
  {
   "cell_type": "code",
   "execution_count": 6,
   "metadata": {},
   "outputs": [],
   "source": [
    "def load_full_network(playlist_link:str,random_link:str)->nx.Graph:\n",
    "    playlist_network = open_file(playlist_link)\n",
    "    random_network = open_file(random_link)\n",
    "    # combine!!\n",
    "\n",
    "    # playlist network doesn't have name key, my bad\n",
    "    for artist in playlist_network.keys():\n",
    "        playlist_network[artist]['name']=artist\n",
    "\n",
    "    g = nx.Graph()\n",
    "    for artist in playlist_network.keys():\n",
    "        g.add_node(artist)\n",
    "        colab = playlist_network[artist]['collaborators'].keys()\n",
    "        for y in colab:\n",
    "            if artist !=y:\n",
    "                if y not in g.nodes:\n",
    "                    g.add_node(y)\n",
    "                g.add_edge(artist,y)\n",
    "\n",
    "    for n in g.nodes():\n",
    "        g.nodes[n]['source'] = 'playlist'\n",
    "        if n in playlist_network.keys():\n",
    "            for key in playlist_network[n].keys():\n",
    "                g.nodes[n][key]= playlist_network[n][key]\n",
    "        else:\n",
    "            g.nodes[n]['in_playlist']=False\n",
    "            g.nodes[n]['name']=n\n",
    "\n",
    "    for artist in random_network.keys():\n",
    "        if artist not in g.nodes:\n",
    "            g.add_node(artist)\n",
    "        colab = random_network[artist]['collaborators'].keys()\n",
    "        for y in colab:\n",
    "            if artist !=y:\n",
    "                if y not in g.nodes:\n",
    "                    g.add_node(y)\n",
    "                g.add_edge(artist,y)\n",
    "\n",
    "    for n in g.nodes():\n",
    "        if n in random_network.keys():\n",
    "            for key in random_network[n].keys():\n",
    "                g.nodes[n][key]= random_network[n][key]\n",
    "            g.nodes[n]['in_playlist']=False\n",
    "            g.nodes[n]['name']=n\n",
    "            if n not in playlist_network.keys():\n",
    "                g.nodes[n]['source']='random'\n",
    "    return g"
   ]
  },
  {
   "cell_type": "code",
   "execution_count": 7,
   "metadata": {},
   "outputs": [],
   "source": [
    "g_10_26 = load_full_network('10_26_playlist_layer2.json','10_26_random_2layer.json')\n",
    "g_11_01 = load_full_network('11_01_playlist_layer2.json','10_26_random_2layer.json')\n",
    "g_11_08 = load_full_network('11_08_playlist_layer2.json','10_26_random_2layer.json')"
   ]
  }
 ],
 "metadata": {
  "kernelspec": {
   "display_name": ".venv",
   "language": "python",
   "name": "python3"
  },
  "language_info": {
   "codemirror_mode": {
    "name": "ipython",
    "version": 3
   },
   "file_extension": ".py",
   "mimetype": "text/x-python",
   "name": "python",
   "nbconvert_exporter": "python",
   "pygments_lexer": "ipython3",
   "version": "3.12.7"
  }
 },
 "nbformat": 4,
 "nbformat_minor": 2
}
