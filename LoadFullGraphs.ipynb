{
 "cells": [
  {
   "cell_type": "code",
   "execution_count": 89,
   "metadata": {},
   "outputs": [],
   "source": [
    "import requests\n",
    "import regex as re\n",
    "import json\n",
    "import time\n",
    "import random\n",
    "import networkx as nx\n",
    "import pandas as pd"
   ]
  },
  {
   "cell_type": "code",
   "execution_count": 83,
   "metadata": {},
   "outputs": [],
   "source": [
    "def open_file(filepath:str='cache.json')->dict:\n",
    "    '''Opens a file'''\n",
    "    cache_file = open(filepath, 'r')\n",
    "    cache_contents = cache_file.read()\n",
    "    artist_data = json.loads(cache_contents)\n",
    "    cache_file.close()\n",
    "    return artist_data"
   ]
  },
  {
   "cell_type": "code",
   "execution_count": 84,
   "metadata": {},
   "outputs": [],
   "source": [
    "def load_full_network(playlist_link:str,random_link:str,cache_file:str)->nx.Graph:\n",
    "    playlist_network = open_file(playlist_link)\n",
    "    random_network = open_file(random_link)\n",
    "    cache = open_file(cache_file)\n",
    "    # combine!!\n",
    "\n",
    "    # playlist network doesn't have name key, my bad\n",
    "    for artist in playlist_network.keys():\n",
    "        playlist_network[artist]['name']=artist\n",
    "\n",
    "    g = nx.Graph()\n",
    "    for artist in playlist_network.keys():\n",
    "        g.add_node(artist)\n",
    "        colab = playlist_network[artist]['collaborators'].keys()\n",
    "        for y in colab:\n",
    "            if artist !=y:\n",
    "                if y not in g.nodes:\n",
    "                    g.add_node(y)\n",
    "                g.add_edge(artist,y)\n",
    "\n",
    "    for n in g.nodes():\n",
    "        g.nodes[n]['source'] = 'playlist'\n",
    "        if n in playlist_network.keys():\n",
    "            for key in playlist_network[n].keys():\n",
    "                g.nodes[n][key]= playlist_network[n][key]\n",
    "        else:\n",
    "            for key in cache[n].keys():\n",
    "                g.nodes[n][key]=cache[n][key]\n",
    "            g.nodes[n]['in_playlist']=False\n",
    "            g.nodes[n]['name']=n\n",
    "\n",
    "\n",
    "    for artist in random_network.keys():\n",
    "        if artist not in g.nodes:\n",
    "            g.add_node(artist)\n",
    "            g.nodes[artist]['source']='random'\n",
    "        colab = random_network[artist]['collaborators'].keys()\n",
    "        for y in colab:\n",
    "            if artist !=y:\n",
    "                if y not in g.nodes:\n",
    "                    g.add_node(y)\n",
    "                g.add_edge(artist,y)\n",
    "                g.nodes[y]['source']='random'\n",
    "\n",
    "    for n in g.nodes():\n",
    "        if n in random_network.keys():\n",
    "            for key in random_network[n].keys():\n",
    "                g.nodes[n][key]= random_network[n][key]\n",
    "            g.nodes[n]['in_playlist']=False\n",
    "            g.nodes[n]['name']=n\n",
    "            if n not in playlist_network.keys():\n",
    "                for key in cache[n].keys():\n",
    "                    g.nodes[n][key]=cache[n][key]\n",
    "            g.nodes[n]['source']='random'\n",
    "    return g"
   ]
  },
  {
   "cell_type": "code",
   "execution_count": 85,
   "metadata": {},
   "outputs": [],
   "source": [
    "# loading complete networks\n",
    "week1_g = load_full_network('10_26_playlist_layer2.json','10_26_random_2layer.json','cache.json')\n",
    "week2_g = load_full_network('11_01_playlist_layer2.json','10_26_random_2layer.json','cache.json')\n",
    "week3_g = load_full_network('11_08_playlist_layer2.json','10_26_random_2layer.json','cache.json')"
   ]
  },
  {
   "cell_type": "markdown",
   "metadata": {},
   "source": [
    "Now I want to gather the info about the different networks and see how they change."
   ]
  },
  {
   "cell_type": "code",
   "execution_count": 86,
   "metadata": {},
   "outputs": [
    {
     "name": "stdout",
     "output_type": "stream",
     "text": [
      "Index(['source', 'genres', 'img_info', 'popularity', 'followers',\n",
      "       'collaborators', 'in_playlist', 'link', 'name', 'api_link'],\n",
      "      dtype='object')\n"
     ]
    }
   ],
   "source": [
    "# make dataframe with networks attributes\n",
    "week1_df =pd.DataFrame.from_dict(dict(week1_g.nodes(data=True)), orient='index')\n",
    "week2_df =pd.DataFrame.from_dict(dict(week2_g.nodes(data=True)), orient='index')\n",
    "week3_df =pd.DataFrame.from_dict(dict(week3_g.nodes(data=True)), orient='index')\n",
    "# print the columns\n",
    "print(week1_df.columns)"
   ]
  },
  {
   "cell_type": "code",
   "execution_count": 87,
   "metadata": {},
   "outputs": [],
   "source": [
    "# making an easy way to iterate\n",
    "graphs = {'week1': {'graph':week1_g, 'df':week1_df},\n",
    "          'week2': {'graph':week2_g, 'df':week2_df},\n",
    "          'week3': {'graph':week3_g, 'df':week3_df},}"
   ]
  },
  {
   "cell_type": "code",
   "execution_count": 91,
   "metadata": {},
   "outputs": [
    {
     "ename": "KeyError",
     "evalue": "nan",
     "output_type": "error",
     "traceback": [
      "\u001b[0;31m---------------------------------------------------------------------------\u001b[0m",
      "\u001b[0;31mKeyError\u001b[0m                                  Traceback (most recent call last)",
      "Cell \u001b[0;32mIn[91], line 6\u001b[0m\n\u001b[1;32m      4\u001b[0m \u001b[38;5;66;03m# get pagerank\u001b[39;00m\n\u001b[1;32m      5\u001b[0m pr \u001b[38;5;241m=\u001b[39m nx\u001b[38;5;241m.\u001b[39mpagerank(g)\n\u001b[0;32m----> 6\u001b[0m df[\u001b[38;5;124m'\u001b[39m\u001b[38;5;124mpagerank\u001b[39m\u001b[38;5;124m'\u001b[39m]\u001b[38;5;241m=\u001b[39mdf[\u001b[38;5;124m'\u001b[39m\u001b[38;5;124mname\u001b[39m\u001b[38;5;124m'\u001b[39m]\u001b[38;5;241m.\u001b[39mapply(\u001b[38;5;28;01mlambda\u001b[39;00m x: pr[x])\n\u001b[1;32m      7\u001b[0m \u001b[38;5;66;03m# get closeness centrality\u001b[39;00m\n\u001b[1;32m      8\u001b[0m cc \u001b[38;5;241m=\u001b[39m nx\u001b[38;5;241m.\u001b[39mcloseness_centrality(g)\n",
      "File \u001b[0;32m~/anaconda3/envs/si649f23/lib/python3.11/site-packages/pandas/core/series.py:4630\u001b[0m, in \u001b[0;36mSeries.apply\u001b[0;34m(self, func, convert_dtype, args, **kwargs)\u001b[0m\n\u001b[1;32m   4520\u001b[0m \u001b[38;5;28;01mdef\u001b[39;00m \u001b[38;5;21mapply\u001b[39m(\n\u001b[1;32m   4521\u001b[0m     \u001b[38;5;28mself\u001b[39m,\n\u001b[1;32m   4522\u001b[0m     func: AggFuncType,\n\u001b[0;32m   (...)\u001b[0m\n\u001b[1;32m   4525\u001b[0m     \u001b[38;5;241m*\u001b[39m\u001b[38;5;241m*\u001b[39mkwargs,\n\u001b[1;32m   4526\u001b[0m ) \u001b[38;5;241m-\u001b[39m\u001b[38;5;241m>\u001b[39m DataFrame \u001b[38;5;241m|\u001b[39m Series:\n\u001b[1;32m   4527\u001b[0m \u001b[38;5;250m    \u001b[39m\u001b[38;5;124;03m\"\"\"\u001b[39;00m\n\u001b[1;32m   4528\u001b[0m \u001b[38;5;124;03m    Invoke function on values of Series.\u001b[39;00m\n\u001b[1;32m   4529\u001b[0m \n\u001b[0;32m   (...)\u001b[0m\n\u001b[1;32m   4628\u001b[0m \u001b[38;5;124;03m    dtype: float64\u001b[39;00m\n\u001b[1;32m   4629\u001b[0m \u001b[38;5;124;03m    \"\"\"\u001b[39;00m\n\u001b[0;32m-> 4630\u001b[0m     \u001b[38;5;28;01mreturn\u001b[39;00m SeriesApply(\u001b[38;5;28mself\u001b[39m, func, convert_dtype, args, kwargs)\u001b[38;5;241m.\u001b[39mapply()\n",
      "File \u001b[0;32m~/anaconda3/envs/si649f23/lib/python3.11/site-packages/pandas/core/apply.py:1025\u001b[0m, in \u001b[0;36mSeriesApply.apply\u001b[0;34m(self)\u001b[0m\n\u001b[1;32m   1022\u001b[0m     \u001b[38;5;28;01mreturn\u001b[39;00m \u001b[38;5;28mself\u001b[39m\u001b[38;5;241m.\u001b[39mapply_str()\n\u001b[1;32m   1024\u001b[0m \u001b[38;5;66;03m# self.f is Callable\u001b[39;00m\n\u001b[0;32m-> 1025\u001b[0m \u001b[38;5;28;01mreturn\u001b[39;00m \u001b[38;5;28mself\u001b[39m\u001b[38;5;241m.\u001b[39mapply_standard()\n",
      "File \u001b[0;32m~/anaconda3/envs/si649f23/lib/python3.11/site-packages/pandas/core/apply.py:1076\u001b[0m, in \u001b[0;36mSeriesApply.apply_standard\u001b[0;34m(self)\u001b[0m\n\u001b[1;32m   1074\u001b[0m     \u001b[38;5;28;01melse\u001b[39;00m:\n\u001b[1;32m   1075\u001b[0m         values \u001b[38;5;241m=\u001b[39m obj\u001b[38;5;241m.\u001b[39mastype(\u001b[38;5;28mobject\u001b[39m)\u001b[38;5;241m.\u001b[39m_values\n\u001b[0;32m-> 1076\u001b[0m         mapped \u001b[38;5;241m=\u001b[39m lib\u001b[38;5;241m.\u001b[39mmap_infer(\n\u001b[1;32m   1077\u001b[0m             values,\n\u001b[1;32m   1078\u001b[0m             f,\n\u001b[1;32m   1079\u001b[0m             convert\u001b[38;5;241m=\u001b[39m\u001b[38;5;28mself\u001b[39m\u001b[38;5;241m.\u001b[39mconvert_dtype,\n\u001b[1;32m   1080\u001b[0m         )\n\u001b[1;32m   1082\u001b[0m \u001b[38;5;28;01mif\u001b[39;00m \u001b[38;5;28mlen\u001b[39m(mapped) \u001b[38;5;129;01mand\u001b[39;00m \u001b[38;5;28misinstance\u001b[39m(mapped[\u001b[38;5;241m0\u001b[39m], ABCSeries):\n\u001b[1;32m   1083\u001b[0m     \u001b[38;5;66;03m# GH#43986 Need to do list(mapped) in order to get treated as nested\u001b[39;00m\n\u001b[1;32m   1084\u001b[0m     \u001b[38;5;66;03m#  See also GH#25959 regarding EA support\u001b[39;00m\n\u001b[1;32m   1085\u001b[0m     \u001b[38;5;28;01mreturn\u001b[39;00m obj\u001b[38;5;241m.\u001b[39m_constructor_expanddim(\u001b[38;5;28mlist\u001b[39m(mapped), index\u001b[38;5;241m=\u001b[39mobj\u001b[38;5;241m.\u001b[39mindex)\n",
      "File \u001b[0;32m~/anaconda3/envs/si649f23/lib/python3.11/site-packages/pandas/_libs/lib.pyx:2834\u001b[0m, in \u001b[0;36mpandas._libs.lib.map_infer\u001b[0;34m()\u001b[0m\n",
      "Cell \u001b[0;32mIn[91], line 6\u001b[0m, in \u001b[0;36m<lambda>\u001b[0;34m(x)\u001b[0m\n\u001b[1;32m      4\u001b[0m \u001b[38;5;66;03m# get pagerank\u001b[39;00m\n\u001b[1;32m      5\u001b[0m pr \u001b[38;5;241m=\u001b[39m nx\u001b[38;5;241m.\u001b[39mpagerank(g)\n\u001b[0;32m----> 6\u001b[0m df[\u001b[38;5;124m'\u001b[39m\u001b[38;5;124mpagerank\u001b[39m\u001b[38;5;124m'\u001b[39m]\u001b[38;5;241m=\u001b[39mdf[\u001b[38;5;124m'\u001b[39m\u001b[38;5;124mname\u001b[39m\u001b[38;5;124m'\u001b[39m]\u001b[38;5;241m.\u001b[39mapply(\u001b[38;5;28;01mlambda\u001b[39;00m x: pr[x])\n\u001b[1;32m      7\u001b[0m \u001b[38;5;66;03m# get closeness centrality\u001b[39;00m\n\u001b[1;32m      8\u001b[0m cc \u001b[38;5;241m=\u001b[39m nx\u001b[38;5;241m.\u001b[39mcloseness_centrality(g)\n",
      "\u001b[0;31mKeyError\u001b[0m: nan"
     ]
    }
   ],
   "source": [
    "for week in graphs.keys():\n",
    "    # set graph & df\n",
    "    g, df = graphs[week]['graph'], graphs[week]['df']\n",
    "    # get pagerank\n",
    "    pr = nx.pagerank(g)\n",
    "    df['pagerank']=df['name'].apply(lambda x: pr[x])\n",
    "    # get closeness centrality\n",
    "    cc = nx.closeness_centrality(g)\n",
    "    df['closeness_cent']=df['name'].apply(lambda x: cc[x])\n",
    "    # clustering\n",
    "    clust = nx.clustering(g)\n",
    "    df['clustering']=df['name'].apply(lambda x: clust[x])\n",
    "    # degree centrality\n",
    "    deg_cent = nx.degree_centrality(g)\n",
    "    df['deg_cent']=df['name'].apply(lambda x: deg_cent[x])\n",
    "    # betweenness centrality\n",
    "    # btwn_centr = nx.betweenness_centrality(g)\n",
    "    # df['btwn_centr']=df['name'].apply(lambda x: btwn_centr[x])\n",
    "    # degree\n",
    "    deg = nx.degree(g)\n",
    "    df['degree']=df['name'].apply(lambda x: deg[x])"
   ]
  },
  {
   "cell_type": "code",
   "execution_count": null,
   "metadata": {},
   "outputs": [],
   "source": [
    "playlist_nodes = [x for x in week1_g.nodes if week1_g.nodes[x]['source']=='playlist'] #if week1_g.nodes[x]['source']=='playlist'\n",
    "random_nodes = [x for x in week1_g.nodes if week1_g.nodes[x]['source']=='random']"
   ]
  },
  {
   "cell_type": "code",
   "execution_count": null,
   "metadata": {},
   "outputs": [],
   "source": [
    "# set weeks in col\n",
    "graphs['week1']['df']['week']=1\n",
    "graphs['week2']['df']['week']=2\n",
    "graphs['week3']['df']['week']=3\n",
    "# combine\n",
    "mega = pd.concat([graphs['week1']['df'],graphs['week2']['df'],graphs['week3']['df']],axis=0)"
   ]
  },
  {
   "cell_type": "code",
   "execution_count": null,
   "metadata": {},
   "outputs": [
    {
     "data": {
      "text/html": [
       "<div>\n",
       "<style scoped>\n",
       "    .dataframe tbody tr th:only-of-type {\n",
       "        vertical-align: middle;\n",
       "    }\n",
       "\n",
       "    .dataframe tbody tr th {\n",
       "        vertical-align: top;\n",
       "    }\n",
       "\n",
       "    .dataframe thead th {\n",
       "        text-align: right;\n",
       "    }\n",
       "</style>\n",
       "<table border=\"1\" class=\"dataframe\">\n",
       "  <thead>\n",
       "    <tr style=\"text-align: right;\">\n",
       "      <th></th>\n",
       "      <th></th>\n",
       "      <th></th>\n",
       "      <th>pagerank</th>\n",
       "      <th>closeness_cent</th>\n",
       "      <th>clustering</th>\n",
       "      <th>deg_cent</th>\n",
       "      <th>degree</th>\n",
       "    </tr>\n",
       "    <tr>\n",
       "      <th>in_playlist</th>\n",
       "      <th>source</th>\n",
       "      <th>week</th>\n",
       "      <th></th>\n",
       "      <th></th>\n",
       "      <th></th>\n",
       "      <th></th>\n",
       "      <th></th>\n",
       "    </tr>\n",
       "  </thead>\n",
       "  <tbody>\n",
       "    <tr>\n",
       "      <th rowspan=\"6\" valign=\"top\">False</th>\n",
       "      <th rowspan=\"3\" valign=\"top\">playlist</th>\n",
       "      <th>1</th>\n",
       "      <td>0.000027</td>\n",
       "      <td>0.178964</td>\n",
       "      <td>0.065266</td>\n",
       "      <td>0.000092</td>\n",
       "      <td>3.333838</td>\n",
       "    </tr>\n",
       "    <tr>\n",
       "      <th>2</th>\n",
       "      <td>0.000028</td>\n",
       "      <td>NaN</td>\n",
       "      <td>0.064974</td>\n",
       "      <td>0.000093</td>\n",
       "      <td>3.356332</td>\n",
       "    </tr>\n",
       "    <tr>\n",
       "      <th>3</th>\n",
       "      <td>0.000028</td>\n",
       "      <td>NaN</td>\n",
       "      <td>0.065368</td>\n",
       "      <td>0.000093</td>\n",
       "      <td>3.365170</td>\n",
       "    </tr>\n",
       "    <tr>\n",
       "      <th rowspan=\"3\" valign=\"top\">random</th>\n",
       "      <th>1</th>\n",
       "      <td>0.000191</td>\n",
       "      <td>0.212443</td>\n",
       "      <td>0.122278</td>\n",
       "      <td>0.000726</td>\n",
       "      <td>26.255879</td>\n",
       "    </tr>\n",
       "    <tr>\n",
       "      <th>2</th>\n",
       "      <td>0.000191</td>\n",
       "      <td>NaN</td>\n",
       "      <td>0.122448</td>\n",
       "      <td>0.000728</td>\n",
       "      <td>26.240471</td>\n",
       "    </tr>\n",
       "    <tr>\n",
       "      <th>3</th>\n",
       "      <td>0.000191</td>\n",
       "      <td>NaN</td>\n",
       "      <td>0.122448</td>\n",
       "      <td>0.000729</td>\n",
       "      <td>26.240471</td>\n",
       "    </tr>\n",
       "    <tr>\n",
       "      <th rowspan=\"3\" valign=\"top\">True</th>\n",
       "      <th rowspan=\"3\" valign=\"top\">playlist</th>\n",
       "      <th>1</th>\n",
       "      <td>0.000116</td>\n",
       "      <td>0.223681</td>\n",
       "      <td>0.138634</td>\n",
       "      <td>0.000469</td>\n",
       "      <td>16.964789</td>\n",
       "    </tr>\n",
       "    <tr>\n",
       "      <th>2</th>\n",
       "      <td>0.000114</td>\n",
       "      <td>NaN</td>\n",
       "      <td>0.140451</td>\n",
       "      <td>0.000466</td>\n",
       "      <td>16.798561</td>\n",
       "    </tr>\n",
       "    <tr>\n",
       "      <th>3</th>\n",
       "      <td>0.000113</td>\n",
       "      <td>NaN</td>\n",
       "      <td>0.143961</td>\n",
       "      <td>0.000461</td>\n",
       "      <td>16.600000</td>\n",
       "    </tr>\n",
       "  </tbody>\n",
       "</table>\n",
       "</div>"
      ],
      "text/plain": [
       "                           pagerank  closeness_cent  clustering  deg_cent  \\\n",
       "in_playlist source   week                                                   \n",
       "False       playlist 1     0.000027        0.178964    0.065266  0.000092   \n",
       "                     2     0.000028             NaN    0.064974  0.000093   \n",
       "                     3     0.000028             NaN    0.065368  0.000093   \n",
       "            random   1     0.000191        0.212443    0.122278  0.000726   \n",
       "                     2     0.000191             NaN    0.122448  0.000728   \n",
       "                     3     0.000191             NaN    0.122448  0.000729   \n",
       "True        playlist 1     0.000116        0.223681    0.138634  0.000469   \n",
       "                     2     0.000114             NaN    0.140451  0.000466   \n",
       "                     3     0.000113             NaN    0.143961  0.000461   \n",
       "\n",
       "                              degree  \n",
       "in_playlist source   week             \n",
       "False       playlist 1      3.333838  \n",
       "                     2      3.356332  \n",
       "                     3      3.365170  \n",
       "            random   1     26.255879  \n",
       "                     2     26.240471  \n",
       "                     3     26.240471  \n",
       "True        playlist 1     16.964789  \n",
       "                     2     16.798561  \n",
       "                     3     16.600000  "
      ]
     },
     "execution_count": 76,
     "metadata": {},
     "output_type": "execute_result"
    }
   ],
   "source": [
    "mega.groupby(['in_playlist','source','week'])[['pagerank','closeness_cent','clustering','deg_cent','degree']].mean()"
   ]
  },
  {
   "cell_type": "code",
   "execution_count": null,
   "metadata": {},
   "outputs": [],
   "source": [
    "# save to csv for my peers\n",
    "# graphs['week1']['df'].to_csv('week1.csv')\n",
    "# graphs['week2']['df'].to_csv('week2.csv')\n",
    "# graphs['week3']['df'].to_csv('week3.csv')"
   ]
  }
 ],
 "metadata": {
  "kernelspec": {
   "display_name": ".venv",
   "language": "python",
   "name": "python3"
  },
  "language_info": {
   "codemirror_mode": {
    "name": "ipython",
    "version": 3
   },
   "file_extension": ".py",
   "mimetype": "text/x-python",
   "name": "python",
   "nbconvert_exporter": "python",
   "pygments_lexer": "ipython3",
   "version": "3.12.7"
  }
 },
 "nbformat": 4,
 "nbformat_minor": 2
}
