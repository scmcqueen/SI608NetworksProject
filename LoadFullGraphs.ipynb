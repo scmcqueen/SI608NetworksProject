{
 "cells": [
  {
   "cell_type": "code",
   "execution_count": 2,
   "metadata": {},
   "outputs": [],
   "source": [
    "import requests\n",
    "import regex as re\n",
    "import json\n",
    "import time\n",
    "import random\n",
    "import networkx as nx"
   ]
  },
  {
   "cell_type": "code",
   "execution_count": 3,
   "metadata": {},
   "outputs": [],
   "source": [
    "def open_file(filepath:str='cache.json')->dict:\n",
    "    '''Opens a file'''\n",
    "    cache_file = open(filepath, 'r')\n",
    "    cache_contents = cache_file.read()\n",
    "    artist_data = json.loads(cache_contents)\n",
    "    cache_file.close()\n",
    "    return artist_data"
   ]
  },
  {
   "cell_type": "code",
   "execution_count": 36,
   "metadata": {},
   "outputs": [],
   "source": [
    "def load_full_network(playlist_link:str,random_link:str,cache_file:str)->nx.Graph:\n",
    "    playlist_network = open_file(playlist_link)\n",
    "    random_network = open_file(random_link)\n",
    "    cache = open_file(cache_file)\n",
    "    # combine!!\n",
    "\n",
    "    # playlist network doesn't have name key, my bad\n",
    "    for artist in playlist_network.keys():\n",
    "        playlist_network[artist]['name']=artist\n",
    "\n",
    "    g = nx.Graph()\n",
    "    for artist in playlist_network.keys():\n",
    "        g.add_node(artist)\n",
    "        colab = playlist_network[artist]['collaborators'].keys()\n",
    "        for y in colab:\n",
    "            if artist !=y:\n",
    "                if y not in g.nodes:\n",
    "                    g.add_node(y)\n",
    "                g.add_edge(artist,y)\n",
    "\n",
    "    for n in g.nodes():\n",
    "        g.nodes[n]['source'] = 'playlist'\n",
    "        if n in playlist_network.keys():\n",
    "            for key in playlist_network[n].keys():\n",
    "                g.nodes[n][key]= playlist_network[n][key]\n",
    "        else:\n",
    "            for key in cache[n].keys():\n",
    "                g.nodes[n][key]=cache[n][key]\n",
    "            g.nodes[n]['in_playlist']=False\n",
    "            g.nodes[n]['name']=n\n",
    "\n",
    "\n",
    "    for artist in random_network.keys():\n",
    "        if artist not in g.nodes:\n",
    "            g.add_node(artist)\n",
    "            g.nodes[artist]['source']='random'\n",
    "        colab = random_network[artist]['collaborators'].keys()\n",
    "        for y in colab:\n",
    "            if artist !=y:\n",
    "                if y not in g.nodes:\n",
    "                    g.add_node(y)\n",
    "                g.add_edge(artist,y)\n",
    "                g.nodes[y]['source']='random'\n",
    "\n",
    "    for n in g.nodes():\n",
    "        if n in random_network.keys():\n",
    "            for key in random_network[n].keys():\n",
    "                g.nodes[n][key]= random_network[n][key]\n",
    "            g.nodes[n]['in_playlist']=False\n",
    "            g.nodes[n]['name']=n\n",
    "            if n not in playlist_network.keys():\n",
    "                for key in cache[n].keys():\n",
    "                    g.nodes[n][key]=cache[n][key]\n",
    "            g.nodes[n]['source']='random'\n",
    "    return g"
   ]
  },
  {
   "cell_type": "code",
   "execution_count": 37,
   "metadata": {},
   "outputs": [],
   "source": [
    "# loading complete networks\n",
    "week1_g = load_full_network('10_26_playlist_layer2.json','10_26_random_2layer.json','cache.json')\n",
    "week2_g = load_full_network('11_01_playlist_layer2.json','10_26_random_2layer.json','cache.json')\n",
    "week3_g = load_full_network('11_08_playlist_layer2.json','10_26_random_2layer.json','cache.json')"
   ]
  },
  {
   "cell_type": "markdown",
   "metadata": {},
   "source": [
    "Now I want to gather the info about the different networks and see how they change."
   ]
  },
  {
   "cell_type": "code",
   "execution_count": 12,
   "metadata": {},
   "outputs": [
    {
     "name": "stdout",
     "output_type": "stream",
     "text": [
      "Index(['source', 'genres', 'img_info', 'popularity', 'followers',\n",
      "       'collaborators', 'in_playlist', 'link', 'name', 'api_link'],\n",
      "      dtype='object')\n"
     ]
    }
   ],
   "source": [
    "# make dataframe with networks attributes\n",
    "week1_df =pd.DataFrame.from_dict(dict(week1_g.nodes(data=True)), orient='index')\n",
    "week2_df =pd.DataFrame.from_dict(dict(week2_g.nodes(data=True)), orient='index')\n",
    "week3_df =pd.DataFrame.from_dict(dict(week3_g.nodes(data=True)), orient='index')\n",
    "# print the columns\n",
    "print(week1_df.columns)"
   ]
  },
  {
   "cell_type": "code",
   "execution_count": 41,
   "metadata": {},
   "outputs": [],
   "source": [
    "# making an easy way to iterate\n",
    "graphs = {'week1': {'graph':week1_g, 'df':week1_df},\n",
    "          'week2': {'graph':week2_g, 'df':week2_df},\n",
    "          'week3': {'graph':week3_g, 'df':week3_df},}"
   ]
  },
  {
   "cell_type": "code",
   "execution_count": 77,
   "metadata": {},
   "outputs": [
    {
     "ename": "KeyboardInterrupt",
     "evalue": "",
     "output_type": "error",
     "traceback": [
      "\u001b[0;31m---------------------------------------------------------------------------\u001b[0m",
      "\u001b[0;31mKeyboardInterrupt\u001b[0m                         Traceback (most recent call last)",
      "Cell \u001b[0;32mIn[77], line 8\u001b[0m\n\u001b[1;32m      6\u001b[0m df[\u001b[38;5;124m'\u001b[39m\u001b[38;5;124mpagerank\u001b[39m\u001b[38;5;124m'\u001b[39m]\u001b[38;5;241m=\u001b[39mdf[\u001b[38;5;124m'\u001b[39m\u001b[38;5;124mname\u001b[39m\u001b[38;5;124m'\u001b[39m]\u001b[38;5;241m.\u001b[39mapply(\u001b[38;5;28;01mlambda\u001b[39;00m x: pr[x])\n\u001b[1;32m      7\u001b[0m \u001b[38;5;66;03m# get closeness centrality\u001b[39;00m\n\u001b[0;32m----> 8\u001b[0m cc \u001b[38;5;241m=\u001b[39m nx\u001b[38;5;241m.\u001b[39mcloseness_centrality(g)\n\u001b[1;32m      9\u001b[0m df[\u001b[38;5;124m'\u001b[39m\u001b[38;5;124mcloseness_cent\u001b[39m\u001b[38;5;124m'\u001b[39m]\u001b[38;5;241m=\u001b[39mdf[\u001b[38;5;124m'\u001b[39m\u001b[38;5;124mname\u001b[39m\u001b[38;5;124m'\u001b[39m]\u001b[38;5;241m.\u001b[39mapply(\u001b[38;5;28;01mlambda\u001b[39;00m x: cc[x])\n\u001b[1;32m     10\u001b[0m \u001b[38;5;66;03m# clustering\u001b[39;00m\n",
      "File \u001b[0;32m~/anaconda3/envs/si649f23/lib/python3.11/site-packages/networkx/algorithms/centrality/closeness.py:122\u001b[0m, in \u001b[0;36mcloseness_centrality\u001b[0;34m(G, u, distance, wf_improved)\u001b[0m\n\u001b[1;32m    120\u001b[0m closeness_dict \u001b[38;5;241m=\u001b[39m {}\n\u001b[1;32m    121\u001b[0m \u001b[38;5;28;01mfor\u001b[39;00m n \u001b[38;5;129;01min\u001b[39;00m nodes:\n\u001b[0;32m--> 122\u001b[0m     sp \u001b[38;5;241m=\u001b[39m path_length(G, n)\n\u001b[1;32m    123\u001b[0m     totsp \u001b[38;5;241m=\u001b[39m \u001b[38;5;28msum\u001b[39m(sp\u001b[38;5;241m.\u001b[39mvalues())\n\u001b[1;32m    124\u001b[0m     len_G \u001b[38;5;241m=\u001b[39m \u001b[38;5;28mlen\u001b[39m(G)\n",
      "File \u001b[0;32m~/anaconda3/envs/si649f23/lib/python3.11/site-packages/networkx/classes/backends.py:148\u001b[0m, in \u001b[0;36m_dispatch.<locals>.wrapper\u001b[0;34m(*args, **kwds)\u001b[0m\n\u001b[1;32m    144\u001b[0m         \u001b[38;5;28;01melse\u001b[39;00m:\n\u001b[1;32m    145\u001b[0m             \u001b[38;5;28;01mraise\u001b[39;00m NetworkXNotImplemented(\n\u001b[1;32m    146\u001b[0m                 \u001b[38;5;124mf\u001b[39m\u001b[38;5;124m\"\u001b[39m\u001b[38;5;124m'\u001b[39m\u001b[38;5;132;01m{\u001b[39;00mname\u001b[38;5;132;01m}\u001b[39;00m\u001b[38;5;124m'\u001b[39m\u001b[38;5;124m not implemented by \u001b[39m\u001b[38;5;132;01m{\u001b[39;00mplugin_name\u001b[38;5;132;01m}\u001b[39;00m\u001b[38;5;124m\"\u001b[39m\n\u001b[1;32m    147\u001b[0m             )\n\u001b[0;32m--> 148\u001b[0m \u001b[38;5;28;01mreturn\u001b[39;00m func(\u001b[38;5;241m*\u001b[39margs, \u001b[38;5;241m*\u001b[39m\u001b[38;5;241m*\u001b[39mkwds)\n",
      "File \u001b[0;32m~/anaconda3/envs/si649f23/lib/python3.11/site-packages/networkx/algorithms/shortest_paths/unweighted.py:62\u001b[0m, in \u001b[0;36msingle_source_shortest_path_length\u001b[0;34m(G, source, cutoff)\u001b[0m\n\u001b[1;32m     60\u001b[0m     cutoff \u001b[38;5;241m=\u001b[39m \u001b[38;5;28mfloat\u001b[39m(\u001b[38;5;124m\"\u001b[39m\u001b[38;5;124minf\u001b[39m\u001b[38;5;124m\"\u001b[39m)\n\u001b[1;32m     61\u001b[0m nextlevel \u001b[38;5;241m=\u001b[39m [source]\n\u001b[0;32m---> 62\u001b[0m \u001b[38;5;28;01mreturn\u001b[39;00m \u001b[38;5;28mdict\u001b[39m(_single_shortest_path_length(G\u001b[38;5;241m.\u001b[39m_adj, nextlevel, cutoff))\n",
      "File \u001b[0;32m~/anaconda3/envs/si649f23/lib/python3.11/site-packages/networkx/algorithms/shortest_paths/unweighted.py:91\u001b[0m, in \u001b[0;36m_single_shortest_path_length\u001b[0;34m(adj, firstlevel, cutoff)\u001b[0m\n\u001b[1;32m     89\u001b[0m \u001b[38;5;28;01mfor\u001b[39;00m w \u001b[38;5;129;01min\u001b[39;00m adj[v]:\n\u001b[1;32m     90\u001b[0m     \u001b[38;5;28;01mif\u001b[39;00m w \u001b[38;5;129;01mnot\u001b[39;00m \u001b[38;5;129;01min\u001b[39;00m seen:\n\u001b[0;32m---> 91\u001b[0m         seen\u001b[38;5;241m.\u001b[39madd(w)\n\u001b[1;32m     92\u001b[0m         nextlevel\u001b[38;5;241m.\u001b[39mappend(w)\n\u001b[1;32m     93\u001b[0m         \u001b[38;5;28;01myield\u001b[39;00m (w, level)\n",
      "\u001b[0;31mKeyboardInterrupt\u001b[0m: "
     ]
    }
   ],
   "source": [
    "for week in graphs.keys():\n",
    "    # set graph & df\n",
    "    g, df = graphs[week]['graph'], graphs[week]['df']\n",
    "    # get pagerank\n",
    "    pr = nx.pagerank(g)\n",
    "    df['pagerank']=df['name'].apply(lambda x: pr[x])\n",
    "    # get closeness centrality\n",
    "    cc = nx.closeness_centrality(g)\n",
    "    df['closeness_cent']=df['name'].apply(lambda x: cc[x])\n",
    "    # clustering\n",
    "    clust = nx.clustering(g)\n",
    "    df['clustering']=df['name'].apply(lambda x: clust[x])\n",
    "    # degree centrality\n",
    "    deg_cent = nx.degree_centrality(g)\n",
    "    df['deg_cent']=df['name'].apply(lambda x: deg_cent[x])\n",
    "    # betweenness centrality\n",
    "    # btwn_centr = nx.betweenness_centrality(g)\n",
    "    # df['btwn_centr']=df['name'].apply(lambda x: btwn_centr[x])\n",
    "    # degree\n",
    "    deg = nx.degree(g)\n",
    "    df['degree']=df['name'].apply(lambda x: deg[x])"
   ]
  },
  {
   "cell_type": "code",
   "execution_count": 40,
   "metadata": {},
   "outputs": [],
   "source": [
    "playlist_nodes = [x for x in week1_g.nodes if week1_g.nodes[x]['source']=='playlist'] #if week1_g.nodes[x]['source']=='playlist'\n",
    "random_nodes = [x for x in week1_g.nodes if week1_g.nodes[x]['source']=='random']"
   ]
  },
  {
   "cell_type": "code",
   "execution_count": null,
   "metadata": {},
   "outputs": [],
   "source": [
    "# set weeks in col\n",
    "graphs['week1']['df']['week']=1\n",
    "graphs['week2']['df']['week']=2\n",
    "graphs['week3']['df']['week']=3\n",
    "# combine\n",
    "mega = pd.concat([graphs['week1']['df'],graphs['week2']['df'],graphs['week3']['df']],axis=0)"
   ]
  },
  {
   "cell_type": "code",
   "execution_count": 81,
   "metadata": {},
   "outputs": [],
   "source": [
    "graphs['week3']['df'].head().to_csv('week3.csv')"
   ]
  },
  {
   "cell_type": "code",
   "execution_count": null,
   "metadata": {},
   "outputs": [
    {
     "data": {
      "text/html": [
       "<div>\n",
       "<style scoped>\n",
       "    .dataframe tbody tr th:only-of-type {\n",
       "        vertical-align: middle;\n",
       "    }\n",
       "\n",
       "    .dataframe tbody tr th {\n",
       "        vertical-align: top;\n",
       "    }\n",
       "\n",
       "    .dataframe thead th {\n",
       "        text-align: right;\n",
       "    }\n",
       "</style>\n",
       "<table border=\"1\" class=\"dataframe\">\n",
       "  <thead>\n",
       "    <tr style=\"text-align: right;\">\n",
       "      <th></th>\n",
       "      <th></th>\n",
       "      <th></th>\n",
       "      <th>pagerank</th>\n",
       "      <th>closeness_cent</th>\n",
       "      <th>clustering</th>\n",
       "      <th>deg_cent</th>\n",
       "      <th>degree</th>\n",
       "    </tr>\n",
       "    <tr>\n",
       "      <th>in_playlist</th>\n",
       "      <th>source</th>\n",
       "      <th>week</th>\n",
       "      <th></th>\n",
       "      <th></th>\n",
       "      <th></th>\n",
       "      <th></th>\n",
       "      <th></th>\n",
       "    </tr>\n",
       "  </thead>\n",
       "  <tbody>\n",
       "    <tr>\n",
       "      <th rowspan=\"6\" valign=\"top\">False</th>\n",
       "      <th rowspan=\"3\" valign=\"top\">playlist</th>\n",
       "      <th>1</th>\n",
       "      <td>0.000027</td>\n",
       "      <td>0.178964</td>\n",
       "      <td>0.065266</td>\n",
       "      <td>0.000092</td>\n",
       "      <td>3.333838</td>\n",
       "    </tr>\n",
       "    <tr>\n",
       "      <th>2</th>\n",
       "      <td>0.000028</td>\n",
       "      <td>NaN</td>\n",
       "      <td>0.064974</td>\n",
       "      <td>0.000093</td>\n",
       "      <td>3.356332</td>\n",
       "    </tr>\n",
       "    <tr>\n",
       "      <th>3</th>\n",
       "      <td>0.000028</td>\n",
       "      <td>NaN</td>\n",
       "      <td>0.065368</td>\n",
       "      <td>0.000093</td>\n",
       "      <td>3.365170</td>\n",
       "    </tr>\n",
       "    <tr>\n",
       "      <th rowspan=\"3\" valign=\"top\">random</th>\n",
       "      <th>1</th>\n",
       "      <td>0.000191</td>\n",
       "      <td>0.212443</td>\n",
       "      <td>0.122278</td>\n",
       "      <td>0.000726</td>\n",
       "      <td>26.255879</td>\n",
       "    </tr>\n",
       "    <tr>\n",
       "      <th>2</th>\n",
       "      <td>0.000191</td>\n",
       "      <td>NaN</td>\n",
       "      <td>0.122448</td>\n",
       "      <td>0.000728</td>\n",
       "      <td>26.240471</td>\n",
       "    </tr>\n",
       "    <tr>\n",
       "      <th>3</th>\n",
       "      <td>0.000191</td>\n",
       "      <td>NaN</td>\n",
       "      <td>0.122448</td>\n",
       "      <td>0.000729</td>\n",
       "      <td>26.240471</td>\n",
       "    </tr>\n",
       "    <tr>\n",
       "      <th rowspan=\"3\" valign=\"top\">True</th>\n",
       "      <th rowspan=\"3\" valign=\"top\">playlist</th>\n",
       "      <th>1</th>\n",
       "      <td>0.000116</td>\n",
       "      <td>0.223681</td>\n",
       "      <td>0.138634</td>\n",
       "      <td>0.000469</td>\n",
       "      <td>16.964789</td>\n",
       "    </tr>\n",
       "    <tr>\n",
       "      <th>2</th>\n",
       "      <td>0.000114</td>\n",
       "      <td>NaN</td>\n",
       "      <td>0.140451</td>\n",
       "      <td>0.000466</td>\n",
       "      <td>16.798561</td>\n",
       "    </tr>\n",
       "    <tr>\n",
       "      <th>3</th>\n",
       "      <td>0.000113</td>\n",
       "      <td>NaN</td>\n",
       "      <td>0.143961</td>\n",
       "      <td>0.000461</td>\n",
       "      <td>16.600000</td>\n",
       "    </tr>\n",
       "  </tbody>\n",
       "</table>\n",
       "</div>"
      ],
      "text/plain": [
       "                           pagerank  closeness_cent  clustering  deg_cent  \\\n",
       "in_playlist source   week                                                   \n",
       "False       playlist 1     0.000027        0.178964    0.065266  0.000092   \n",
       "                     2     0.000028             NaN    0.064974  0.000093   \n",
       "                     3     0.000028             NaN    0.065368  0.000093   \n",
       "            random   1     0.000191        0.212443    0.122278  0.000726   \n",
       "                     2     0.000191             NaN    0.122448  0.000728   \n",
       "                     3     0.000191             NaN    0.122448  0.000729   \n",
       "True        playlist 1     0.000116        0.223681    0.138634  0.000469   \n",
       "                     2     0.000114             NaN    0.140451  0.000466   \n",
       "                     3     0.000113             NaN    0.143961  0.000461   \n",
       "\n",
       "                              degree  \n",
       "in_playlist source   week             \n",
       "False       playlist 1      3.333838  \n",
       "                     2      3.356332  \n",
       "                     3      3.365170  \n",
       "            random   1     26.255879  \n",
       "                     2     26.240471  \n",
       "                     3     26.240471  \n",
       "True        playlist 1     16.964789  \n",
       "                     2     16.798561  \n",
       "                     3     16.600000  "
      ]
     },
     "execution_count": 76,
     "metadata": {},
     "output_type": "execute_result"
    }
   ],
   "source": [
    "mega.groupby(['in_playlist','source','week'])[['pagerank','closeness_cent','clustering','deg_cent','degree']].mean()"
   ]
  },
  {
   "cell_type": "code",
   "execution_count": 63,
   "metadata": {},
   "outputs": [],
   "source": [
    "# save to csv for my peers\n",
    "# graphs['week1']['df'].to_csv('week1.csv')\n",
    "# graphs['week2']['df'].to_csv('week2.csv')\n",
    "# graphs['week3']['df'].to_csv('week3.csv')"
   ]
  }
 ],
 "metadata": {
  "kernelspec": {
   "display_name": ".venv",
   "language": "python",
   "name": "python3"
  },
  "language_info": {
   "codemirror_mode": {
    "name": "ipython",
    "version": 3
   },
   "file_extension": ".py",
   "mimetype": "text/x-python",
   "name": "python",
   "nbconvert_exporter": "python",
   "pygments_lexer": "ipython3",
   "version": "3.12.7"
  }
 },
 "nbformat": 4,
 "nbformat_minor": 2
}
