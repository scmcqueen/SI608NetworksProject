{
 "cells": [
  {
   "cell_type": "markdown",
   "metadata": {},
   "source": [
    "# LoadFullGraphs\n",
    "\n",
    "This file takes in the jsons and outputs nice csv files for ML work. There is also some network analysis in this file."
   ]
  },
  {
   "cell_type": "code",
   "execution_count": 261,
   "metadata": {},
   "outputs": [],
   "source": [
    "# Standard imports\n",
    "import requests\n",
    "import regex as re\n",
    "import json\n",
    "import time\n",
    "import random\n",
    "import networkx as nx\n",
    "import pandas as pd"
   ]
  },
  {
   "cell_type": "code",
   "execution_count": 218,
   "metadata": {},
   "outputs": [],
   "source": [
    "def open_file(filepath:str='cache.json')->dict:\n",
    "    '''Opens a json file at location filepath and outputs a dictionary'''\n",
    "    cache_file = open(filepath, 'r')\n",
    "    cache_contents = cache_file.read()\n",
    "    artist_data = json.loads(cache_contents)\n",
    "    cache_file.close()\n",
    "    return artist_data"
   ]
  },
  {
   "cell_type": "code",
   "execution_count": 219,
   "metadata": {},
   "outputs": [],
   "source": [
    "def load_full_network(playlist_link:str,random_link:str,cache_file:str)->nx.Graph:\n",
    "    '''Takes in the playlist network, random network, and cache of info to output a nx.graph.'''\n",
    "    # open files\n",
    "    playlist_network = open_file(playlist_link)\n",
    "    random_network = open_file(random_link)\n",
    "    cache = open_file(cache_file)\n",
    "\n",
    "    # playlist network doesn't have name key, my bad\n",
    "    for artist in playlist_network.keys():\n",
    "        playlist_network[artist]['name']=artist\n",
    "\n",
    "    g = nx.Graph()\n",
    "    for artist in playlist_network.keys():\n",
    "        g.add_node(artist)\n",
    "        colab = playlist_network[artist]['collaborators'].keys()\n",
    "        for y in colab:\n",
    "            if artist !=y:\n",
    "                if y not in g.nodes:\n",
    "                    g.add_node(y)\n",
    "                g.add_edge(artist,y)\n",
    "\n",
    "    for n in g.nodes():\n",
    "        g.nodes[n]['source'] = 'playlist'\n",
    "        if n in playlist_network.keys():\n",
    "            for key in playlist_network[n].keys():\n",
    "                g.nodes[n][key]= playlist_network[n][key]\n",
    "        else:\n",
    "            for key in cache[n].keys():\n",
    "                g.nodes[n][key]=cache[n][key]\n",
    "            g.nodes[n]['in_playlist']=False\n",
    "            g.nodes[n]['name']=n\n",
    "\n",
    "\n",
    "    for artist in random_network.keys():\n",
    "        if artist not in g.nodes:\n",
    "            g.add_node(artist)\n",
    "            g.nodes[artist]['source']='random'\n",
    "        colab = random_network[artist]['collaborators'].keys()\n",
    "        for y in colab:\n",
    "            if artist !=y:\n",
    "                if y not in g.nodes:\n",
    "                    g.add_node(y)\n",
    "                g.add_edge(artist,y)\n",
    "                g.nodes[y]['source']='random'\n",
    "\n",
    "    for n in g.nodes():\n",
    "        if n in random_network.keys():\n",
    "            for key in random_network[n].keys():\n",
    "                g.nodes[n][key]= random_network[n][key]\n",
    "            g.nodes[n]['in_playlist']=False\n",
    "            g.nodes[n]['name']=n\n",
    "            if n not in playlist_network.keys():\n",
    "                for key in cache[n].keys():\n",
    "                    g.nodes[n][key]=cache[n][key]\n",
    "            g.nodes[n]['source']='random'\n",
    "    return g"
   ]
  },
  {
   "cell_type": "code",
   "execution_count": 220,
   "metadata": {},
   "outputs": [],
   "source": [
    "# loading complete networks\n",
    "week1_g = load_full_network('10_26_playlist_layer2.json','10_26_random_2layer.json','cache.json')\n",
    "week2_g = load_full_network('11_01_playlist_layer2.json','10_26_random_2layer.json','cache.json')\n",
    "week3_g = load_full_network('11_08_playlist_layer2.json','10_26_random_2layer.json','cache.json')"
   ]
  },
  {
   "cell_type": "markdown",
   "metadata": {},
   "source": [
    "Now I want to gather the info about the different networks and see how they change."
   ]
  },
  {
   "cell_type": "code",
   "execution_count": 221,
   "metadata": {},
   "outputs": [
    {
     "name": "stdout",
     "output_type": "stream",
     "text": [
      "Index(['source', 'genres', 'img_info', 'popularity', 'followers',\n",
      "       'collaborators', 'in_playlist', 'link', 'name', 'api_link'],\n",
      "      dtype='object')\n"
     ]
    }
   ],
   "source": [
    "# make dataframe with networks attributes\n",
    "week1_df =pd.DataFrame.from_dict(dict(week1_g.nodes(data=True)), orient='index')\n",
    "week2_df =pd.DataFrame.from_dict(dict(week2_g.nodes(data=True)), orient='index')\n",
    "week3_df =pd.DataFrame.from_dict(dict(week3_g.nodes(data=True)), orient='index')\n",
    "# print the columns\n",
    "print(week1_df.columns)"
   ]
  },
  {
   "cell_type": "code",
   "execution_count": 222,
   "metadata": {},
   "outputs": [],
   "source": [
    "# making an easy way to iterate\n",
    "graphs = {\n",
    "    'week1': {'graph':week1_g, 'df':week1_df},\n",
    "          'week2': {'graph':week2_g, 'df':week2_df},\n",
    "          'week3': {'graph':week3_g, 'df':week3_df},}"
   ]
  },
  {
   "cell_type": "code",
   "execution_count": 223,
   "metadata": {},
   "outputs": [],
   "source": [
    "# set the name to the index\n",
    "week3_df['name']=week3_df.index\n",
    "week2_df['name']=week2_df.index\n",
    "week1_df['name']=week1_df.index"
   ]
  },
  {
   "cell_type": "code",
   "execution_count": 224,
   "metadata": {},
   "outputs": [
    {
     "name": "stdout",
     "output_type": "stream",
     "text": [
      "week1\n",
      "Unexpected exception formatting exception. Falling back to standard exception\n"
     ]
    },
    {
     "name": "stderr",
     "output_type": "stream",
     "text": [
      "Traceback (most recent call last):\n",
      "  File \"/Users/Skyeler/anaconda3/envs/si649f23/lib/python3.11/site-packages/IPython/core/interactiveshell.py\", line 3508, in run_code\n",
      "    exec(code_obj, self.user_global_ns, self.user_ns)\n",
      "  File \"/var/folders/r0/2fgtj8y934zddv46dgfbq1xw0000gn/T/ipykernel_19298/1484722221.py\", line 9, in <module>\n",
      "    cc = nx.closeness_centrality(g)\n",
      "         ^^^^^^^^^^^^^^^^^^^^^^^^^^\n",
      "  File \"/Users/Skyeler/anaconda3/envs/si649f23/lib/python3.11/site-packages/networkx/algorithms/centrality/closeness.py\", line 122, in closeness_centrality\n",
      "    sp = path_length(G, n)\n",
      "         ^^^^^^^^^^^^^^^^^\n",
      "  File \"/Users/Skyeler/anaconda3/envs/si649f23/lib/python3.11/site-packages/networkx/classes/backends.py\", line 148, in wrapper\n",
      "    return func(*args, **kwds)\n",
      "           ^^^^^^^^^^^^^^^^^^^\n",
      "  File \"/Users/Skyeler/anaconda3/envs/si649f23/lib/python3.11/site-packages/networkx/algorithms/shortest_paths/unweighted.py\", line 62, in single_source_shortest_path_length\n",
      "    return dict(_single_shortest_path_length(G._adj, nextlevel, cutoff))\n",
      "           ^^^^^^^^^^^^^^^^^^^^^^^^^^^^^^^^^^^^^^^^^^^^^^^^^^^^^^^^^^^^^\n",
      "  File \"/Users/Skyeler/anaconda3/envs/si649f23/lib/python3.11/site-packages/networkx/algorithms/shortest_paths/unweighted.py\", line -1, in _single_shortest_path_length\n",
      "KeyboardInterrupt\n",
      "\n",
      "During handling of the above exception, another exception occurred:\n",
      "\n",
      "Traceback (most recent call last):\n",
      "  File \"/Users/Skyeler/anaconda3/envs/si649f23/lib/python3.11/site-packages/IPython/core/interactiveshell.py\", line 2105, in showtraceback\n",
      "    stb = self.InteractiveTB.structured_traceback(\n",
      "          ^^^^^^^^^^^^^^^^^^^^^^^^^^^^^^^^^^^^^^^^\n",
      "  File \"/Users/Skyeler/anaconda3/envs/si649f23/lib/python3.11/site-packages/IPython/core/ultratb.py\", line 1396, in structured_traceback\n",
      "    return FormattedTB.structured_traceback(\n",
      "           ^^^^^^^^^^^^^^^^^^^^^^^^^^^^^^^^^\n",
      "  File \"/Users/Skyeler/anaconda3/envs/si649f23/lib/python3.11/site-packages/IPython/core/ultratb.py\", line 1287, in structured_traceback\n",
      "    return VerboseTB.structured_traceback(\n",
      "           ^^^^^^^^^^^^^^^^^^^^^^^^^^^^^^^\n",
      "  File \"/Users/Skyeler/anaconda3/envs/si649f23/lib/python3.11/site-packages/IPython/core/ultratb.py\", line 1140, in structured_traceback\n",
      "    formatted_exception = self.format_exception_as_a_whole(etype, evalue, etb, number_of_lines_of_context,\n",
      "                          ^^^^^^^^^^^^^^^^^^^^^^^^^^^^^^^^^^^^^^^^^^^^^^^^^^^^^^^^^^^^^^^^^^^^^^^^^^^^^^^^\n",
      "  File \"/Users/Skyeler/anaconda3/envs/si649f23/lib/python3.11/site-packages/IPython/core/ultratb.py\", line 1055, in format_exception_as_a_whole\n",
      "    frames.append(self.format_record(record))\n",
      "                  ^^^^^^^^^^^^^^^^^^^^^^^^^^\n",
      "  File \"/Users/Skyeler/anaconda3/envs/si649f23/lib/python3.11/site-packages/IPython/core/ultratb.py\", line 955, in format_record\n",
      "    frame_info.lines, Colors, self.has_colors, lvals\n",
      "    ^^^^^^^^^^^^^^^^\n",
      "  File \"/Users/Skyeler/anaconda3/envs/si649f23/lib/python3.11/site-packages/IPython/core/ultratb.py\", line 778, in lines\n",
      "    return self._sd.lines\n",
      "           ^^^^^^^^^^^^^^\n",
      "  File \"/Users/Skyeler/anaconda3/envs/si649f23/lib/python3.11/site-packages/stack_data/utils.py\", line 145, in cached_property_wrapper\n",
      "    value = obj.__dict__[self.func.__name__] = self.func(obj)\n",
      "                                               ^^^^^^^^^^^^^^\n",
      "  File \"/Users/Skyeler/anaconda3/envs/si649f23/lib/python3.11/site-packages/stack_data/core.py\", line 698, in lines\n",
      "    pieces = self.included_pieces\n",
      "             ^^^^^^^^^^^^^^^^^^^^\n",
      "  File \"/Users/Skyeler/anaconda3/envs/si649f23/lib/python3.11/site-packages/stack_data/utils.py\", line 145, in cached_property_wrapper\n",
      "    value = obj.__dict__[self.func.__name__] = self.func(obj)\n",
      "                                               ^^^^^^^^^^^^^^\n",
      "  File \"/Users/Skyeler/anaconda3/envs/si649f23/lib/python3.11/site-packages/stack_data/core.py\", line 649, in included_pieces\n",
      "    pos = scope_pieces.index(self.executing_piece)\n",
      "                             ^^^^^^^^^^^^^^^^^^^^\n",
      "  File \"/Users/Skyeler/anaconda3/envs/si649f23/lib/python3.11/site-packages/stack_data/utils.py\", line 145, in cached_property_wrapper\n",
      "    value = obj.__dict__[self.func.__name__] = self.func(obj)\n",
      "                                               ^^^^^^^^^^^^^^\n",
      "  File \"/Users/Skyeler/anaconda3/envs/si649f23/lib/python3.11/site-packages/stack_data/core.py\", line 628, in executing_piece\n",
      "    return only(\n",
      "           ^^^^^\n",
      "  File \"/Users/Skyeler/anaconda3/envs/si649f23/lib/python3.11/site-packages/executing/executing.py\", line 164, in only\n",
      "    raise NotOneValueFound('Expected one value, found 0')\n",
      "executing.executing.NotOneValueFound: Expected one value, found 0\n"
     ]
    }
   ],
   "source": [
    "# This takes about an hour to run, hence why it was cancelled rn.\n",
    "\n",
    "for week in graphs.keys():\n",
    "    print(week)\n",
    "    # set graph & df\n",
    "    g, df = graphs[week]['graph'], graphs[week]['df']\n",
    "    # get pagerank\n",
    "    pr = nx.pagerank(g)\n",
    "    df['pagerank']=df['name'].apply(lambda x: pr[x])\n",
    "    # get closeness centrality\n",
    "    cc = nx.closeness_centrality(g)\n",
    "    df['closeness_cent']=df['name'].apply(lambda x: cc[x])\n",
    "    # clustering\n",
    "    clust = nx.clustering(g)\n",
    "    df['clustering']=df['name'].apply(lambda x: clust[x])\n",
    "    # degree centrality\n",
    "    deg_cent = nx.degree_centrality(g)\n",
    "    df['deg_cent']=df['name'].apply(lambda x: deg_cent[x])\n",
    "    # betweenness centrality\n",
    "    btwn_centr = nx.betweenness_centrality(g)\n",
    "    df['btwn_centr']=df['name'].apply(lambda x: btwn_centr[x])\n",
    "    # degree\n",
    "    deg = nx.degree(g)\n",
    "    df['degree']=df['name'].apply(lambda x: deg[x])"
   ]
  },
  {
   "cell_type": "code",
   "execution_count": null,
   "metadata": {},
   "outputs": [],
   "source": [
    "# example of how to filter graph by nodes from playlist & random queries\n",
    "playlist_nodes = [x for x in week1_g.nodes if week1_g.nodes[x]['source']=='playlist'] #if week1_g.nodes[x]['source']=='playlist'\n",
    "random_nodes = [x for x in week1_g.nodes if week1_g.nodes[x]['source']=='random']"
   ]
  },
  {
   "cell_type": "code",
   "execution_count": null,
   "metadata": {},
   "outputs": [],
   "source": [
    "# add a column wth the weeks\n",
    "graphs['week1']['df']['week']=1\n",
    "graphs['week2']['df']['week']=2\n",
    "graphs['week3']['df']['week']=3\n",
    "# combine each week into one large data frame for analysis\n",
    "mega = pd.concat([graphs['week1']['df'],graphs['week2']['df'],graphs['week3']['df']],axis=0)"
   ]
  },
  {
   "cell_type": "code",
   "execution_count": null,
   "metadata": {},
   "outputs": [
    {
     "data": {
      "text/html": [
       "<div>\n",
       "<style scoped>\n",
       "    .dataframe tbody tr th:only-of-type {\n",
       "        vertical-align: middle;\n",
       "    }\n",
       "\n",
       "    .dataframe tbody tr th {\n",
       "        vertical-align: top;\n",
       "    }\n",
       "\n",
       "    .dataframe thead th {\n",
       "        text-align: right;\n",
       "    }\n",
       "</style>\n",
       "<table border=\"1\" class=\"dataframe\">\n",
       "  <thead>\n",
       "    <tr style=\"text-align: right;\">\n",
       "      <th></th>\n",
       "      <th>in_playlist</th>\n",
       "      <th>week</th>\n",
       "      <th>pagerank</th>\n",
       "      <th>closeness_cent</th>\n",
       "      <th>clustering</th>\n",
       "      <th>deg_cent</th>\n",
       "      <th>degree</th>\n",
       "      <th>btwn_centr</th>\n",
       "    </tr>\n",
       "  </thead>\n",
       "  <tbody>\n",
       "    <tr>\n",
       "      <th>0</th>\n",
       "      <td>False</td>\n",
       "      <td>1</td>\n",
       "      <td>0.000047</td>\n",
       "      <td>0.182954</td>\n",
       "      <td>0.072061</td>\n",
       "      <td>0.000168</td>\n",
       "      <td>6.066004</td>\n",
       "      <td>0.000274</td>\n",
       "    </tr>\n",
       "    <tr>\n",
       "      <th>1</th>\n",
       "      <td>False</td>\n",
       "      <td>2</td>\n",
       "      <td>0.000047</td>\n",
       "      <td>0.183071</td>\n",
       "      <td>0.071849</td>\n",
       "      <td>0.000169</td>\n",
       "      <td>6.093530</td>\n",
       "      <td>0.000277</td>\n",
       "    </tr>\n",
       "    <tr>\n",
       "      <th>2</th>\n",
       "      <td>False</td>\n",
       "      <td>3</td>\n",
       "      <td>0.000047</td>\n",
       "      <td>0.183057</td>\n",
       "      <td>0.072211</td>\n",
       "      <td>0.000170</td>\n",
       "      <td>6.107378</td>\n",
       "      <td>0.000278</td>\n",
       "    </tr>\n",
       "    <tr>\n",
       "      <th>3</th>\n",
       "      <td>True</td>\n",
       "      <td>1</td>\n",
       "      <td>0.000116</td>\n",
       "      <td>0.223681</td>\n",
       "      <td>0.138634</td>\n",
       "      <td>0.000469</td>\n",
       "      <td>16.964789</td>\n",
       "      <td>0.002109</td>\n",
       "    </tr>\n",
       "    <tr>\n",
       "      <th>4</th>\n",
       "      <td>True</td>\n",
       "      <td>2</td>\n",
       "      <td>0.000114</td>\n",
       "      <td>0.222563</td>\n",
       "      <td>0.140451</td>\n",
       "      <td>0.000466</td>\n",
       "      <td>16.798561</td>\n",
       "      <td>0.002047</td>\n",
       "    </tr>\n",
       "    <tr>\n",
       "      <th>5</th>\n",
       "      <td>True</td>\n",
       "      <td>3</td>\n",
       "      <td>0.000113</td>\n",
       "      <td>0.222744</td>\n",
       "      <td>0.143961</td>\n",
       "      <td>0.000461</td>\n",
       "      <td>16.600000</td>\n",
       "      <td>0.002024</td>\n",
       "    </tr>\n",
       "  </tbody>\n",
       "</table>\n",
       "</div>"
      ],
      "text/plain": [
       "   in_playlist  week  pagerank  closeness_cent  clustering  deg_cent  \\\n",
       "0        False     1  0.000047        0.182954    0.072061  0.000168   \n",
       "1        False     2  0.000047        0.183071    0.071849  0.000169   \n",
       "2        False     3  0.000047        0.183057    0.072211  0.000170   \n",
       "3         True     1  0.000116        0.223681    0.138634  0.000469   \n",
       "4         True     2  0.000114        0.222563    0.140451  0.000466   \n",
       "5         True     3  0.000113        0.222744    0.143961  0.000461   \n",
       "\n",
       "      degree  btwn_centr  \n",
       "0   6.066004    0.000274  \n",
       "1   6.093530    0.000277  \n",
       "2   6.107378    0.000278  \n",
       "3  16.964789    0.002109  \n",
       "4  16.798561    0.002047  \n",
       "5  16.600000    0.002024  "
      ]
     },
     "execution_count": 32,
     "metadata": {},
     "output_type": "execute_result"
    }
   ],
   "source": [
    "# The avg network values for each week, for whether node is in the playlist or not, each week\n",
    "playlist_week =mega.groupby(['in_playlist','week'])[['pagerank','closeness_cent','clustering','deg_cent','degree','btwn_centr']].mean().reset_index()\n",
    "playlist_week"
   ]
  },
  {
   "cell_type": "code",
   "execution_count": 259,
   "metadata": {},
   "outputs": [
    {
     "data": {
      "text/plain": [
       "pagerank          0.000028\n",
       "closeness_cent    0.183444\n",
       "clustering        0.081526\n",
       "deg_cent          0.000094\n",
       "degree            3.377028\n",
       "btwn_centr        0.000123\n",
       "dtype: float64"
      ]
     },
     "execution_count": 259,
     "metadata": {},
     "output_type": "execute_result"
    }
   ],
   "source": [
    "# The avg network values for each node\n",
    "x = mega.groupby(['name'])[['pagerank','closeness_cent','clustering','deg_cent','degree','btwn_centr']].mean().reset_index()\n",
    "x[['pagerank','closeness_cent','clustering','deg_cent','degree','btwn_centr']].mean()"
   ]
  },
  {
   "cell_type": "code",
   "execution_count": 260,
   "metadata": {},
   "outputs": [
    {
     "data": {
      "text/html": [
       "<div>\n",
       "<style scoped>\n",
       "    .dataframe tbody tr th:only-of-type {\n",
       "        vertical-align: middle;\n",
       "    }\n",
       "\n",
       "    .dataframe tbody tr th {\n",
       "        vertical-align: top;\n",
       "    }\n",
       "\n",
       "    .dataframe thead th {\n",
       "        text-align: right;\n",
       "    }\n",
       "</style>\n",
       "<table border=\"1\" class=\"dataframe\">\n",
       "  <thead>\n",
       "    <tr style=\"text-align: right;\">\n",
       "      <th></th>\n",
       "      <th>pagerank</th>\n",
       "      <th>closeness_cent</th>\n",
       "      <th>clustering</th>\n",
       "      <th>deg_cent</th>\n",
       "      <th>degree</th>\n",
       "      <th>btwn_centr</th>\n",
       "    </tr>\n",
       "    <tr>\n",
       "      <th>in_playlist</th>\n",
       "      <th></th>\n",
       "      <th></th>\n",
       "      <th></th>\n",
       "      <th></th>\n",
       "      <th></th>\n",
       "      <th></th>\n",
       "    </tr>\n",
       "  </thead>\n",
       "  <tbody>\n",
       "    <tr>\n",
       "      <th>False</th>\n",
       "      <td>0.000046</td>\n",
       "      <td>0.182982</td>\n",
       "      <td>0.07118</td>\n",
       "      <td>0.000165</td>\n",
       "      <td>5.964489</td>\n",
       "      <td>0.000270</td>\n",
       "    </tr>\n",
       "    <tr>\n",
       "      <th>True</th>\n",
       "      <td>0.000113</td>\n",
       "      <td>0.224034</td>\n",
       "      <td>0.14018</td>\n",
       "      <td>0.000458</td>\n",
       "      <td>16.513514</td>\n",
       "      <td>0.002055</td>\n",
       "    </tr>\n",
       "  </tbody>\n",
       "</table>\n",
       "</div>"
      ],
      "text/plain": [
       "             pagerank  closeness_cent  clustering  deg_cent     degree  \\\n",
       "in_playlist                                                              \n",
       "False        0.000046        0.182982     0.07118  0.000165   5.964489   \n",
       "True         0.000113        0.224034     0.14018  0.000458  16.513514   \n",
       "\n",
       "             btwn_centr  \n",
       "in_playlist              \n",
       "False          0.000270  \n",
       "True           0.002055  "
      ]
     },
     "execution_count": 260,
     "metadata": {},
     "output_type": "execute_result"
    }
   ],
   "source": [
    "# The avg network values for each week, for whether node is in the playlist or not\n",
    "average_node = mega.groupby(['in_playlist','name'])[['pagerank','closeness_cent','clustering','deg_cent','degree','btwn_centr']].mean().reset_index()\n",
    "average_node.groupby('in_playlist')[['pagerank','closeness_cent','clustering','deg_cent','degree','btwn_centr']].mean()"
   ]
  },
  {
   "cell_type": "code",
   "execution_count": null,
   "metadata": {},
   "outputs": [
    {
     "name": "stdout",
     "output_type": "stream",
     "text": [
      "Top Pagerank ['Various Artists' 'Gioachino Rossini' 'Christoph Willibald Gluck']\n",
      "Highest degree ['Various Artists' 'Christoph Willibald Gluck' 'Gioachino Rossini']\n",
      "Highest closeness cent ['Various Artists' \"Orchestre National de l'O.R.T.F.\" 'Maurice André']\n",
      "Highest btwn cent ['Various Artists' \"Orchestre National de l'O.R.T.F.\" 'Maurice André']\n",
      "There are these many nodes with clustering of 1:  2021\n"
     ]
    }
   ],
   "source": [
    "############# For all items in each week #############\n",
    "# top pagerank\n",
    "print('Top Pagerank',mega.sort_values('pagerank',ascending=False).head(9)['name'].unique())\n",
    "# top degree\n",
    "print('Highest degree',mega.sort_values('degree',ascending=False).head(9)['name'].unique())\n",
    "# highest closeness cent\n",
    "print('Highest closeness cent',mega.sort_values('closeness_cent',ascending=False).head(9)['name'].unique())\n",
    "# highest closeness cent\n",
    "print('Highest btwn cent',mega.sort_values('btwn_centr',ascending=False).head(9)['name'].unique())\n",
    "# clustering of 1\n",
    "print('There are these many nodes with clustering of 1: ',len(mega[mega.clustering==1]['name'].unique()))"
   ]
  },
  {
   "cell_type": "markdown",
   "metadata": {},
   "source": [
    "The most important nodes are 'various artists', 'Giochino Rossini', and 'Christiph Willibald Gluck' via PageRank. They are also the artists with the highest degree."
   ]
  },
  {
   "cell_type": "code",
   "execution_count": null,
   "metadata": {},
   "outputs": [
    {
     "name": "stdout",
     "output_type": "stream",
     "text": [
      "Top Pagerank ['Jetason' 'mavzy grx' 'Egzod']\n",
      "Highest degree ['Jetason' 'mavzy grx' 'Egzod']\n",
      "Highest closeness cent ['Bruno Mars' 'Waxel' 'Playboi Carti']\n",
      "Highest btwn cent ['Egzod' 'Gulmee' 'Jetason' 'Hanumankind']\n",
      "There are these many nodes with clustering of 1:  ['JOVINCII' 'Rave The Storm' 'Arnie Way' 'HH韩湘子' 'Hasan Aydın'\n",
      " 'Sanjesh Meshram']\n"
     ]
    }
   ],
   "source": [
    "############# For nodes in playlist #############\n",
    "# top pagerank\n",
    "print('Top Pagerank',mega[mega.in_playlist==True].sort_values('pagerank',ascending=False).head(9)['name'].unique())\n",
    "# top degree\n",
    "print('Highest degree',mega[mega.in_playlist==True].sort_values('degree',ascending=False).head(9)['name'].unique())\n",
    "# highest closeness cent\n",
    "print('Highest closeness cent',mega[mega.in_playlist==True].sort_values('closeness_cent',ascending=False).head(9)['name'].unique())\n",
    "# highest closeness cent\n",
    "print('Highest btwn cent',mega[mega.in_playlist==True].sort_values('btwn_centr',ascending=False).head(9)['name'].unique())\n",
    "# clustering of 1\n",
    "print('There are these many nodes with clustering of 1: ',mega[(mega.in_playlist==True) & (mega.clustering==1)]['name'].unique())"
   ]
  },
  {
   "cell_type": "code",
   "execution_count": null,
   "metadata": {},
   "outputs": [
    {
     "name": "stdout",
     "output_type": "stream",
     "text": [
      "Classical Musicians\n"
     ]
    },
    {
     "data": {
      "text/plain": [
       "pagerank           0.000572\n",
       "closeness_cent     0.225286\n",
       "clustering         0.129495\n",
       "deg_cent           0.002648\n",
       "btwn_centr         0.002903\n",
       "degree            95.534722\n",
       "dtype: float64"
      ]
     },
     "execution_count": 212,
     "metadata": {},
     "output_type": "execute_result"
    }
   ],
   "source": [
    "############# Analysis of only Classical Music #############\n",
    "t = mega.copy()\n",
    "t.genres.fillna('',inplace=True)\n",
    "t['classical'] = t.genres.apply(lambda z: 'classical' in str(z))\n",
    "t=t[t.classical]\n",
    "t=t.groupby('name')[['pagerank','closeness_cent','clustering','deg_cent','btwn_centr','degree']].mean().reset_index()\n",
    "print('Classical Musicians')\n",
    "t[['pagerank','closeness_cent','clustering','deg_cent','btwn_centr','degree']].mean()"
   ]
  },
  {
   "cell_type": "code",
   "execution_count": null,
   "metadata": {},
   "outputs": [
    {
     "name": "stdout",
     "output_type": "stream",
     "text": [
      "Top Pagerank ['Various Artists' 'Gioachino Rossini' 'Christoph Willibald Gluck']\n",
      "Highest degree ['Various Artists' 'Christoph Willibald Gluck' 'Gioachino Rossini']\n",
      "Highest closeness cent ['Various Artists' \"Orchestre National de l'O.R.T.F.\" 'Maurice André']\n",
      "Highest btwn cent ['Various Artists' \"Orchestre National de l'O.R.T.F.\" 'Maurice André']\n",
      "There are these many nodes with clustering of 1:  ['Yoko Gold' 'Chris Sonic' 'Arya mewada' 'Arya Mewada' 'Marc Rain' 'NYK'\n",
      " 'Jon Nelson' 'Lady Yasmina' 'Cast of Joker: Folie à Deux' 'Zenit'\n",
      " 'Trevor Spitta' 'Meta' 'Axciss' 'Nalty' 'AKSD' 'GJBR' 'Filip Melvan'\n",
      " 'Daniel Prisco-Buxbaum' 'Marcello' 'YUEM' 'The Applepolishers' 'The Yes'\n",
      " 'NONS!DES' 'ech0' 'Funk Orquestra' 'JOTTA R' 'Feelix' 'H4rdEdge'\n",
      " 'Lacuna Manti' 'Black Auerbach' 'Schipe' 'WVWII' 'Nikke Yumnam'\n",
      " 'Studio Rio' 'Tokiah' 'azmaze.' 'Racha' 'Txuilson' 'Quinncy' 'Dj Dags'\n",
      " 'Aytide' 'SOFI' 'MARRVELLO' 'MAC KYINJING' 'HEVALEN' 'Charon'\n",
      " 'Neil Sircar' 'Faaves Music' 'Eagle-Eye Cherry' 'Reaching Solace'\n",
      " 'Nectop' 'Bhumika Raman' 'Mahiniyaa Sai Bose' 'BIJJ' 'SquadOut!'\n",
      " 'Varun Grover' 'Shaan Rahman' 'The Independeners' 'ThudWiser'\n",
      " 'Priya Saraiya' 'MLHVR' 'Talwiinder' 'Nitin Randhawa' 'Ghauri'\n",
      " 'Harjas Harjaayi' 'Saba Azad' \"Mousetrapp'd!\" 'Mr. Mickey' 'Ryan Gosling'\n",
      " 'J. Cross' 'Frank Miami' 'NEEKA' 'Eyelar' 'Endless Summer' 'Fat Joe'\n",
      " 'Rome LMN' 'Nick León' 'Beltran' 'Lumen' 'Phace' 'Former' 'Club Shy' 'K'\n",
      " 'X-COAST' 'O REI DA BATIDINHA' 'AQNO' 'Clayton System' 'MGZD' 'MC Myres'\n",
      " 'BZLNN' 'Lulu Santos' 'Pablo Bispo' 'Grupo Benzadeus' 'STANY' 'Ramzi'\n",
      " 'Dadju' 'Feder' 'Pale Waves' 'Clara La San' 'MonstaBeatz' 'Lou Ridley'\n",
      " 'idontknowjeffery' 'Gina Alice' 'PAJANE' 'Obviousgod' 'Dj Samir'\n",
      " 'MC Da 12' 'Weird Genius' 'Sérgio Mendes' 'TOLCHONOV' 'Grimm' 'DarkKnife'\n",
      " 'D-SAB' 'is this Cam?' 'Anna Kendrick' 'Averlie' 'Emily Ewing'\n",
      " 'Shubham Shirule' 'Sachet-Parampara' 'Samuel - Akanksha' 'Gbandz'\n",
      " 'Michael Bublé' 'hubithekid' 'Epic Flyway' 'Boeuv' 'Schlafend' 'WNDRZ'\n",
      " 'Tyler DiNatale' 'hackeDJackerz' 'Auryn' 'Liam Sturgess' 'Azooland'\n",
      " 'MOORAD' 'LØRD' 'Relacity' 'Kortex' 'Anarchist Sanctuary' 'Riovaz'\n",
      " 'VYRUS' 'SXID' 'Kazu' 'nuphory' '$MXLE' 'MUPP' 'Ghostface Playa'\n",
      " 'glichery' 'KXNVRA' 'Thomas Nan' 'xxephyrr' 'NEKKZI' 'Apovabin' 'TTM'\n",
      " 'Yzer' 'Dappy' 'Morrisson' 'G-Consta' 'Jack Ü' '10k.Caash' 'Ray Lansing'\n",
      " 'Darkoo' 'FN DaDealer' 'DISORDER' 'Kay Flock' 'Albee Al' 'J-E-T-S'\n",
      " 'SNAKEGANG' \"Cam O'bi\" 'Thisizlondon' 'Leav3l8ke' 'Starix' 'XIX' 'Beyden'\n",
      " 'A-MaX' 'Hard Grax' 'Spayds' 'Fyrell' 'Levana' 'Deadxter' 'mxbeats'\n",
      " 'Marek Arnold' 'CALEIDESCOPE' 'BL Official' 'Daytune' 'Red Maple'\n",
      " 'Lyamev' 'Zonus' 'midkeys' 'Lost Souls' 'Snasa' 'Albin Marc'\n",
      " 'RichBoyPopin' 'KKCrashOut' 'AVANTOM' 'Soundsinsane' 'AIVAN' 'Jayde'\n",
      " 'Sofia Rød' 'AMARI' 'Dosschy' 'Trilago' 'KISME' 'Delayz' 'Jess Ball'\n",
      " 'Nick Elliott' 'DJ Selecta' 'Walker Hayes' 'Thaiboy Digital'\n",
      " 'Speed Radio' 'Prospa' 'Giorgio Gee' 'Fakti' 'Bassanova' 'yara.'\n",
      " 'Syntheticsax' 'SENCO' 'RøBøT' 'Tom Jack' 'Steyyx' 'BIGMOO'\n",
      " 'Pablo Chacon' 'NO DOUBTS' 'Yasin Orman' 'STICKY KEY' 'EV3RYTHING'\n",
      " 'Theodor Rosenberg' 'Ethan Overton' 'NØVÄ' 'Lost Astro' 'Filippide'\n",
      " 'Natasha Ghosh' 'HITAK' 'DMoss' 'WOXX' 'J.Andrew' 'LVSZLO' 'Tobi Vibes'\n",
      " 'Your Spirit Guide' 'Daniel Bellomo' 'Repulse' 'IM!SC' 'ONYX' 'Triggor'\n",
      " 'Harrison Griffin' 'Salvi' 'Franklin Dam' 'Sghob' 'Arcade Menace'\n",
      " 'Teminite' 'Marou' 'Berox' 'techno rave' 'pollyzie' 'LIMIC' 'ERIIXN'\n",
      " 'Sanduú' 'Sadie Walker' 'Rae Khalil' 'B.G.' 'Donald J. Trump'\n",
      " 'Captive Portal' 'Aslon' 'DVRCH' 'PRATAMA' 'Lukas MAX' 'yonewaka'\n",
      " 'DannyZ' 'Carine' 'Long Play' 'femdot.' 'donnie killjoy' 'Bert Knox'\n",
      " 'tookhozy' 'KIDS SEE GHOSTS' 'Chilly Gonzales' 'NIKI' 'El Chombo'\n",
      " 'Only The Family' '2FeetBino' 'DB Tha General' 'Id Cabasa' 'Doodie Lo'\n",
      " 'Nino Breeze' '3PEAT' 'Joseph Black' 'BALD' 'Danniel Dflow' 'Glamii'\n",
      " 'YAEM' 'catchyasis' 'M4XIMUS' 'Agezzi' 'dnb demon' 'MAD SNAX' 'UNKNOAN'\n",
      " 'Viktoria Vane' 'Max Niklas' 'Micano' 'HYPECAT'\n",
      " 'Tommy Xuan Thang Tran Musikproduktion & DJ' 'emirhan' 'Grace Taylor'\n",
      " \"D'NIVIE\" 'BTRN' 'STRIKE' 'DAMIU' 'Oly' 'Jordan Levit' 'AcroniX'\n",
      " 'DJ Luian' '71 Digits' 'Wish - Cast' 'Daxson' 'Omiru' 'Grizz!'\n",
      " 'Tom Skies' 'Robinito' 'NDRZ' 'YOLO KULT' 'Kaydell' 'LennyMendy'\n",
      " 'Rosa Linn' 'Rebecca Helena' 'Refuzion' 'ANY' 'Ella Andersson'\n",
      " 'Hidden Melodies' 'Eric Spike' 'Srikar' 'Mixmash Deep' 'Benji.'\n",
      " 'Black Sherif' 'Maxo Kream' 'MIYAVI' 'reggie' 'monte booker'\n",
      " 'Dead Players' 'Dabbla' 'Space Rangers' 'Jenna Raine' 'Alex Sampson'\n",
      " 'Jafunk' 'Magnus Gejlager' 'JAJUBOI' 'Srishti Chauhan' 'WCKiD' 'TwoMuch'\n",
      " 'Wen Yu' 'Velli' 'Sven and Jeffrey' 'Shaun Warner' 'Coco de Sax'\n",
      " 'Sabina Mach' 'CaDeR' 'Myztro' 'Mellow & Sleazy' 'Balcony Mix Africa'\n",
      " 'Atmos Blaq' 'djMLZIN' 'Nedud' 'Lerry Müller' 'BAF' 'ALTER MOON' 'RDJMB'\n",
      " 'Santa Maria' 'Angry Beats' 'SE3K' 'REVACK' 'Luther' 'AJXZ'\n",
      " 'JOY RIVO & JTO' 'Stilo Mancia' 'Tovar' 'SLUHI' 'Rezonyzed' 'Rodgers'\n",
      " 'Andrew Hansel' 'secca' 'GNGER' 'Harold Marin' 'Rub C' 'funka' 'RLH'\n",
      " 'HeyDoc!' 'NYLA' 'xiv' 'Prznt' 'Reapecks' 'Big Papa313' 'Tripstar'\n",
      " 'T-Shyne' 'Lil Duke' 'Crayon' 'Cheekychizzy' 'Deep Edition' 'Anjunabeats'\n",
      " 'CountryBeat' 'Léo & Raphael' 'MC Paulin da Capital' 'Mc Lipi' 'MC BN'\n",
      " 'DJ Cris Fontedofunk' 'Duduzinho' 'Hyago Gomes' 'MC FERNANDINHO FN'\n",
      " 'DJ L3' 'DUNDUM NTS' 'Mc J Mito' 'Xand Avião' 'Jadson Araújo'\n",
      " 'Suzana Coelho' 'Jhony Carvalho' 'DJ Ivis' 'Eric Land' 'MC IZA'\n",
      " 'Dj Kuririn' 'Duda Meneghim' 'Selminho DJ' 'DJ RD DO MARTINS'\n",
      " 'DJ LUCIANO DE CAXIAS' 'MC Theuzyn' 'BBWTF' 'Nêgo Jhá' 'DJ TAK VADIÃO'\n",
      " 'Diegrau' 'Dj Lv Mdp' 'Mc Jean' 'Zentta' 'Løvento' 'Legend Kroos'\n",
      " 'Jesper Klix' 'Torrivicks' 'ZOD' 'Leo Cavada' 'Malpa' 'Cornel Dascalu'\n",
      " 'Fidel Deniz' 'Gus One' 'MIVARI' 'Murdbrain' 'Teezee' 'Ajebutter22'\n",
      " 'Seun Kuti' 'DJ Daddy Trance' 'Broken Dreams' 'James Dawson' 'Bass Boost'\n",
      " 'Vital EDM' 'Jim Yosef' 'CRVN' 'Oomloud' 'D-Block & S-te-Fan' 'YMIR'\n",
      " 'MahyaaR' 'Oddity' 'GEN.KLOUD' 'Hugo Cantarra' 'Confidence Man' '1991'\n",
      " 'Oppidan' 'George Strait' 'Orchestra the Prezent' 'Ion Marin'\n",
      " 'Orpheus Chamber Orchestra' 'A$AP ANT' 'DJ Bandz' 'Bankroll Got It'\n",
      " 'Eliine' 'ALEV' 'onebit.' 'Sam Wiseman' 'SHEREEN' 'Leaha' 'Brenda Mullen'\n",
      " 'Inquisitive' 'Jaydan Wolf' 'Oleyada' 'SLVR' 'Alande' 'Marc Vedo'\n",
      " 'INNERVERSE' 'AHM' 'SMVGGLERS' 'Andrea Govoni' 'Kriss Reeve' 'G.U.O.L.'\n",
      " 'Virtual Skies' 'YOSEEK' 'Studavigå' 'Morell Brown' 'Derek Reiver'\n",
      " 'Artichokes' 'Nickyb' 'Bobby John' 'Hong Seok' 'Sperax' 'Ragunde' 'AViN'\n",
      " 'mohit' 'Bharatt-Saurabh' 'UpsideDown' 'DJ Suketu' 'DJ Yogii' 'Jay Mehta'\n",
      " 'Gourov Dasgupta' 'Akash' 'Dopeboyghost' 'Issamood' '8beat' 'Aivengo'\n",
      " 'Allen Parck' 'Jack Vuterin' 'Miracle Tones' 'PAGODEIRA' 'Julia Jorge'\n",
      " 'KC PAREDÃO' 'UNRECORDED NUMB9R RECORDS' 'TALLLEAN' 'Volbeat' 'بابا 8 %'\n",
      " '8 جيجا قورشى' 'Electrico' 'William Aston' 'La Vagancia' '999Hertz'\n",
      " 'MXTZ' 'Trade Med' 'SR' 'R3livexx' 'Akella' 'drowned' 'AHM3D'\n",
      " 'Kass Smith' 'King Bera' 'Pablo Piddy' 'Heavy Metal Kings'\n",
      " 'Moodspace Music' 'VVAA' 'Daniel La Peur' 'Bibi und Tina'\n",
      " 'Matthews Ntlele' 'Zadra' 'Motyl' 'BackingSoda' 'Rasmus Fors' 'CN Lester'\n",
      " 'Her Brass' 'Bassists with Boobs' 'DarkFantasyInterlude' 'Mitchxy'\n",
      " 'Focus Noise Sounds' 'Brown Noise for Better Sleep'\n",
      " 'Hot Chip The Vaccines Justin Strauss Joakim'\n",
      " 'Akwetey (Dragons of Zynth) JD Twitch Daphni Javelin David Terranova Policy Scientist'\n",
      " 'Dj Chika' 'Jazz Funk Orchestra' 'Navid B' 'South Hill Productions'\n",
      " 'Santana the Golden Boy' 'Chill Executive Officer' 'Maykel Piron' 'GEE'\n",
      " 'JAP The Richman Toy' 'Copter' 'XOXO Artists' 'Ensemble Aquilon'\n",
      " 'Sébastien Mahieuxe' 'Elmer Schoebe' 'Valia' 'MIIOTA'\n",
      " 'Dj DeLaYeR & Deejay Kristal' 'Meyrin' 'Ruth Posselt'\n",
      " 'Sergei Koussevitzky' 'Eric Delamater' 'Tommy James & The Shondells'\n",
      " 'Haku Collective' 'Haku Keiki' 'Harry and the Potters' 'Lilith Ai'\n",
      " 'William Lucas' 'Luke Benward' 'BSS' 'Betulio' 'Jah Natan'\n",
      " 'Pinnock’s Players' 'Quatuor Europe' 'Xiaoming Wang'\n",
      " 'Les Musiciennes du Concert des Nations' '08001' 'Rogério Villagran'\n",
      " 'RUAMA' 'M RECORDS' 'M RECORDS Red M' 'The Rish' \"Lil' Mo\" 'Intrust'\n",
      " 'DigitalTek' 'Autodepth' 'Maulik' 'Jack Euro' 'Yoba' 'Outertone' 'CLIPZ'\n",
      " 'Kele' 'Tezzel' 'Andry Kiddos' 'Tostao' 'BRØHEIM' 'Tream' 'Popcorn!'\n",
      " 'Lena Sue' 'GRANTED' 'Allexno' 'DJ Alex Man' 'Samlight' 'BIGBANG' 'PSY'\n",
      " 'SEUNGRI' 'Martin Miller']\n"
     ]
    }
   ],
   "source": [
    "############# For nodes NOT in playlist #############\n",
    "# top pagerank\n",
    "print('Top Pagerank',mega[mega.in_playlist==False].sort_values('pagerank',ascending=False).head(9)['name'].unique())\n",
    "# top degree\n",
    "print('Highest degree',mega[mega.in_playlist==False].sort_values('degree',ascending=False).head(9)['name'].unique())\n",
    "# highest closeness cent\n",
    "print('Highest closeness cent',mega[mega.in_playlist==False].sort_values('closeness_cent',ascending=False).head(9)['name'].unique())\n",
    "# highest closeness cent\n",
    "print('Highest btwn cent',mega[mega.in_playlist==False].sort_values('btwn_centr',ascending=False).head(9)['name'].unique())\n",
    "# clustering of 1\n",
    "print('There are these many nodes with clustering of 1: ',mega[(mega.in_playlist==False) & (mega.clustering==1)]['name'].unique())"
   ]
  },
  {
   "cell_type": "code",
   "execution_count": null,
   "metadata": {},
   "outputs": [
    {
     "data": {
      "text/html": [
       "<div>\n",
       "<style scoped>\n",
       "    .dataframe tbody tr th:only-of-type {\n",
       "        vertical-align: middle;\n",
       "    }\n",
       "\n",
       "    .dataframe tbody tr th {\n",
       "        vertical-align: top;\n",
       "    }\n",
       "\n",
       "    .dataframe thead th {\n",
       "        text-align: right;\n",
       "    }\n",
       "</style>\n",
       "<table border=\"1\" class=\"dataframe\">\n",
       "  <thead>\n",
       "    <tr style=\"text-align: right;\">\n",
       "      <th></th>\n",
       "      <th></th>\n",
       "      <th></th>\n",
       "      <th>pagerank</th>\n",
       "      <th>closeness_cent</th>\n",
       "      <th>clustering</th>\n",
       "      <th>deg_cent</th>\n",
       "      <th>degree</th>\n",
       "      <th>btwn_centr</th>\n",
       "    </tr>\n",
       "    <tr>\n",
       "      <th>in_playlist</th>\n",
       "      <th>source</th>\n",
       "      <th>week</th>\n",
       "      <th></th>\n",
       "      <th></th>\n",
       "      <th></th>\n",
       "      <th></th>\n",
       "      <th></th>\n",
       "      <th></th>\n",
       "    </tr>\n",
       "  </thead>\n",
       "  <tbody>\n",
       "    <tr>\n",
       "      <th rowspan=\"6\" valign=\"top\">False</th>\n",
       "      <th rowspan=\"3\" valign=\"top\">playlist</th>\n",
       "      <th>1</th>\n",
       "      <td>0.000022</td>\n",
       "      <td>0.175267</td>\n",
       "      <td>0.053805</td>\n",
       "      <td>0.000067</td>\n",
       "      <td>2.406095</td>\n",
       "      <td>0.000050</td>\n",
       "    </tr>\n",
       "    <tr>\n",
       "      <th>2</th>\n",
       "      <td>0.000022</td>\n",
       "      <td>0.175277</td>\n",
       "      <td>0.052675</td>\n",
       "      <td>0.000067</td>\n",
       "      <td>2.401583</td>\n",
       "      <td>0.000050</td>\n",
       "    </tr>\n",
       "    <tr>\n",
       "      <th>3</th>\n",
       "      <td>0.000022</td>\n",
       "      <td>0.175233</td>\n",
       "      <td>0.053135</td>\n",
       "      <td>0.000067</td>\n",
       "      <td>2.402312</td>\n",
       "      <td>0.000050</td>\n",
       "    </tr>\n",
       "    <tr>\n",
       "      <th rowspan=\"3\" valign=\"top\">random</th>\n",
       "      <th>1</th>\n",
       "      <td>0.000099</td>\n",
       "      <td>0.198879</td>\n",
       "      <td>0.109884</td>\n",
       "      <td>0.000377</td>\n",
       "      <td>13.648421</td>\n",
       "      <td>0.000740</td>\n",
       "    </tr>\n",
       "    <tr>\n",
       "      <th>2</th>\n",
       "      <td>0.000098</td>\n",
       "      <td>0.198846</td>\n",
       "      <td>0.110660</td>\n",
       "      <td>0.000376</td>\n",
       "      <td>13.566504</td>\n",
       "      <td>0.000735</td>\n",
       "    </tr>\n",
       "    <tr>\n",
       "      <th>3</th>\n",
       "      <td>0.000099</td>\n",
       "      <td>0.198842</td>\n",
       "      <td>0.110696</td>\n",
       "      <td>0.000377</td>\n",
       "      <td>13.582117</td>\n",
       "      <td>0.000738</td>\n",
       "    </tr>\n",
       "    <tr>\n",
       "      <th rowspan=\"6\" valign=\"top\">True</th>\n",
       "      <th rowspan=\"3\" valign=\"top\">playlist</th>\n",
       "      <th>1</th>\n",
       "      <td>0.000103</td>\n",
       "      <td>0.223608</td>\n",
       "      <td>0.154641</td>\n",
       "      <td>0.000410</td>\n",
       "      <td>14.850467</td>\n",
       "      <td>0.001935</td>\n",
       "    </tr>\n",
       "    <tr>\n",
       "      <th>2</th>\n",
       "      <td>0.000102</td>\n",
       "      <td>0.222161</td>\n",
       "      <td>0.159711</td>\n",
       "      <td>0.000406</td>\n",
       "      <td>14.637255</td>\n",
       "      <td>0.001866</td>\n",
       "    </tr>\n",
       "    <tr>\n",
       "      <th>3</th>\n",
       "      <td>0.000102</td>\n",
       "      <td>0.221795</td>\n",
       "      <td>0.162075</td>\n",
       "      <td>0.000408</td>\n",
       "      <td>14.693069</td>\n",
       "      <td>0.001870</td>\n",
       "    </tr>\n",
       "    <tr>\n",
       "      <th rowspan=\"3\" valign=\"top\">random</th>\n",
       "      <th>1</th>\n",
       "      <td>0.000153</td>\n",
       "      <td>0.223906</td>\n",
       "      <td>0.089698</td>\n",
       "      <td>0.000648</td>\n",
       "      <td>23.428571</td>\n",
       "      <td>0.002643</td>\n",
       "    </tr>\n",
       "    <tr>\n",
       "      <th>2</th>\n",
       "      <td>0.000148</td>\n",
       "      <td>0.223673</td>\n",
       "      <td>0.087356</td>\n",
       "      <td>0.000631</td>\n",
       "      <td>22.756757</td>\n",
       "      <td>0.002545</td>\n",
       "    </tr>\n",
       "    <tr>\n",
       "      <th>3</th>\n",
       "      <td>0.000144</td>\n",
       "      <td>0.225564</td>\n",
       "      <td>0.090152</td>\n",
       "      <td>0.000618</td>\n",
       "      <td>22.264706</td>\n",
       "      <td>0.002480</td>\n",
       "    </tr>\n",
       "  </tbody>\n",
       "</table>\n",
       "</div>"
      ],
      "text/plain": [
       "                           pagerank  closeness_cent  clustering  deg_cent  \\\n",
       "in_playlist source   week                                                   \n",
       "False       playlist 1     0.000022        0.175267    0.053805  0.000067   \n",
       "                     2     0.000022        0.175277    0.052675  0.000067   \n",
       "                     3     0.000022        0.175233    0.053135  0.000067   \n",
       "            random   1     0.000099        0.198879    0.109884  0.000377   \n",
       "                     2     0.000098        0.198846    0.110660  0.000376   \n",
       "                     3     0.000099        0.198842    0.110696  0.000377   \n",
       "True        playlist 1     0.000103        0.223608    0.154641  0.000410   \n",
       "                     2     0.000102        0.222161    0.159711  0.000406   \n",
       "                     3     0.000102        0.221795    0.162075  0.000408   \n",
       "            random   1     0.000153        0.223906    0.089698  0.000648   \n",
       "                     2     0.000148        0.223673    0.087356  0.000631   \n",
       "                     3     0.000144        0.225564    0.090152  0.000618   \n",
       "\n",
       "                              degree  btwn_centr  \n",
       "in_playlist source   week                         \n",
       "False       playlist 1      2.406095    0.000050  \n",
       "                     2      2.401583    0.000050  \n",
       "                     3      2.402312    0.000050  \n",
       "            random   1     13.648421    0.000740  \n",
       "                     2     13.566504    0.000735  \n",
       "                     3     13.582117    0.000738  \n",
       "True        playlist 1     14.850467    0.001935  \n",
       "                     2     14.637255    0.001866  \n",
       "                     3     14.693069    0.001870  \n",
       "            random   1     23.428571    0.002643  \n",
       "                     2     22.756757    0.002545  \n",
       "                     3     22.264706    0.002480  "
      ]
     },
     "execution_count": 29,
     "metadata": {},
     "output_type": "execute_result"
    }
   ],
   "source": [
    "# Seeing how the values differ from source of query (random or playlist), in playlist, and week\n",
    "mega.groupby(['in_playlist','source','week'])[['pagerank','closeness_cent','clustering','deg_cent','degree','btwn_centr']].mean()"
   ]
  },
  {
   "cell_type": "markdown",
   "metadata": {},
   "source": [
    "Cannot get ASP because graph is unconnected, let's get ASP of largest connected component."
   ]
  },
  {
   "cell_type": "code",
   "execution_count": 265,
   "metadata": {},
   "outputs": [
    {
     "name": "stdout",
     "output_type": "stream",
     "text": [
      "Number of Connected Components per Graph: \n"
     ]
    },
    {
     "data": {
      "text/plain": [
       "(29, 29, 29)"
      ]
     },
     "execution_count": 265,
     "metadata": {},
     "output_type": "execute_result"
    }
   ],
   "source": [
    "print('Number of Connected Components per Graph: ')\n",
    "nx.number_connected_components(graphs['week1']['graph']),nx.number_connected_components(graphs['week2']['graph']),nx.number_connected_components(graphs['week3']['graph'])"
   ]
  },
  {
   "cell_type": "code",
   "execution_count": 266,
   "metadata": {},
   "outputs": [
    {
     "name": "stdout",
     "output_type": "stream",
     "text": [
      "Size of largest component per graph:\n"
     ]
    },
    {
     "data": {
      "text/plain": [
       "(36043, 35915, 35881)"
      ]
     },
     "execution_count": 266,
     "metadata": {},
     "output_type": "execute_result"
    }
   ],
   "source": [
    "print('Size of largest component per graph:')\n",
    "len(sorted(nx.connected_components(graphs['week1']['graph']), key=len, reverse=True)[0]),len(sorted(nx.connected_components(graphs['week2']['graph']), key=len, reverse=True)[0]),len(sorted(nx.connected_components(graphs['week3']['graph']), key=len, reverse=True)[0])"
   ]
  },
  {
   "cell_type": "code",
   "execution_count": 267,
   "metadata": {},
   "outputs": [],
   "source": [
    "nodes1=sorted(nx.connected_components(graphs['week1']['graph']), key=len, reverse=True)[0]\n",
    "nodes2=sorted(nx.connected_components(graphs['week2']['graph']), key=len, reverse=True)[0]\n",
    "nodes3 = sorted(nx.connected_components(graphs['week3']['graph']), key=len, reverse=True)[0]\n",
    "\n",
    "lc_1 = nx.subgraph(graphs['week1']['graph'],nodes1)\n",
    "lc_2 = nx.subgraph(graphs['week2']['graph'],nodes2)\n",
    "lc_3 = nx.subgraph(graphs['week3']['graph'],nodes3)"
   ]
  },
  {
   "cell_type": "code",
   "execution_count": 269,
   "metadata": {},
   "outputs": [],
   "source": [
    "nx.average_shortest_path_length(lc_1),nx.average_shortest_path_length(lc_2),nx.average_shortest_path_length(lc_3)"
   ]
  },
  {
   "cell_type": "markdown",
   "metadata": {},
   "source": [
    "Save data & ensure that the data is saved in a csv for my peers."
   ]
  },
  {
   "cell_type": "code",
   "execution_count": 227,
   "metadata": {},
   "outputs": [],
   "source": [
    "# open the cache, we need to fill all NAs before saving data\n",
    "cache = open_file('cache.json')"
   ]
  },
  {
   "cell_type": "code",
   "execution_count": null,
   "metadata": {},
   "outputs": [],
   "source": [
    "def update_null_collaborators(row:pd.Series):\n",
    "    '''Checks if collaborators column is null, if so fill it.'''\n",
    "    collab_na = row.isna()['collaborators']\n",
    "    name = row['name']\n",
    "    if collab_na:\n",
    "        if name in cache.keys() and ('collaborators' in cache[name].keys()):\n",
    "            output = cache[name]['collaborators']\n",
    "        else:\n",
    "            output = row['collaborators']\n",
    "    else:\n",
    "        output = row['collaborators']\n",
    "    return output"
   ]
  },
  {
   "cell_type": "code",
   "execution_count": 229,
   "metadata": {},
   "outputs": [],
   "source": [
    "# make sure to fill all  null data\n",
    "graphs['week3']['df']['collaborators']=graphs['week3']['df'].apply(lambda x: update_null_collaborators(x), axis=1)\n",
    "graphs['week2']['df']['collaborators']=graphs['week2']['df'].apply(lambda x: update_null_collaborators(x), axis=1)\n",
    "graphs['week1']['df']['collaborators']=graphs['week1']['df'].apply(lambda x: update_null_collaborators(x), axis=1)"
   ]
  },
  {
   "cell_type": "code",
   "execution_count": null,
   "metadata": {},
   "outputs": [],
   "source": [
    "# drop NA because that is the fourth layer of the network\n",
    "graphs['week3']['df'].dropna(inplace=True)\n",
    "graphs['week2']['df']['collaborators'].dropna(inplace=True)\n",
    "graphs['week1']['df']['collaborators'].dropna(inplace=True)"
   ]
  },
  {
   "cell_type": "code",
   "execution_count": 254,
   "metadata": {},
   "outputs": [],
   "source": [
    "# save to csv for my peers\n",
    "graphs['week1']['df'].to_csv('week1.csv')\n",
    "graphs['week2']['df'].to_csv('week2.csv')\n",
    "graphs['week3']['df'].to_csv('week3.csv')\n"
   ]
  }
 ],
 "metadata": {
  "kernelspec": {
   "display_name": ".venv",
   "language": "python",
   "name": "python3"
  },
  "language_info": {
   "codemirror_mode": {
    "name": "ipython",
    "version": 3
   },
   "file_extension": ".py",
   "mimetype": "text/x-python",
   "name": "python",
   "nbconvert_exporter": "python",
   "pygments_lexer": "ipython3",
   "version": "3.11.4"
  }
 },
 "nbformat": 4,
 "nbformat_minor": 2
}
