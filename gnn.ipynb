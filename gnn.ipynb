{
 "cells": [
  {
   "cell_type": "code",
   "execution_count": 623,
   "metadata": {},
   "outputs": [],
   "source": [
    "import numpy as np\n",
    "import matplotlib.pyplot as plt\n",
    "import networkx as nx\n",
    "import torch\n",
    "from torch_geometric.utils import from_networkx\n",
    "from torch_geometric.data import Data\n",
    "import torch.nn.functional as F\n",
    "from torch_geometric.nn import GCNConv\n",
    "import pandas as pd\n",
    "import ast\n",
    "from sklearn.model_selection import train_test_split, StratifiedShuffleSplit\n",
    "from sklearn.metrics import f1_score\n",
    "from collections import Counter"
   ]
  },
  {
   "cell_type": "markdown",
   "metadata": {},
   "source": [
    "# Attempting to create a GNN for the data"
   ]
  },
  {
   "cell_type": "markdown",
   "metadata": {},
   "source": [
    "## Step 1: Load data"
   ]
  },
  {
   "cell_type": "code",
   "execution_count": 577,
   "metadata": {},
   "outputs": [
    {
     "name": "stderr",
     "output_type": "stream",
     "text": [
      "/var/folders/r0/2fgtj8y934zddv46dgfbq1xw0000gn/T/ipykernel_727/3696121554.py:4: DtypeWarning: Columns (2,3,6,7,9,10) have mixed types. Specify dtype option on import or set low_memory=False.\n",
      "  w3 = pd.read_csv('week3.csv')\n"
     ]
    }
   ],
   "source": [
    "# load csvs\n",
    "w1 = pd.read_csv('week1.csv')\n",
    "w2 = pd.read_csv('week2.csv')\n",
    "w3 = pd.read_csv('week3.csv')"
   ]
  },
  {
   "cell_type": "code",
   "execution_count": 542,
   "metadata": {},
   "outputs": [
    {
     "data": {
      "text/html": [
       "<div>\n",
       "<style scoped>\n",
       "    .dataframe tbody tr th:only-of-type {\n",
       "        vertical-align: middle;\n",
       "    }\n",
       "\n",
       "    .dataframe tbody tr th {\n",
       "        vertical-align: top;\n",
       "    }\n",
       "\n",
       "    .dataframe thead th {\n",
       "        text-align: right;\n",
       "    }\n",
       "</style>\n",
       "<table border=\"1\" class=\"dataframe\">\n",
       "  <thead>\n",
       "    <tr style=\"text-align: right;\">\n",
       "      <th></th>\n",
       "      <th>Unnamed: 0</th>\n",
       "      <th>source</th>\n",
       "      <th>genres</th>\n",
       "      <th>img_info</th>\n",
       "      <th>popularity</th>\n",
       "      <th>followers</th>\n",
       "      <th>collaborators</th>\n",
       "      <th>in_playlist</th>\n",
       "      <th>link</th>\n",
       "      <th>name</th>\n",
       "      <th>api_link</th>\n",
       "      <th>pagerank</th>\n",
       "      <th>closeness_cent</th>\n",
       "      <th>clustering</th>\n",
       "      <th>deg_cent</th>\n",
       "      <th>degree</th>\n",
       "    </tr>\n",
       "  </thead>\n",
       "  <tbody>\n",
       "    <tr>\n",
       "      <th>0</th>\n",
       "      <td>Hanumankind</td>\n",
       "      <td>playlist</td>\n",
       "      <td>['desi hip hop', 'indian underground rap', 'ma...</td>\n",
       "      <td>[{'url': 'https://i.scdn.co/image/ab6761610000...</td>\n",
       "      <td>76</td>\n",
       "      <td>503600</td>\n",
       "      <td>{'Hanumankind': {'count': 14, 'uri': 'spotify:...</td>\n",
       "      <td>True</td>\n",
       "      <td>https://api.spotify.com/v1/artists/4nVa6XlBFlI...</td>\n",
       "      <td>Hanumankind</td>\n",
       "      <td>NaN</td>\n",
       "      <td>0.000159</td>\n",
       "      <td>0.258736</td>\n",
       "      <td>0.081871</td>\n",
       "      <td>0.000525</td>\n",
       "      <td>19</td>\n",
       "    </tr>\n",
       "    <tr>\n",
       "      <th>1</th>\n",
       "      <td>Kalmi</td>\n",
       "      <td>playlist</td>\n",
       "      <td>[]</td>\n",
       "      <td>[{'url': 'https://i.scdn.co/image/ab6761610000...</td>\n",
       "      <td>75</td>\n",
       "      <td>32646</td>\n",
       "      <td>{'Hanumankind': {'count': 3, 'uri': 'spotify:a...</td>\n",
       "      <td>True</td>\n",
       "      <td>https://api.spotify.com/v1/artists/6tYCSHLtTI5...</td>\n",
       "      <td>Kalmi</td>\n",
       "      <td>NaN</td>\n",
       "      <td>0.000145</td>\n",
       "      <td>0.258189</td>\n",
       "      <td>0.080882</td>\n",
       "      <td>0.000470</td>\n",
       "      <td>17</td>\n",
       "    </tr>\n",
       "    <tr>\n",
       "      <th>2</th>\n",
       "      <td>Parimal Shais</td>\n",
       "      <td>playlist</td>\n",
       "      <td>['malayalam hip hop']</td>\n",
       "      <td>[{'url': 'https://i.scdn.co/image/ab6761610000...</td>\n",
       "      <td>51</td>\n",
       "      <td>38998</td>\n",
       "      <td>{'Parimal Shais': {'count': 17, 'uri': 'spotif...</td>\n",
       "      <td>False</td>\n",
       "      <td>NaN</td>\n",
       "      <td>Parimal Shais</td>\n",
       "      <td>NaN</td>\n",
       "      <td>0.000130</td>\n",
       "      <td>0.257790</td>\n",
       "      <td>0.114286</td>\n",
       "      <td>0.000415</td>\n",
       "      <td>15</td>\n",
       "    </tr>\n",
       "    <tr>\n",
       "      <th>3</th>\n",
       "      <td>Shalmali Kholgade</td>\n",
       "      <td>playlist</td>\n",
       "      <td>['filmi', 'modern bollywood']</td>\n",
       "      <td>[{'url': 'https://i.scdn.co/image/ab6761610000...</td>\n",
       "      <td>63</td>\n",
       "      <td>155041</td>\n",
       "      <td>{'Shalmali Kholgade': {'count': 20, 'uri': 'sp...</td>\n",
       "      <td>False</td>\n",
       "      <td>NaN</td>\n",
       "      <td>Shalmali Kholgade</td>\n",
       "      <td>NaN</td>\n",
       "      <td>0.000199</td>\n",
       "      <td>0.207056</td>\n",
       "      <td>0.008658</td>\n",
       "      <td>0.000608</td>\n",
       "      <td>22</td>\n",
       "    </tr>\n",
       "    <tr>\n",
       "      <th>4</th>\n",
       "      <td>Vishal Dadlani</td>\n",
       "      <td>playlist</td>\n",
       "      <td>['filmi', 'modern bollywood']</td>\n",
       "      <td>[{'url': 'https://i.scdn.co/image/ab6761610000...</td>\n",
       "      <td>75</td>\n",
       "      <td>11840425</td>\n",
       "      <td>{'Vishal Dadlani': {'count': 20, 'uri': 'spoti...</td>\n",
       "      <td>False</td>\n",
       "      <td>NaN</td>\n",
       "      <td>Vishal Dadlani</td>\n",
       "      <td>NaN</td>\n",
       "      <td>0.000265</td>\n",
       "      <td>0.206633</td>\n",
       "      <td>0.000000</td>\n",
       "      <td>0.000802</td>\n",
       "      <td>29</td>\n",
       "    </tr>\n",
       "  </tbody>\n",
       "</table>\n",
       "</div>"
      ],
      "text/plain": [
       "          Unnamed: 0    source  \\\n",
       "0        Hanumankind  playlist   \n",
       "1              Kalmi  playlist   \n",
       "2      Parimal Shais  playlist   \n",
       "3  Shalmali Kholgade  playlist   \n",
       "4     Vishal Dadlani  playlist   \n",
       "\n",
       "                                              genres  \\\n",
       "0  ['desi hip hop', 'indian underground rap', 'ma...   \n",
       "1                                                 []   \n",
       "2                              ['malayalam hip hop']   \n",
       "3                      ['filmi', 'modern bollywood']   \n",
       "4                      ['filmi', 'modern bollywood']   \n",
       "\n",
       "                                            img_info  popularity  followers  \\\n",
       "0  [{'url': 'https://i.scdn.co/image/ab6761610000...          76     503600   \n",
       "1  [{'url': 'https://i.scdn.co/image/ab6761610000...          75      32646   \n",
       "2  [{'url': 'https://i.scdn.co/image/ab6761610000...          51      38998   \n",
       "3  [{'url': 'https://i.scdn.co/image/ab6761610000...          63     155041   \n",
       "4  [{'url': 'https://i.scdn.co/image/ab6761610000...          75   11840425   \n",
       "\n",
       "                                       collaborators  in_playlist  \\\n",
       "0  {'Hanumankind': {'count': 14, 'uri': 'spotify:...         True   \n",
       "1  {'Hanumankind': {'count': 3, 'uri': 'spotify:a...         True   \n",
       "2  {'Parimal Shais': {'count': 17, 'uri': 'spotif...        False   \n",
       "3  {'Shalmali Kholgade': {'count': 20, 'uri': 'sp...        False   \n",
       "4  {'Vishal Dadlani': {'count': 20, 'uri': 'spoti...        False   \n",
       "\n",
       "                                                link               name  \\\n",
       "0  https://api.spotify.com/v1/artists/4nVa6XlBFlI...        Hanumankind   \n",
       "1  https://api.spotify.com/v1/artists/6tYCSHLtTI5...              Kalmi   \n",
       "2                                                NaN      Parimal Shais   \n",
       "3                                                NaN  Shalmali Kholgade   \n",
       "4                                                NaN     Vishal Dadlani   \n",
       "\n",
       "  api_link  pagerank  closeness_cent  clustering  deg_cent  degree  \n",
       "0      NaN  0.000159        0.258736    0.081871  0.000525      19  \n",
       "1      NaN  0.000145        0.258189    0.080882  0.000470      17  \n",
       "2      NaN  0.000130        0.257790    0.114286  0.000415      15  \n",
       "3      NaN  0.000199        0.207056    0.008658  0.000608      22  \n",
       "4      NaN  0.000265        0.206633    0.000000  0.000802      29  "
      ]
     },
     "execution_count": 542,
     "metadata": {},
     "output_type": "execute_result"
    }
   ],
   "source": [
    "w1.head()"
   ]
  },
  {
   "cell_type": "code",
   "execution_count": 543,
   "metadata": {},
   "outputs": [],
   "source": [
    "def get_weight(row:pd.Series):\n",
    "    node_2 =row['edges']\n",
    "    lookup = row['collaborators']\n",
    "    if lookup=={}:\n",
    "        return None\n",
    "    return int(lookup[node_2]['count'])\n",
    "\n"
   ]
  },
  {
   "cell_type": "code",
   "execution_count": 544,
   "metadata": {},
   "outputs": [],
   "source": [
    "def load_graph_fromcsv(df:pd.DataFrame):\n",
    "    df.collaborators.fillna('{}',inplace=True)\n",
    "    df['collaborators']=df.collaborators.apply(lambda x: ast.literal_eval(x))\n",
    "    df['edges']=df.collaborators.apply(lambda x: list(x.keys()))\n",
    "    df=df.explode('edges')\n",
    "    df['weight']=df.apply(lambda x: get_weight(x),axis=1)\n",
    "    return nx.from_pandas_edgelist(df=df,source='name',target='edges',edge_attr='weight')"
   ]
  },
  {
   "cell_type": "code",
   "execution_count": 545,
   "metadata": {},
   "outputs": [],
   "source": [
    "w1_g = load_graph_fromcsv(w1)\n",
    "w2_g = load_graph_fromcsv(w2)\n",
    "w3_g = load_graph_fromcsv(w3)"
   ]
  },
  {
   "cell_type": "code",
   "execution_count": 575,
   "metadata": {},
   "outputs": [],
   "source": [
    "# only want to look at nodes we have full info on\n",
    "w1_g = w1_g.subgraph(set(w1_g.nodes).intersection(set(w1.name)))\n",
    "w2_g = w2_g.subgraph(set(w2_g.nodes).intersection(set(w2.name)))\n",
    "w3_g = w3_g.subgraph(set(w3_g.nodes).intersection(set(w3.name)))"
   ]
  },
  {
   "cell_type": "code",
   "execution_count": 578,
   "metadata": {},
   "outputs": [],
   "source": [
    "# turn genres into list\n",
    "w1.genres=w1.genres.apply(lambda x: ast.literal_eval(x.replace(\"']\",'\"]').replace(\"['\",'[\"').replace(\", '\",', \"').replace(\"', \",'\", ')))\n",
    "w2.genres=w2.genres.apply(lambda x: ast.literal_eval(x.replace(\"']\",'\"]').replace(\"['\",'[\"').replace(\", '\",', \"').replace(\"', \",'\", ')))\n",
    "w3['genres'].fillna('[]',inplace=True)\n",
    "w3.genres=w3.genres.apply(lambda x: ast.literal_eval(x.replace(\"']\",'\"]').replace(\"['\",'[\"').replace(\", '\",', \"').replace(\"', \",'\", ')))"
   ]
  },
  {
   "cell_type": "code",
   "execution_count": 579,
   "metadata": {},
   "outputs": [
    {
     "name": "stdout",
     "output_type": "stream",
     "text": [
      "Week 1\n",
      "Top genres for people in playlist:  ['pop' 'dance pop' 'rap' 'hip hop' 'pov: indie']\n",
      "Top genres for people NOT in playlist:  ['covertronica' 'tropical house' 'pop dance' 'rap' 'electro house']\n",
      "Week 2\n",
      "Top genres for people in playlist:  ['pop' 'rap' 'dance pop' 'pov: indie' 'hip hop']\n",
      "Top genres for people NOT in playlist:  ['covertronica' 'tropical house' 'pop dance' 'rap' 'pop']\n",
      "Week 3\n",
      "Top genres for people in playlist:  ['pop' 'rap' 'dance pop' 'pov: indie' 'hip hop']\n",
      "Top genres for people NOT in playlist:  ['covertronica' 'tropical house' 'pop dance' 'rap' 'pop']\n"
     ]
    }
   ],
   "source": [
    "# want to see most popular genres\n",
    "w1_genres = w1[['in_playlist','genres']].explode('genres').value_counts().reset_index()\n",
    "print('Week 1')\n",
    "print('Top genres for people in playlist: ',w1_genres[w1_genres.in_playlist].sort_values('count',ascending=False).head(5)['genres'].values)\n",
    "print('Top genres for people NOT in playlist: ',w1_genres[w1_genres.in_playlist==False].sort_values('count',ascending=False).head(5)['genres'].values)\n",
    "\n",
    "print('Week 2')\n",
    "w2_genres = w2[['in_playlist','genres']].explode('genres').value_counts().reset_index()\n",
    "print('Top genres for people in playlist: ',w2_genres[w2_genres.in_playlist].sort_values('count',ascending=False).head(5)['genres'].values)\n",
    "print('Top genres for people NOT in playlist: ',w2_genres[w2_genres.in_playlist==False].sort_values('count',ascending=False).head(5)['genres'].values)\n",
    "\n",
    "print('Week 3')\n",
    "w3_genres = w3[['in_playlist','genres']].explode('genres').value_counts().reset_index()\n",
    "print('Top genres for people in playlist: ',w3_genres[w3_genres.in_playlist].sort_values('count',ascending=False).head(5)['genres'].values)\n",
    "print('Top genres for people NOT in playlist: ',w3_genres[w3_genres.in_playlist==False].sort_values('count',ascending=False).head(5)['genres'].values)"
   ]
  },
  {
   "cell_type": "code",
   "execution_count": 580,
   "metadata": {},
   "outputs": [],
   "source": [
    "# feature engineering\n",
    "\n",
    "# number of genres\n",
    "w1['num_genres'] = w1.genres.apply(lambda x: len(x))\n",
    "w2['num_genres'] = w2.genres.apply(lambda x: len(x))\n",
    "w3['num_genres'] = w3.genres.apply(lambda x: len(x))\n",
    "\n",
    "# top genres: yes or no\n",
    "top_genres = ['pop', 'dance pop', 'rap', 'hip hop', 'pov: indie','covertronica', 'tropical house', 'pop dance', 'rap', 'electro house']\n",
    "for gen in top_genres:\n",
    "    w1[gen]=w1.genres.apply(lambda x: 1 if gen in x else 0)\n",
    "    w2[gen]=w2.genres.apply(lambda x: 1 if gen in x else 0)\n",
    "    w3[gen]=w3.genres.apply(lambda x: 1 if gen in x else 0)"
   ]
  },
  {
   "cell_type": "code",
   "execution_count": 581,
   "metadata": {},
   "outputs": [
    {
     "name": "stderr",
     "output_type": "stream",
     "text": [
      "/var/folders/r0/2fgtj8y934zddv46dgfbq1xw0000gn/T/ipykernel_727/69003609.py:7: SettingWithCopyWarning: \n",
      "A value is trying to be set on a copy of a slice from a DataFrame.\n",
      "Try using .loc[row_indexer,col_indexer] = value instead\n",
      "\n",
      "See the caveats in the documentation: https://pandas.pydata.org/pandas-docs/stable/user_guide/indexing.html#returning-a-view-versus-a-copy\n",
      "  w1_l['in_playlist']=w1_l['in_playlist'].apply(lambda x: int(x))\n",
      "/var/folders/r0/2fgtj8y934zddv46dgfbq1xw0000gn/T/ipykernel_727/69003609.py:9: SettingWithCopyWarning: \n",
      "A value is trying to be set on a copy of a slice from a DataFrame.\n",
      "Try using .loc[row_indexer,col_indexer] = value instead\n",
      "\n",
      "See the caveats in the documentation: https://pandas.pydata.org/pandas-docs/stable/user_guide/indexing.html#returning-a-view-versus-a-copy\n",
      "  w2_l['in_playlist']=w2_l['in_playlist'].apply(lambda x: int(x))\n",
      "/var/folders/r0/2fgtj8y934zddv46dgfbq1xw0000gn/T/ipykernel_727/69003609.py:11: SettingWithCopyWarning: \n",
      "A value is trying to be set on a copy of a slice from a DataFrame\n",
      "\n",
      "See the caveats in the documentation: https://pandas.pydata.org/pandas-docs/stable/user_guide/indexing.html#returning-a-view-versus-a-copy\n",
      "  w3_l.in_playlist.fillna(0,inplace=True)\n",
      "/var/folders/r0/2fgtj8y934zddv46dgfbq1xw0000gn/T/ipykernel_727/69003609.py:12: SettingWithCopyWarning: \n",
      "A value is trying to be set on a copy of a slice from a DataFrame.\n",
      "Try using .loc[row_indexer,col_indexer] = value instead\n",
      "\n",
      "See the caveats in the documentation: https://pandas.pydata.org/pandas-docs/stable/user_guide/indexing.html#returning-a-view-versus-a-copy\n",
      "  w3_l['in_playlist']=w3_l['in_playlist'].apply(lambda x: int(x))\n"
     ]
    }
   ],
   "source": [
    "# get features\n",
    "w1_f = w1[['name','genres','popularity','followers','num_genres']+top_genres]\n",
    "w2_f = w2[['name','genres','popularity','followers','num_genres']+top_genres]\n",
    "w3_f = w3[['name','genres','popularity','followers','num_genres']+top_genres]\n",
    "# get labels\n",
    "w1_l = w1[['name','in_playlist']]\n",
    "w1_l['in_playlist']=w1_l['in_playlist'].apply(lambda x: int(x))\n",
    "w2_l = w2[['name','in_playlist']]\n",
    "w2_l['in_playlist']=w2_l['in_playlist'].apply(lambda x: int(x))\n",
    "w3_l = w3[['name','in_playlist']]\n",
    "w3_l.in_playlist.fillna(0,inplace=True)\n",
    "w3_l['in_playlist']=w3_l['in_playlist'].apply(lambda x: int(x))"
   ]
  },
  {
   "cell_type": "code",
   "execution_count": 582,
   "metadata": {},
   "outputs": [],
   "source": [
    "for node in w1_g.nodes:\n",
    "    w1_g.nodes[node]['features']=w1_f[w1_f.name==node][['popularity','followers','num_genres']+top_genres].values\n",
    "    w1_g.nodes[node]['label']=w1_l[w1_l.name==node]['in_playlist'].values\n",
    "\n",
    "for node in w2_g.nodes:\n",
    "    w2_g.nodes[node]['features']=w2_f[w2_f.name==node][['popularity','followers','num_genres']+top_genres].values\n",
    "    w2_g.nodes[node]['label']=w2_l[w2_l.name==node]['in_playlist'].values\n",
    "\n",
    "for node in w3_g.nodes:\n",
    "    w3_g.nodes[node]['features']=w3_f[w3_f.name==node][['popularity','followers','num_genres']+top_genres].values\n",
    "    w3_g.nodes[node]['label']=w3_l[w3_l.name==node]['in_playlist'].values"
   ]
  },
  {
   "cell_type": "markdown",
   "metadata": {},
   "source": [
    "This is where we start the only w1 version, to see the performance"
   ]
  },
  {
   "cell_type": "code",
   "execution_count": 584,
   "metadata": {},
   "outputs": [],
   "source": [
    "node_id_to_index = {node_id: idx for idx, node_id in enumerate(w1_g.nodes)}\n",
    "# assigns a unique integer index (idx) to each node ID (node_id) in the graph G\n",
    "# PyTorch Geometric works with numerically indexed nodes,\n",
    "# so all node IDs from the NetworkX graph must be converted to numeric indices\n",
    "\n",
    "# Create feature matrix and edge index\n",
    "node_list = list(w1_g.nodes)\n",
    "feature_temp = [w1_g.nodes[node][\"features\"].flatten().tolist() for node in node_list]\n",
    "feature_mx = []\n",
    "for x in feature_temp:\n",
    "    if len(x)==0: # if there is no label, it isn't in playlist (a 3rd layer person)\n",
    "        feature_mx.append([0,0]) # filling with 0, not best choice!! but might write about\n",
    "    else:\n",
    "        feature_mx.append(x)\n",
    "feature_matrix = np.array(feature_mx,dtype=np.float64)\n",
    "#feature_matrix = np.expand_dims(feature_matrix,axis=1) # make sure its the right shape\n",
    "\n",
    "# Normalize node features - so that sum equals 1 and all features are on the same scale\n",
    "# SKYELER COME CHECKTHIS LATER!!!! \n",
    "#feature_matrix = feature_matrix/feature_matrix.sum(axis=1,keepdims=True)\n",
    "feature_matrix = feature_matrix/feature_matrix.sum(axis=0)\n"
   ]
  },
  {
   "cell_type": "code",
   "execution_count": 585,
   "metadata": {},
   "outputs": [],
   "source": [
    "#creates node labels\n",
    "temp = [w1_g.nodes[node]['label'].tolist() for node in node_list] # get the labels\n",
    "labels = []\n",
    "for x in temp:\n",
    "    if len(x)==0: # if there is no label, it isn't in playlist (a 3rd layer person)\n",
    "        labels.append(0)\n",
    "    else:\n",
    "        labels.append(x[0])\n",
    "labels = torch.tensor(labels,dtype=torch.long)"
   ]
  },
  {
   "cell_type": "code",
   "execution_count": 586,
   "metadata": {},
   "outputs": [],
   "source": [
    "# Create edge index\n",
    "edge_index = torch.tensor(\n",
    "    [[node_id_to_index[src], node_id_to_index[dst]] for src, dst in w1_g.edges],\n",
    "    dtype=torch.long,\n",
    ").t().contiguous()\n",
    "\n",
    "# Create PyTorch Geometric Data object\n",
    "data = Data(\n",
    "    x=torch.tensor(feature_matrix, dtype=torch.float),\n",
    "    edge_index=edge_index,\n",
    "    y=labels\n",
    ")"
   ]
  },
  {
   "cell_type": "code",
   "execution_count": 622,
   "metadata": {},
   "outputs": [
    {
     "data": {
      "text/plain": [
       "Counter({0: 14984, 1: 142})"
      ]
     },
     "execution_count": 622,
     "metadata": {},
     "output_type": "execute_result"
    }
   ],
   "source": [
    "Counter([x.item() for x in data.y])"
   ]
  },
  {
   "cell_type": "code",
   "execution_count": 631,
   "metadata": {},
   "outputs": [],
   "source": [
    "# Train/Test Split\n",
    "node_indices = np.arange(data.num_nodes)\n",
    "node_labels = [x.item() for x in data.y]\n",
    "# train_indices, test_indices = train_test_split(\n",
    "#     node_indices, test_size=0.3, random_state=42\n",
    "# )\n",
    "split = StratifiedShuffleSplit(n_splits=1, test_size=0.3, random_state=42)  # 0.3 means 30% of data in test\n",
    "# stratify because it may improve training\n",
    "for train_index, test_index in split.split(node_indices, node_labels):\n",
    "    train_indices = train_index\n",
    "    test_indices = test_index"
   ]
  },
  {
   "cell_type": "code",
   "execution_count": 633,
   "metadata": {},
   "outputs": [],
   "source": [
    "# Further split training nodes into train/validation sets\n",
    "# train_indices, val_indices = train_test_split(train_indices, test_size=0.2, random_state=42)\n",
    "split = StratifiedShuffleSplit(n_splits=1, test_size=0.2, random_state=42)  # 0.2 means 20% of data in test\n",
    "train_labels = [node_labels[x] for x in train_indices]\n",
    "# stratify because it may improve training\n",
    "for train_index, test_index in split.split(train_indices, train_labels):\n",
    "    train_indices = train_index\n",
    "    val_indices = test_index\n",
    "\n",
    "# Convert Splits to PyTorch Tensors\n",
    "train_nodes = torch.tensor(train_indices, dtype=torch.long)\n",
    "val_nodes = torch.tensor(val_indices, dtype=torch.long)\n",
    "test_nodes = torch.tensor(test_indices, dtype=torch.long)"
   ]
  },
  {
   "cell_type": "code",
   "execution_count": 656,
   "metadata": {},
   "outputs": [],
   "source": [
    "label_mapping = {1:'yes',0:'no'}"
   ]
  },
  {
   "cell_type": "code",
   "execution_count": 664,
   "metadata": {},
   "outputs": [],
   "source": [
    "# Define the GNN Model\n",
    "# 2-layer Graph Convolutional Network (GCN) is defined using GCNConv layers\n",
    "class GCN(torch.nn.Module):\n",
    "    def __init__(self, input_dim, hidden_dim, output_dim, dropout=0.5):\n",
    "        super(GCN, self).__init__()\n",
    "        self.conv1 = GCNConv(input_dim,hidden_dim) # layer 1 - takes the input node features (input_dim) and aggregates information from neighboring nodes\n",
    "        self.conv2 = GCNConv(hidden_dim,output_dim) # layer 2 - Maps the hidden representation from the first layer to the output dimensions (number of classes)\n",
    "        self.dropout = dropout # prevents overfitting by randomly dropping nodes in fws pass\n",
    "\n",
    "    def forward(self, data):\n",
    "        x, edge_index = data.x, data.edge_index\n",
    "        x = self.conv1(x, edge_index)\n",
    "        x = F.relu(x) # for non-linearity\n",
    "        x = F.dropout(x, p=self.dropout, training=self.training)\n",
    "        x = self.conv2(x, edge_index)\n",
    "        return F.log_softmax(x, dim=1) # gives log probabilities for each class -> used for classification \n",
    "\n",
    "\n",
    "model = GCN(\n",
    "    input_dim=15, #len(['popularity','followers','num_genres']+top_genres), #data.x.size(1),  # Number of features\n",
    "    hidden_dim=16,\n",
    "    output_dim=len(label_mapping),  # Number of classes\n",
    "    dropout=0.5,  # Dropout rate\n",
    ")\n",
    "# defines the Validation Function\n",
    "def validate():\n",
    "    model.eval()\n",
    "    with torch.no_grad():\n",
    "        out = model(data)\n",
    "        pred = out.argmax(dim=1)\n",
    "        correct_pred = (pred[val_nodes]==data.y[val_nodes]).sum() #.items\n",
    "        return f1_score(data.y[val_nodes],pred[val_nodes]),correct_pred/len(val_nodes)\n",
    "        #return correct_pred/len(val_nodes)\n",
    "\n",
    "# Training and Testing Loops\n",
    "# Optimizes the model’s parameters during training\n",
    "optimizer = torch.optim.Adam(model.parameters(), lr=0.001, weight_decay=5e-4)\n",
    "\n",
    "# ensures the model’s weights are properly initialized to avoid issues like exploding/vanishing gradients\n",
    "def initialize_weights(m):\n",
    "    # Initialize the weight of the linear layer inside GCNConv\n",
    "    if isinstance(m,GCNConv):\n",
    "        torch.nn.init.xavier_uniform_(m.lin.weight) # inits weight\n",
    "\n",
    "model.apply(initialize_weights)\n",
    "\n",
    "# Trains the model using the negative log-likelihood loss and updates weights using backpropagation\n",
    "def train():\n",
    "    model.train() # Sets the model to training mode\n",
    "    optimizer.zero_grad() # Resets the gradients from the previous step\n",
    "    out = model(data) # Forward pass: computes model predictions\n",
    "    loss = F.nll_loss(out[train_nodes], data.y[train_nodes]) # Computes loss on training nodes\n",
    "    loss.backward() # Backward pass: computes gradients of the loss with respect to model parameters\n",
    "    optimizer.step() # Updates model parameters\n",
    "    return loss # Returns the loss for tracking\n",
    "\n",
    "# Evaluates the model’s performance on the test set\n",
    "def test():\n",
    "    model.eval()  # Sets the model to evaluation mode\n",
    "    with torch.no_grad():  # Disables gradient calculations\n",
    "        _, pred = model(data).max(dim=1)\n",
    "        # Predicts the class with the highest probability\n",
    "        corr = (pred[test_nodes]==data.y[test_nodes]).sum()\n",
    "          # Counts correct predictions for test nodes\n",
    "        acc = int(corr)/len(test_nodes)\n",
    "          # Calculates accuracy\n",
    "        f1 = f1_score(data.y[test_nodes],pred[test_nodes])\n",
    "    return f1,acc  # Returns the test accuracy"
   ]
  },
  {
   "cell_type": "code",
   "execution_count": 669,
   "metadata": {},
   "outputs": [
    {
     "name": "stdout",
     "output_type": "stream",
     "text": [
      "Epoch 0, Loss: 0.692963481, Val F1: 0.000000000, Test F1: 0.000000000, Val Acc 0.990557134, Test Acc 0.990524460\n",
      "Epoch 50, Loss: 0.514649272, Val F1: 0.000000000, Test F1: 0.000000000, Val Acc 0.990557134, Test Acc 0.990524460\n",
      "Epoch 100, Loss: 0.354485035, Val F1: 0.000000000, Test F1: 0.000000000, Val Acc 0.990557134, Test Acc 0.990524460\n",
      "Epoch 150, Loss: 0.243620932, Val F1: 0.000000000, Test F1: 0.000000000, Val Acc 0.990557134, Test Acc 0.990524460\n",
      "Epoch 200, Loss: 0.179379970, Val F1: 0.000000000, Test F1: 0.000000000, Val Acc 0.990557134, Test Acc 0.990524460\n",
      "Epoch 250, Loss: 0.141237468, Val F1: 0.000000000, Test F1: 0.000000000, Val Acc 0.990557134, Test Acc 0.990524460\n",
      "Epoch 300, Loss: 0.120763421, Val F1: 0.000000000, Test F1: 0.000000000, Val Acc 0.990557134, Test Acc 0.990524460\n",
      "Epoch 350, Loss: 0.108609423, Val F1: 0.000000000, Test F1: 0.000000000, Val Acc 0.990557134, Test Acc 0.990524460\n",
      "Epoch 400, Loss: 0.100406997, Val F1: 0.000000000, Test F1: 0.000000000, Val Acc 0.990557134, Test Acc 0.990524460\n",
      "Epoch 450, Loss: 0.096767642, Val F1: 0.000000000, Test F1: 0.000000000, Val Acc 0.990557134, Test Acc 0.990524460\n",
      "Epoch 500, Loss: 0.092099689, Val F1: 0.000000000, Test F1: 0.000000000, Val Acc 0.990557134, Test Acc 0.990524460\n",
      "Epoch 550, Loss: 0.088919885, Val F1: 0.000000000, Test F1: 0.000000000, Val Acc 0.990557134, Test Acc 0.990524460\n",
      "Epoch 600, Loss: 0.088621214, Val F1: 0.000000000, Test F1: 0.000000000, Val Acc 0.990557134, Test Acc 0.990524460\n",
      "Epoch 650, Loss: 0.089351676, Val F1: 0.000000000, Test F1: 0.000000000, Val Acc 0.990557134, Test Acc 0.990524460\n",
      "Epoch 700, Loss: 0.088142060, Val F1: 0.000000000, Test F1: 0.000000000, Val Acc 0.990557134, Test Acc 0.990524460\n",
      "Epoch 750, Loss: 0.088663340, Val F1: 0.000000000, Test F1: 0.000000000, Val Acc 0.990557134, Test Acc 0.990524460\n",
      "Epoch 800, Loss: 0.088364564, Val F1: 0.000000000, Test F1: 0.000000000, Val Acc 0.990557134, Test Acc 0.990524460\n",
      "Epoch 850, Loss: 0.086866647, Val F1: 0.000000000, Test F1: 0.000000000, Val Acc 0.990557134, Test Acc 0.990524460\n",
      "Epoch 900, Loss: 0.086937010, Val F1: 0.000000000, Test F1: 0.000000000, Val Acc 0.990557134, Test Acc 0.990524460\n",
      "Epoch 950, Loss: 0.087035052, Val F1: 0.000000000, Test F1: 0.000000000, Val Acc 0.990557134, Test Acc 0.990524460\n"
     ]
    }
   ],
   "source": [
    "# Training the Model\n",
    "# 100 epochs \n",
    "# monitors the loss and test accuracy every 10 seconds\n",
    "train_losses, val_accuracies, test_accuracies, val_f1, test_f1 = [], [], [], [], []\n",
    "best_model = None\n",
    "best_val_acc = 0\n",
    "best_val_f1=0\n",
    "\n",
    "# Training and Validation Loop\n",
    "\n",
    "# train() -> trains the model for one epoch (one pass over the training data). Returns the training loss for the epoch\n",
    "for epoch in range(1000):\n",
    "    # Evaluates the model on the validation set\n",
    "    loss = train()\n",
    "    val_f1acc = validate()\n",
    "    v_f1 = val_f1acc[0]\n",
    "    v_acc = val_f1acc[1]\n",
    "    #test\n",
    "    test_f1acc = test()\n",
    "    t_f1 = test_f1acc[0]\n",
    "    t_acc = test_f1acc[1]\n",
    "    \n",
    "    # Saving metrics\n",
    "    train_losses.append(loss.item())\n",
    "    val_accuracies.append(v_acc)\n",
    "    test_accuracies.append(t_acc)\n",
    "    val_f1.append(v_f1)\n",
    "    test_f1.append(t_f1)\n",
    "    \n",
    "    # Save the best model based on validation accuracy\n",
    "    # if the current validation accuracy (val_acc) is higher than best_val_acc, the model’s parameters are saved\n",
    "    if v_acc > best_val_acc:\n",
    "        best_val_acc = v_acc\n",
    "    if v_f1 > best_val_f1:\n",
    "        best_model = model.state_dict()\n",
    "        best_val_f1=v_f1\n",
    "    \n",
    "    # Log Epoch Progress\n",
    "    if epoch % 50 == 0:\n",
    "        print(f\"Epoch {epoch}, Loss: {loss.item():.9f}, Val F1: {v_f1:.9f}, Test F1: {t_f1:.9f}, Val Acc {v_acc:.9f}, Test Acc {t_acc:.9f}\")\n",
    "\n"
   ]
  },
  {
   "cell_type": "code",
   "execution_count": 670,
   "metadata": {},
   "outputs": [
    {
     "data": {
      "image/png": "[encoded data removed]",
      "text/plain": [
       "<Figure size 640x480 with 1 Axes>"
      ]
     },
     "metadata": {},
     "output_type": "display_data"
    },
    {
     "name": "stdout",
     "output_type": "stream",
     "text": [
      "Final Training Loss: 0.0858534724\n",
      "Best Validation Accuracy: 0.9905571342\n",
      "Final Test Accuracy: 0.9905244601\n",
      "Best Validation F1: 0.0000000000\n",
      "Final Test F1: 0.0\n"
     ]
    }
   ],
   "source": [
    "# plots training loss and accuracies\n",
    "\n",
    "plt.plot(train_losses, label='Train Loss')\n",
    "plt.plot(val_accuracies, label='Validation Accuracy')\n",
    "plt.plot(test_accuracies, label='Test Accuracy')\n",
    "plt.plot(test_f1, label='Test F1')\n",
    "plt.plot(val_f1, label='Validation F1')\n",
    "plt.axhline(y=test_accuracies[-1], color='r', linestyle='--', label='Final Test Accuracy')\n",
    "plt.xlabel('Epoch')\n",
    "plt.ylabel('Loss/Accuracy')\n",
    "plt.legend()\n",
    "plt.title('Loss, accuracy and F-1 for Week 1 GNN')\n",
    "plt.show()\n",
    "\n",
    "# Final Summary\n",
    "print(f\"Final Training Loss: {train_losses[-1]:.10f}\")\n",
    "print(f\"Best Validation Accuracy: {best_val_acc:.10f}\")\n",
    "print(f\"Final Test Accuracy: {test_accuracies[-1]:.10}\")\n",
    "print(f\"Best Validation F1: {best_val_f1:.10f}\")\n",
    "print(f\"Final Test F1: {test_f1[-1]:.10}\")"
   ]
  }
 ],
 "metadata": {
  "kernelspec": {
   "display_name": "si649f23",
   "language": "python",
   "name": "python3"
  },
  "language_info": {
   "codemirror_mode": {
    "name": "ipython",
    "version": 3
   },
   "file_extension": ".py",
   "mimetype": "text/x-python",
   "name": "python",
   "nbconvert_exporter": "python",
   "pygments_lexer": "ipython3",
   "version": "3.11.4"
  }
 },
 "nbformat": 4,
 "nbformat_minor": 2
}
