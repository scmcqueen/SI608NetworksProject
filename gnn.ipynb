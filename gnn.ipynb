{
 "cells": [
  {
   "cell_type": "code",
   "execution_count": 240,
   "metadata": {},
   "outputs": [],
   "source": [
    "import numpy as np\n",
    "import matplotlib.pyplot as plt\n",
    "import networkx as nx\n",
    "import torch\n",
    "from torch_geometric.utils import from_networkx\n",
    "from torch_geometric.data import Data\n",
    "import torch.nn.functional as F\n",
    "from torch_geometric.nn import GCNConv\n",
    "import pandas as pd\n",
    "import ast\n",
    "from sklearn.model_selection import train_test_split"
   ]
  },
  {
   "cell_type": "markdown",
   "metadata": {},
   "source": [
    "# Attempting to create a GNN for the data"
   ]
  },
  {
   "cell_type": "markdown",
   "metadata": {},
   "source": [
    "## Step 1: Load data"
   ]
  },
  {
   "cell_type": "code",
   "execution_count": 72,
   "metadata": {},
   "outputs": [],
   "source": [
    "# load csvs\n",
    "w1 = pd.read_csv('week1.csv')\n",
    "w2 = pd.read_csv('week2.csv')\n",
    "w3 = pd.read_csv('week3.csv')"
   ]
  },
  {
   "cell_type": "code",
   "execution_count": 73,
   "metadata": {},
   "outputs": [
    {
     "data": {
      "text/html": [
       "<div>\n",
       "<style scoped>\n",
       "    .dataframe tbody tr th:only-of-type {\n",
       "        vertical-align: middle;\n",
       "    }\n",
       "\n",
       "    .dataframe tbody tr th {\n",
       "        vertical-align: top;\n",
       "    }\n",
       "\n",
       "    .dataframe thead th {\n",
       "        text-align: right;\n",
       "    }\n",
       "</style>\n",
       "<table border=\"1\" class=\"dataframe\">\n",
       "  <thead>\n",
       "    <tr style=\"text-align: right;\">\n",
       "      <th></th>\n",
       "      <th>Unnamed: 0</th>\n",
       "      <th>source</th>\n",
       "      <th>genres</th>\n",
       "      <th>img_info</th>\n",
       "      <th>popularity</th>\n",
       "      <th>followers</th>\n",
       "      <th>collaborators</th>\n",
       "      <th>in_playlist</th>\n",
       "      <th>link</th>\n",
       "      <th>name</th>\n",
       "      <th>api_link</th>\n",
       "      <th>pagerank</th>\n",
       "      <th>closeness_cent</th>\n",
       "      <th>clustering</th>\n",
       "      <th>deg_cent</th>\n",
       "      <th>degree</th>\n",
       "    </tr>\n",
       "  </thead>\n",
       "  <tbody>\n",
       "    <tr>\n",
       "      <th>0</th>\n",
       "      <td>Hanumankind</td>\n",
       "      <td>playlist</td>\n",
       "      <td>['desi hip hop', 'indian underground rap', 'ma...</td>\n",
       "      <td>[{'url': 'https://i.scdn.co/image/ab6761610000...</td>\n",
       "      <td>76</td>\n",
       "      <td>503600</td>\n",
       "      <td>{'Hanumankind': {'count': 14, 'uri': 'spotify:...</td>\n",
       "      <td>True</td>\n",
       "      <td>https://api.spotify.com/v1/artists/4nVa6XlBFlI...</td>\n",
       "      <td>Hanumankind</td>\n",
       "      <td>NaN</td>\n",
       "      <td>0.000159</td>\n",
       "      <td>0.258736</td>\n",
       "      <td>0.081871</td>\n",
       "      <td>0.000525</td>\n",
       "      <td>19</td>\n",
       "    </tr>\n",
       "    <tr>\n",
       "      <th>1</th>\n",
       "      <td>Kalmi</td>\n",
       "      <td>playlist</td>\n",
       "      <td>[]</td>\n",
       "      <td>[{'url': 'https://i.scdn.co/image/ab6761610000...</td>\n",
       "      <td>75</td>\n",
       "      <td>32646</td>\n",
       "      <td>{'Hanumankind': {'count': 3, 'uri': 'spotify:a...</td>\n",
       "      <td>True</td>\n",
       "      <td>https://api.spotify.com/v1/artists/6tYCSHLtTI5...</td>\n",
       "      <td>Kalmi</td>\n",
       "      <td>NaN</td>\n",
       "      <td>0.000145</td>\n",
       "      <td>0.258189</td>\n",
       "      <td>0.080882</td>\n",
       "      <td>0.000470</td>\n",
       "      <td>17</td>\n",
       "    </tr>\n",
       "    <tr>\n",
       "      <th>2</th>\n",
       "      <td>Parimal Shais</td>\n",
       "      <td>playlist</td>\n",
       "      <td>['malayalam hip hop']</td>\n",
       "      <td>[{'url': 'https://i.scdn.co/image/ab6761610000...</td>\n",
       "      <td>51</td>\n",
       "      <td>38998</td>\n",
       "      <td>{'Parimal Shais': {'count': 17, 'uri': 'spotif...</td>\n",
       "      <td>False</td>\n",
       "      <td>NaN</td>\n",
       "      <td>Parimal Shais</td>\n",
       "      <td>NaN</td>\n",
       "      <td>0.000130</td>\n",
       "      <td>0.257790</td>\n",
       "      <td>0.114286</td>\n",
       "      <td>0.000415</td>\n",
       "      <td>15</td>\n",
       "    </tr>\n",
       "    <tr>\n",
       "      <th>3</th>\n",
       "      <td>Shalmali Kholgade</td>\n",
       "      <td>playlist</td>\n",
       "      <td>['filmi', 'modern bollywood']</td>\n",
       "      <td>[{'url': 'https://i.scdn.co/image/ab6761610000...</td>\n",
       "      <td>63</td>\n",
       "      <td>155041</td>\n",
       "      <td>{'Shalmali Kholgade': {'count': 20, 'uri': 'sp...</td>\n",
       "      <td>False</td>\n",
       "      <td>NaN</td>\n",
       "      <td>Shalmali Kholgade</td>\n",
       "      <td>NaN</td>\n",
       "      <td>0.000199</td>\n",
       "      <td>0.207056</td>\n",
       "      <td>0.008658</td>\n",
       "      <td>0.000608</td>\n",
       "      <td>22</td>\n",
       "    </tr>\n",
       "    <tr>\n",
       "      <th>4</th>\n",
       "      <td>Vishal Dadlani</td>\n",
       "      <td>playlist</td>\n",
       "      <td>['filmi', 'modern bollywood']</td>\n",
       "      <td>[{'url': 'https://i.scdn.co/image/ab6761610000...</td>\n",
       "      <td>75</td>\n",
       "      <td>11840425</td>\n",
       "      <td>{'Vishal Dadlani': {'count': 20, 'uri': 'spoti...</td>\n",
       "      <td>False</td>\n",
       "      <td>NaN</td>\n",
       "      <td>Vishal Dadlani</td>\n",
       "      <td>NaN</td>\n",
       "      <td>0.000265</td>\n",
       "      <td>0.206633</td>\n",
       "      <td>0.000000</td>\n",
       "      <td>0.000802</td>\n",
       "      <td>29</td>\n",
       "    </tr>\n",
       "  </tbody>\n",
       "</table>\n",
       "</div>"
      ],
      "text/plain": [
       "          Unnamed: 0    source  \\\n",
       "0        Hanumankind  playlist   \n",
       "1              Kalmi  playlist   \n",
       "2      Parimal Shais  playlist   \n",
       "3  Shalmali Kholgade  playlist   \n",
       "4     Vishal Dadlani  playlist   \n",
       "\n",
       "                                              genres  \\\n",
       "0  ['desi hip hop', 'indian underground rap', 'ma...   \n",
       "1                                                 []   \n",
       "2                              ['malayalam hip hop']   \n",
       "3                      ['filmi', 'modern bollywood']   \n",
       "4                      ['filmi', 'modern bollywood']   \n",
       "\n",
       "                                            img_info  popularity  followers  \\\n",
       "0  [{'url': 'https://i.scdn.co/image/ab6761610000...          76     503600   \n",
       "1  [{'url': 'https://i.scdn.co/image/ab6761610000...          75      32646   \n",
       "2  [{'url': 'https://i.scdn.co/image/ab6761610000...          51      38998   \n",
       "3  [{'url': 'https://i.scdn.co/image/ab6761610000...          63     155041   \n",
       "4  [{'url': 'https://i.scdn.co/image/ab6761610000...          75   11840425   \n",
       "\n",
       "                                       collaborators  in_playlist  \\\n",
       "0  {'Hanumankind': {'count': 14, 'uri': 'spotify:...         True   \n",
       "1  {'Hanumankind': {'count': 3, 'uri': 'spotify:a...         True   \n",
       "2  {'Parimal Shais': {'count': 17, 'uri': 'spotif...        False   \n",
       "3  {'Shalmali Kholgade': {'count': 20, 'uri': 'sp...        False   \n",
       "4  {'Vishal Dadlani': {'count': 20, 'uri': 'spoti...        False   \n",
       "\n",
       "                                                link               name  \\\n",
       "0  https://api.spotify.com/v1/artists/4nVa6XlBFlI...        Hanumankind   \n",
       "1  https://api.spotify.com/v1/artists/6tYCSHLtTI5...              Kalmi   \n",
       "2                                                NaN      Parimal Shais   \n",
       "3                                                NaN  Shalmali Kholgade   \n",
       "4                                                NaN     Vishal Dadlani   \n",
       "\n",
       "  api_link  pagerank  closeness_cent  clustering  deg_cent  degree  \n",
       "0      NaN  0.000159        0.258736    0.081871  0.000525      19  \n",
       "1      NaN  0.000145        0.258189    0.080882  0.000470      17  \n",
       "2      NaN  0.000130        0.257790    0.114286  0.000415      15  \n",
       "3      NaN  0.000199        0.207056    0.008658  0.000608      22  \n",
       "4      NaN  0.000265        0.206633    0.000000  0.000802      29  "
      ]
     },
     "execution_count": 73,
     "metadata": {},
     "output_type": "execute_result"
    }
   ],
   "source": [
    "w1.head()"
   ]
  },
  {
   "cell_type": "code",
   "execution_count": 74,
   "metadata": {},
   "outputs": [],
   "source": [
    "def get_weight(row:pd.Series):\n",
    "    node_2 =row['edges']\n",
    "    lookup = row['collaborators']\n",
    "    if lookup=={}:\n",
    "        return None\n",
    "    return int(lookup[node_2]['count'])\n",
    "\n"
   ]
  },
  {
   "cell_type": "code",
   "execution_count": 75,
   "metadata": {},
   "outputs": [],
   "source": [
    "def load_graph_fromcsv(df:pd.DataFrame):\n",
    "    df.collaborators.fillna('{}',inplace=True)\n",
    "    df['collaborators']=df.collaborators.apply(lambda x: ast.literal_eval(x))\n",
    "    df['edges']=df.collaborators.apply(lambda x: list(x.keys()))\n",
    "    df=df.explode('edges')\n",
    "    df['weight']=df.apply(lambda x: get_weight(x),axis=1)\n",
    "    return nx.from_pandas_edgelist(df=df,source='name',target='edges',edge_attr='weight')"
   ]
  },
  {
   "cell_type": "code",
   "execution_count": 76,
   "metadata": {},
   "outputs": [],
   "source": [
    "w1_g = load_graph_fromcsv(w1)\n",
    "w2_g = load_graph_fromcsv(w2)\n",
    "w3_g = load_graph_fromcsv(w3)"
   ]
  },
  {
   "cell_type": "code",
   "execution_count": 140,
   "metadata": {},
   "outputs": [
    {
     "name": "stderr",
     "output_type": "stream",
     "text": [
      "/var/folders/r0/2fgtj8y934zddv46dgfbq1xw0000gn/T/ipykernel_727/2549947873.py:7: SettingWithCopyWarning: \n",
      "A value is trying to be set on a copy of a slice from a DataFrame.\n",
      "Try using .loc[row_indexer,col_indexer] = value instead\n",
      "\n",
      "See the caveats in the documentation: https://pandas.pydata.org/pandas-docs/stable/user_guide/indexing.html#returning-a-view-versus-a-copy\n",
      "  w1_l['in_playlist']=w1_l['in_playlist'].apply(lambda x: int(x))\n",
      "/var/folders/r0/2fgtj8y934zddv46dgfbq1xw0000gn/T/ipykernel_727/2549947873.py:9: SettingWithCopyWarning: \n",
      "A value is trying to be set on a copy of a slice from a DataFrame.\n",
      "Try using .loc[row_indexer,col_indexer] = value instead\n",
      "\n",
      "See the caveats in the documentation: https://pandas.pydata.org/pandas-docs/stable/user_guide/indexing.html#returning-a-view-versus-a-copy\n",
      "  w2_l['in_playlist']=w2_l['in_playlist'].apply(lambda x: int(x))\n",
      "/var/folders/r0/2fgtj8y934zddv46dgfbq1xw0000gn/T/ipykernel_727/2549947873.py:11: SettingWithCopyWarning: \n",
      "A value is trying to be set on a copy of a slice from a DataFrame.\n",
      "Try using .loc[row_indexer,col_indexer] = value instead\n",
      "\n",
      "See the caveats in the documentation: https://pandas.pydata.org/pandas-docs/stable/user_guide/indexing.html#returning-a-view-versus-a-copy\n",
      "  w3_l['in_playlist']=w3_l['in_playlist'].apply(lambda x: int(x))\n"
     ]
    }
   ],
   "source": [
    "# get features\n",
    "w1_f = w1[['name','genres','popularity','followers']]\n",
    "w2_f = w2[['name','genres','popularity','followers']]\n",
    "w3_f = w3[['name','genres','popularity','followers']]\n",
    "# get labels\n",
    "w1_l = w1[['name','in_playlist']]\n",
    "w1_l['in_playlist']=w1_l['in_playlist'].apply(lambda x: int(x))\n",
    "w2_l = w2[['name','in_playlist']]\n",
    "w2_l['in_playlist']=w2_l['in_playlist'].apply(lambda x: int(x))\n",
    "w3_l = w3[['name','in_playlist']]\n",
    "w3_l['in_playlist']=w3_l['in_playlist'].apply(lambda x: int(x))"
   ]
  },
  {
   "cell_type": "code",
   "execution_count": 143,
   "metadata": {},
   "outputs": [],
   "source": [
    "# DROP GENRES FOR NOW, MAYBE ADD LATER\n",
    "for node in w1_g.nodes:\n",
    "    w1_g.nodes[node]['features']=w1_f[w1_f.name==node][['popularity','followers']].values\n",
    "    w1_g.nodes[node]['label']=w1_l[w1_l.name==node]['in_playlist'].values\n",
    "\n",
    "for node in w2_g.nodes:\n",
    "    w2_g.nodes[node]['features']=w2_f[w2_f.name==node][['popularity','followers']].values\n",
    "    w2_g.nodes[node]['label']=w2_l[w2_l.name==node]['in_playlist'].values\n",
    "\n",
    "for node in w3_g.nodes:\n",
    "    w3_g.nodes[node]['features']=w3_f[w3_f.name==node][['popularity','followers']].values\n",
    "    w3_g.nodes[node]['label']=w3_l[w3_l.name==node]['in_playlist'].values"
   ]
  },
  {
   "cell_type": "code",
   "execution_count": 237,
   "metadata": {},
   "outputs": [
    {
     "name": "stderr",
     "output_type": "stream",
     "text": [
      "/var/folders/r0/2fgtj8y934zddv46dgfbq1xw0000gn/T/ipykernel_727/2558367348.py:19: RuntimeWarning: invalid value encountered in divide\n",
      "  feature_matrix = feature_matrix/feature_matrix.sum(axis=1,keepdims=True)\n"
     ]
    }
   ],
   "source": [
    "node_id_to_index = {node_id: idx for idx, node_id in enumerate(w1_g.nodes)}\n",
    "# assigns a unique integer index (idx) to each node ID (node_id) in the graph G\n",
    "# PyTorch Geometric works with numerically indexed nodes,\n",
    "# so all node IDs from the NetworkX graph must be converted to numeric indices\n",
    "\n",
    "# Create feature matrix and edge index\n",
    "node_list = list(w1_g.nodes)\n",
    "feature_temp = [w1_g.nodes[node][\"features\"].flatten().tolist() for node in node_list]\n",
    "feature_matrix = []\n",
    "for x in feature_temp:\n",
    "    if len(x)==0: # if there is no label, it isn't in playlist (a 3rd layer person)\n",
    "        feature_matrix.append([None,None])\n",
    "    else:\n",
    "        feature_matrix.append(x)\n",
    "feature_matrix = np.array(feature_matrix,dtype=np.float64)\n",
    "feature_matrix = np.expand_dims(feature_matrix,axis=1) # make sure its the right shape\n",
    "\n",
    "# Normalize node features - so that sum equals 1 and all features are on the same scale\n",
    "feature_matrix = feature_matrix/feature_matrix.sum(axis=1,keepdims=True)\n",
    "\n"
   ]
  },
  {
   "cell_type": "code",
   "execution_count": 238,
   "metadata": {},
   "outputs": [],
   "source": [
    "#creates node labels\n",
    "temp = [w1_g.nodes[node]['label'].tolist() for node in node_list] # get the labels\n",
    "labels = []\n",
    "for x in temp:\n",
    "    if w1_g.nodes[node]['label'].tolist()==[]: # if there is no label, it isn't in playlist (a 3rd layer person)\n",
    "        labels.append(0)\n",
    "    else:\n",
    "        labels.append(w1_g.nodes[node]['label'].tolist()[0])\n",
    "labels = torch.tensor(labels,dtype=torch.long)"
   ]
  },
  {
   "cell_type": "code",
   "execution_count": 239,
   "metadata": {},
   "outputs": [],
   "source": [
    "# Create edge index\n",
    "edge_index = torch.tensor(\n",
    "    [[node_id_to_index[src], node_id_to_index[dst]] for src, dst in w1_g.edges],\n",
    "    dtype=torch.long,\n",
    ").t().contiguous()\n",
    "\n",
    "# Create PyTorch Geometric Data object\n",
    "data = Data(\n",
    "    x=torch.tensor(feature_matrix, dtype=torch.float),\n",
    "    edge_index=edge_index,\n",
    "    y=labels,\n",
    ")"
   ]
  },
  {
   "cell_type": "code",
   "execution_count": 243,
   "metadata": {},
   "outputs": [],
   "source": [
    "# Train/Test Split\n",
    "node_indices = np.arange(data.num_nodes)\n",
    "train_indices, test_indices = train_test_split(\n",
    "    node_indices, test_size=0.3, random_state=42\n",
    ")\n",
    "# Further split training nodes into train/validation sets\n",
    "train_indices, val_indices = train_test_split(train_indices, test_size=0.2, random_state=42)\n",
    "\n",
    "# Convert Splits to PyTorch Tensors\n",
    "train_nodes = torch.tensor(train_indices, dtype=torch.long)\n",
    "val_nodes = torch.tensor(val_indices, dtype=torch.long)\n",
    "test_nodes = torch.tensor(test_indices, dtype=torch.long)"
   ]
  },
  {
   "cell_type": "code",
   "execution_count": 244,
   "metadata": {},
   "outputs": [],
   "source": [
    "label_mapping = {1:'yes',0:'no'}"
   ]
  },
  {
   "cell_type": "code",
   "execution_count": 245,
   "metadata": {},
   "outputs": [],
   "source": [
    "# Define the GNN Model\n",
    "# 2-layer Graph Convolutional Network (GCN) is defined using GCNConv layers\n",
    "class GCN(torch.nn.Module):\n",
    "    def __init__(self, input_dim, hidden_dim, output_dim, dropout=0.5):\n",
    "        super(GCN, self).__init__()\n",
    "        self.conv1 = GCNConv(input_dim,hidden_dim) # layer 1 - takes the input node features (input_dim) and aggregates information from neighboring nodes\n",
    "        self.conv2 = GCNConv(hidden_dim,output_dim) # layer 2 - Maps the hidden representation from the first layer to the output dimensions (number of classes)\n",
    "        self.dropout = dropout # prevents overfitting by randomly dropping nodes in fws pass\n",
    "\n",
    "    def forward(self, data):\n",
    "        x, edge_index = data.x, data.edge_index\n",
    "        x = self.conv1(x, edge_index)\n",
    "        x = F.relu(x) # for non-linearity\n",
    "        x = F.dropout(x, p=self.dropout, training=self.training)\n",
    "        x = self.conv2(x, edge_index)\n",
    "        return F.log_softmax(x, dim=1) # gives log probabilities for each class -> used for classification \n",
    "\n",
    "\n",
    "model = GCN(\n",
    "    input_dim=data.x.size(1),  # Number of features\n",
    "    hidden_dim=16,\n",
    "    output_dim=len(label_mapping),  # Number of classes\n",
    "    dropout=0.5,  # Dropout rate\n",
    ")"
   ]
  },
  {
   "cell_type": "code",
   "execution_count": 247,
   "metadata": {},
   "outputs": [],
   "source": [
    "# defines the Validation Function\n",
    "def validate():\n",
    "    model.eval()\n",
    "    with torch.no_grad():\n",
    "        out = model(data)\n",
    "        pred = out.argmax(dim=1)\n",
    "        correct_pred = (pred[val_nodes]==data.y[val_nodes]).sum() #.items\n",
    "        return correct_pred/len(val_nodes)\n",
    "\n",
    "# Training and Testing Loops\n",
    "# Optimizes the model’s parameters during training\n",
    "optimizer = torch.optim.Adam(model.parameters(), lr=0.01, weight_decay=5e-4)"
   ]
  },
  {
   "cell_type": "code",
   "execution_count": 248,
   "metadata": {},
   "outputs": [
    {
     "data": {
      "text/plain": [
       "GCN(\n",
       "  (conv1): GCNConv(1, 16)\n",
       "  (conv2): GCNConv(16, 2)\n",
       ")"
      ]
     },
     "execution_count": 248,
     "metadata": {},
     "output_type": "execute_result"
    }
   ],
   "source": [
    "# ensures the model’s weights are properly initialized to avoid issues like exploding/vanishing gradients\n",
    "def initialize_weights(m):\n",
    "    # Initialize the weight of the linear layer inside GCNConv\n",
    "    if isinstance(m,GCNConv):\n",
    "        torch.nn.init.xavier_uniform_(m.lin.weight) # inits weight\n",
    "\n",
    "model.apply(initialize_weights)"
   ]
  }
 ],
 "metadata": {
  "kernelspec": {
   "display_name": "si649f23",
   "language": "python",
   "name": "python3"
  },
  "language_info": {
   "codemirror_mode": {
    "name": "ipython",
    "version": 3
   },
   "file_extension": ".py",
   "mimetype": "text/x-python",
   "name": "python",
   "nbconvert_exporter": "python",
   "pygments_lexer": "ipython3",
   "version": "3.11.4"
  }
 },
 "nbformat": 4,
 "nbformat_minor": 2
}
