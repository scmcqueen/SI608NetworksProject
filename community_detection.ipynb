{
 "cells": [
  {
   "cell_type": "code",
   "execution_count": 5,
   "id": "a5d83d64-8dca-4fc7-b16b-cf48749560bf",
   "metadata": {
    "execution": {
     "iopub.execute_input": "2024-12-02T13:34:07.022866Z",
     "iopub.status.busy": "2024-12-02T13:34:07.022273Z",
     "iopub.status.idle": "2024-12-02T13:34:07.027217Z",
     "shell.execute_reply": "2024-12-02T13:34:07.026379Z",
     "shell.execute_reply.started": "2024-12-02T13:34:07.022834Z"
    },
    "scrolled": true,
    "tags": []
   },
   "outputs": [],
   "source": [
    "import networkx as nx\r\n",
    "import pandas as pd\r\n",
    "import numpy as np\r\n",
    "from collections import defaultdict\r\n",
    "import ast\r\n"
   ]
  },
  {
   "cell_type": "code",
   "execution_count": 6,
   "id": "1ad1432f-42f1-4e65-991b-8682264690d5",
   "metadata": {
    "execution": {
     "iopub.execute_input": "2024-12-02T13:34:14.216243Z",
     "iopub.status.busy": "2024-12-02T13:34:14.215661Z",
     "iopub.status.idle": "2024-12-02T13:34:14.222656Z",
     "shell.execute_reply": "2024-12-02T13:34:14.221885Z",
     "shell.execute_reply.started": "2024-12-02T13:34:14.216214Z"
    },
    "scrolled": true
   },
   "outputs": [],
   "source": [
    "def clique_percolation(G, k):\r\n",
    "    \"\"\"\r\n",
    "    实现团渗透方法\r\n",
    "    k: 团的大小\r\n",
    "    \"\"\"\r\n",
    "    # 1. 找到所有k-cliques\r\n",
    "    cliques = list(nx.find_cliques(G))\r\n",
    "    k_cliques = [c for c in cliques if len(c) >= k]\r\n",
    "    \r\n",
    "    # 2. 构建clique重叠图\r\n",
    "    clique_graph = nx.Graph()\r\n",
    "    for i, c1 in enumerate(k_cliques):\r\n",
    "        for j, c2 in enumerate(k_cliques[i+1:], i+1):\r\n",
    "            if len(set(c1) & set(c2)) >= (k-1):  # 如果两个团共享k-1个节点\r\n",
    "                clique_graph.add_edge(i, j)\r\n",
    "    \r\n",
    "    # 3. 找到连通分量（这些就是我们的社区）\r\n",
    "    communities = []\r\n",
    "    for component in nx.connected_components(clique_graph):\r\n",
    "        community = set()\r\n",
    "        for clique_id in component:\r\n",
    "            community.update(k_cliques[clique_id])\r\n",
    "        communities.append(community)\r\n",
    "    \r\n",
    "    return communities"
   ]
  },
  {
   "cell_type": "code",
   "execution_count": 7,
   "id": "d67dd36f-f82f-47d8-961f-723f0fc99b6b",
   "metadata": {
    "execution": {
     "iopub.execute_input": "2024-12-02T13:34:21.816007Z",
     "iopub.status.busy": "2024-12-02T13:34:21.815412Z",
     "iopub.status.idle": "2024-12-02T13:34:21.822501Z",
     "shell.execute_reply": "2024-12-02T13:34:21.821357Z",
     "shell.execute_reply.started": "2024-12-02T13:34:21.815975Z"
    },
    "scrolled": true
   },
   "outputs": [],
   "source": [
    "def calculate_pairwise_accuracy(communities, G):\r\n",
    "    total_pairs = 0\r\n",
    "    correct_pairs = 0\r\n",
    "    \r\n",
    "    for community in communities:\r\n",
    "        nodes = list(community)\r\n",
    "        for i in range(len(nodes)):\r\n",
    "            for j in range(i+1, len(nodes)):\r\n",
    "                total_pairs += 1\r\n",
    "                if G.nodes[nodes[i]]['in_playlist'] == G.nodes[nodes[j]]['in_playlist']:\r\n",
    "                    correct_pairs += 1\r\n",
    "    \r\n",
    "    return correct_pairs / total_pairs if total_pairs > 0 else 0"
   ]
  },
  {
   "cell_type": "code",
   "execution_count": 8,
   "id": "b24f5b39-7e11-4cbf-ae92-48721ea9b985",
   "metadata": {
    "execution": {
     "iopub.execute_input": "2024-12-02T13:34:26.318523Z",
     "iopub.status.busy": "2024-12-02T13:34:26.318004Z",
     "iopub.status.idle": "2024-12-02T13:34:26.332261Z",
     "shell.execute_reply": "2024-12-02T13:34:26.331378Z",
     "shell.execute_reply.started": "2024-12-02T13:34:26.318492Z"
    },
    "scrolled": true
   },
   "outputs": [],
   "source": [
    "def main():\r\n",
    "    weeks = ['week1.csv', 'week2.csv', 'week3.csv']\r\n",
    "    results = []\r\n",
    "    \r\n",
    "    for week_file in weeks:\r\n",
    "        print(f\"\\n分析 {week_file}\")\r\n",
    "        \r\n",
    "        # 加载数据\r\n",
    "        df = pd.read_csv(week_file, index_col=0, low_memory=False)\r\n",
    "        \r\n",
    "        # 构建图\r\n",
    "        G = nx.Graph()\r\n",
    "        for idx, row in df.iterrows():\r\n",
    "            G.add_node(idx, in_playlist=row['in_playlist'])\r\n",
    "            if isinstance(row['collaborators'], str):\r\n",
    "                collaborators = ast.literal_eval(row['collaborators'])\r\n",
    "                for collaborator in collaborators.keys():\r\n",
    "                    if collaborator in df.index:\r\n",
    "                        G.add_edge(idx, collaborator)\r\n",
    "        \r\n",
    "        print(f\"网络有 {G.number_of_nodes()} 个节点和 {G.number_of_edges()} 条边\")\r\n",
    "        \r\n",
    "        # 对不同的k值进行团渗透\r\n",
    "        for k in [3, 4]:  # k=3和k=4是常用的选择\r\n",
    "            print(f\"\\n使用k={k}的团渗透方法\")\r\n",
    "            \r\n",
    "            # 执行团渗透\r\n",
    "            communities = clique_percolation(G, k)\r\n",
    "            \r\n",
    "            if communities:\r\n",
    "                # 计算准确性\r\n",
    "                accuracy = calculate_pairwise_accuracy(communities, G)\r\n",
    "                \r\n",
    "                # 记录结果\r\n",
    "                results.append({\r\n",
    "                    'week': week_file,\r\n",
    "                    'k': k,\r\n",
    "                    'n_communities': len(communities),\r\n",
    "                    'accuracy': accuracy,\r\n",
    "                    'avg_community_size': np.mean([len(c) for c in communities])\r\n",
    "                })\r\n",
    "                \r\n",
    "                print(f\"发现 {len(communities)} 个社区\")\r\n",
    "                print(f\"平均社区大小: {results[-1]['avg_community_size']:.2f}\")\r\n",
    "                print(f\"成对准确性: {accuracy:.3f}\")\r\n",
    "    \r\n",
    "    # 保存结果\r\n",
    "    results_df = pd.DataFrame(results)\r\n",
    "    print(\"\\n最终结果:\")\r\n",
    "    print(results_df)\r\n",
    "    results_df.to_csv('community_percolation_results.csv')"
   ]
  },
  {
   "cell_type": "code",
   "execution_count": null,
   "id": "ea55c12b-9fb9-4afe-a408-ec51325faefb",
   "metadata": {
    "execution": {
     "iopub.execute_input": "2024-12-02T13:34:31.315548Z",
     "iopub.status.busy": "2024-12-02T13:34:31.314924Z"
    },
    "scrolled": true
   },
   "outputs": [
    {
     "name": "stdout",
     "output_type": "stream",
     "text": [
      "\r\n",
      "分析 week1.csv\r\n",
      "网络有 15126 个节点和 38651 条边\r\n",
      "\r\n",
      "使用k=3的团渗透方法\r\n",
      "发现 313 个社区\r\n",
      "平均社区大小: 15.65\r\n",
      "成对准确性: 0.928\r\n",
      "\r\n",
      "使用k=4的团渗透方法\r\n",
      "发现 131 个社区\r\n",
      "平均社区大小: 10.34\r\n",
      "成对准确性: 0.975\r\n",
      "\r\n",
      "分析 week2.csv\r\n",
      "网络有 15054 个节点和 38695 条边\r\n",
      "\r\n",
      "使用k=3的团渗透方法\r\n",
      "发现 310 个社区\r\n",
      "平均社区大小: 15.78\r\n",
      "成对准确性: 0.929\r\n",
      "\r\n",
      "使用k=4的团渗透方法\r\n",
      "发现 129 个社区\r\n",
      "平均社区大小: 10.53\r\n",
      "成对准确性: 0.976\r\n",
      "\r\n",
      "分析 week3.csv\r\n"
     ]
    }
   ],
   "source": [
    "if __name__ == \"__main__\":\r\n",
    "    main()"
   ]
  },
  {
   "cell_type": "code",
   "execution_count": null,
   "id": "7fbe9042-9da4-4f7b-ac95-a6769c291f73",
   "metadata": {
    "scrolled": true
   },
   "outputs": [],
   "source": []
  }
 ],
 "metadata": {
  "kernelspec": {
   "display_name": "Python 3",
   "language": "python",
   "name": "py35-paddle1.2.0"
  },
  "language_info": {
   "codemirror_mode": {
    "name": "ipython",
    "version": 3
   },
   "file_extension": ".py",
   "mimetype": "text/x-python",
   "name": "python",
   "nbconvert_exporter": "python",
   "pygments_lexer": "ipython3",
   "version": "3.10.10"
  }
 },
 "nbformat": 4,
 "nbformat_minor": 5
}
