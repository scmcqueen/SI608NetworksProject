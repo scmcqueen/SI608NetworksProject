{
 "cells": [
  {
   "cell_type": "code",
   "execution_count": 1,
   "id": "a5d83d64-8dca-4fc7-b16b-cf48749560bf",
   "metadata": {
    "execution": {
     "iopub.execute_input": "2024-12-02T13:34:07.022866Z",
     "iopub.status.busy": "2024-12-02T13:34:07.022273Z",
     "iopub.status.idle": "2024-12-02T13:34:07.027217Z",
     "shell.execute_reply": "2024-12-02T13:34:07.026379Z",
     "shell.execute_reply.started": "2024-12-02T13:34:07.022834Z"
    },
    "scrolled": true,
    "tags": []
   },
   "outputs": [],
   "source": [
    "import networkx as nx\n",
    "import pandas as pd\n",
    "import numpy as np\n",
    "from collections import defaultdict\n",
    "import ast\n"
   ]
  },
  {
   "cell_type": "code",
   "execution_count": null,
   "id": "1ad1432f-42f1-4e65-991b-8682264690d5",
   "metadata": {
    "execution": {
     "iopub.execute_input": "2024-12-02T13:34:14.216243Z",
     "iopub.status.busy": "2024-12-02T13:34:14.215661Z",
     "iopub.status.idle": "2024-12-02T13:34:14.222656Z",
     "shell.execute_reply": "2024-12-02T13:34:14.221885Z",
     "shell.execute_reply.started": "2024-12-02T13:34:14.216214Z"
    },
    "scrolled": true
   },
   "outputs": [],
   "source": [
    "def clique_percolation(G, k):\n",
    "    \"\"\"\n",
    "    Implements the clique percolation method for community detection.\n",
    "    k: int, clique size\n",
    "    \"\"\"\n",
    "    # 1. Find all k-cliques\n",
    "    cliques = list(nx.find_cliques(G))\n",
    "    k_cliques = [c for c in cliques if len(c) >= k]\n",
    "\n",
    "    # 2. Construct the clique graph\n",
    "    clique_graph = nx.Graph()\n",
    "    for i, c1 in enumerate(k_cliques):\n",
    "        for j, c2 in enumerate(k_cliques[i+1:], i+1):\n",
    "            if len(set(c1) & set(c2)) >= (k-1):  # If two cliques share k-1 nodes\n",
    "                clique_graph.add_edge(i, j)\n",
    "\n",
    "    # 3. Find connected components (these represent the communities)\n",
    "    communities = []\n",
    "    for component in nx.connected_components(clique_graph):\n",
    "        community = set()\n",
    "        for clique_id in component:\n",
    "            community.update(k_cliques[clique_id])\n",
    "        communities.append(community)\n",
    "\n",
    "    return communities"
   ]
  },
  {
   "cell_type": "code",
   "execution_count": 3,
   "id": "d67dd36f-f82f-47d8-961f-723f0fc99b6b",
   "metadata": {
    "execution": {
     "iopub.execute_input": "2024-12-02T13:34:21.816007Z",
     "iopub.status.busy": "2024-12-02T13:34:21.815412Z",
     "iopub.status.idle": "2024-12-02T13:34:21.822501Z",
     "shell.execute_reply": "2024-12-02T13:34:21.821357Z",
     "shell.execute_reply.started": "2024-12-02T13:34:21.815975Z"
    },
    "scrolled": true
   },
   "outputs": [],
   "source": [
    "def calculate_pairwise_accuracy(communities, G):\n",
    "    total_pairs = 0\n",
    "    correct_pairs = 0\n",
    "    \n",
    "    for community in communities:\n",
    "        nodes = list(community)\n",
    "        for i in range(len(nodes)):\n",
    "            for j in range(i+1, len(nodes)):\n",
    "                total_pairs += 1\n",
    "                if G.nodes[nodes[i]]['in_playlist'] == G.nodes[nodes[j]]['in_playlist']:\n",
    "                    correct_pairs += 1\n",
    "    \n",
    "    return correct_pairs / total_pairs if total_pairs > 0 else 0"
   ]
  },
  {
   "cell_type": "code",
   "execution_count": 4,
   "id": "b24f5b39-7e11-4cbf-ae92-48721ea9b985",
   "metadata": {
    "execution": {
     "iopub.execute_input": "2024-12-02T13:34:26.318523Z",
     "iopub.status.busy": "2024-12-02T13:34:26.318004Z",
     "iopub.status.idle": "2024-12-02T13:34:26.332261Z",
     "shell.execute_reply": "2024-12-02T13:34:26.331378Z",
     "shell.execute_reply.started": "2024-12-02T13:34:26.318492Z"
    },
    "scrolled": true
   },
   "outputs": [],
   "source": [
    "def main():\n",
    "    weeks = weeks = [\n",
    "        '/Users/lunaliu/Desktop/Grad School/FA 2024/SI 608/week1.csv', \n",
    "        '/Users/lunaliu/Desktop/Grad School/FA 2024/SI 608/week2.csv', \n",
    "        '/Users/lunaliu/Desktop/Grad School/FA 2024/SI 608/week3.csv'\n",
    "    ]\n",
    "    results = []\n",
    "    results = []\n",
    "\n",
    "    for week_file in weeks:\n",
    "        print(f\"\\nAnalyzing {week_file}\")\n",
    "\n",
    "        # load data\n",
    "        df = pd.read_csv(week_file, index_col=0, low_memory=False)\n",
    "\n",
    "        # load graph\n",
    "        G = nx.Graph()\n",
    "        for idx, row in df.iterrows():\n",
    "            G.add_node(idx, in_playlist=row['in_playlist'])\n",
    "            if isinstance(row['collaborators'], str):\n",
    "                collaborators = ast.literal_eval(row['collaborators'])\n",
    "                for collaborator in collaborators.keys():\n",
    "                    if collaborator in df.index:\n",
    "                        G.add_edge(idx, collaborator)\n",
    "\n",
    "        print(f\"The network has {G.number_of_nodes()} nodes and {G.number_of_edges()} edges\")\n",
    "\n",
    "        # Perform clique percolation for different values of k\n",
    "        for k in [3, 4]:  # k=3 and k=4 are common choices\n",
    "            print(f\"\\nPerforming clique percolation with k={k}\")\n",
    "\n",
    "            # Execute clique percolation\n",
    "            communities = clique_percolation(G, k)\n",
    "\n",
    "            if communities:\n",
    "                # Calculate accuracy\n",
    "                accuracy = calculate_pairwise_accuracy(communities, G)\n",
    "\n",
    "                # Record results\n",
    "                results.append({\n",
    "                    'week': week_file,\n",
    "                    'k': k,\n",
    "                    'n_communities': len(communities),\n",
    "                    'accuracy': accuracy,\n",
    "                    'avg_community_size': np.mean([len(c) for c in communities])\n",
    "                })\n",
    "\n",
    "                print(f\"Discovered {len(communities)} communities\")\n",
    "                print(f\"Average community size: {results[-1]['avg_community_size']:.2f}\")\n",
    "                print(f\"pairwaise accuracy: {accuracy:.3f}\")\n",
    "\n",
    "    # Save results\n",
    "    results_df = pd.DataFrame(results)\n",
    "    print(\"\\nFinal results:\")\n",
    "    print(results_df)\n",
    "    results_df.to_csv('community_percolation_results.csv')"
   ]
  },
  {
   "cell_type": "code",
   "execution_count": 5,
   "id": "ea55c12b-9fb9-4afe-a408-ec51325faefb",
   "metadata": {
    "execution": {
     "iopub.execute_input": "2024-12-02T13:34:31.315548Z",
     "iopub.status.busy": "2024-12-02T13:34:31.314924Z"
    },
    "scrolled": true
   },
   "outputs": [
    {
     "name": "stdout",
     "output_type": "stream",
     "text": [
      "\n",
      "Analyzing /Users/lunaliu/Desktop/Grad School/FA 2024/SI 608/week1.csv\n",
      "The network has 4199 nodes and 19781 edges\n",
      "\n",
      "Performing clique percolation with k=3\n",
      "Discovered 191 communities\n",
      "Average community size: 16.69\n",
      "pairwaise accuracy: 0.896\n",
      "\n",
      "Performing clique percolation with k=4\n",
      "Discovered 115 communities\n",
      "Average community size: 10.09\n",
      "pairwaise accuracy: 0.972\n",
      "\n",
      "Analyzing /Users/lunaliu/Desktop/Grad School/FA 2024/SI 608/week2.csv\n",
      "The network has 4172 nodes and 19742 edges\n",
      "\n",
      "Performing clique percolation with k=3\n",
      "Discovered 187 communities\n",
      "Average community size: 16.94\n",
      "pairwaise accuracy: 0.896\n",
      "\n",
      "Performing clique percolation with k=4\n",
      "Discovered 113 communities\n",
      "Average community size: 10.20\n",
      "pairwaise accuracy: 0.972\n",
      "\n",
      "Analyzing /Users/lunaliu/Desktop/Grad School/FA 2024/SI 608/week3.csv\n",
      "The network has 4166 nodes and 19729 edges\n",
      "\n",
      "Performing clique percolation with k=3\n",
      "Discovered 185 communities\n",
      "Average community size: 17.09\n",
      "pairwaise accuracy: 0.898\n",
      "\n",
      "Performing clique percolation with k=4\n",
      "Discovered 113 communities\n",
      "Average community size: 10.20\n",
      "pairwaise accuracy: 0.972\n",
      "\n",
      "Final results:\n",
      "                                                week  k  n_communities  \\\n",
      "0  /Users/lunaliu/Desktop/Grad School/FA 2024/SI ...  3            191   \n",
      "1  /Users/lunaliu/Desktop/Grad School/FA 2024/SI ...  4            115   \n",
      "2  /Users/lunaliu/Desktop/Grad School/FA 2024/SI ...  3            187   \n",
      "3  /Users/lunaliu/Desktop/Grad School/FA 2024/SI ...  4            113   \n",
      "4  /Users/lunaliu/Desktop/Grad School/FA 2024/SI ...  3            185   \n",
      "5  /Users/lunaliu/Desktop/Grad School/FA 2024/SI ...  4            113   \n",
      "\n",
      "   accuracy  avg_community_size  \n",
      "0  0.895904           16.691099  \n",
      "1  0.971664           10.086957  \n",
      "2  0.896075           16.935829  \n",
      "3  0.972101           10.203540  \n",
      "4  0.898428           17.086486  \n",
      "5  0.972101           10.203540  \n"
     ]
    }
   ],
   "source": [
    "if __name__ == \"__main__\":\n",
    "    main()"
   ]
  }
 ],
 "metadata": {
  "kernelspec": {
   "display_name": ".venv",
   "language": "python",
   "name": "python3"
  },
  "language_info": {
   "codemirror_mode": {
    "name": "ipython",
    "version": 3
   },
   "file_extension": ".py",
   "mimetype": "text/x-python",
   "name": "python",
   "nbconvert_exporter": "python",
   "pygments_lexer": "ipython3",
   "version": "3.12.1"
  }
 },
 "nbformat": 4,
 "nbformat_minor": 5
}
